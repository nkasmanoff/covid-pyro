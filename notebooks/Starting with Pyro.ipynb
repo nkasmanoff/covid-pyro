{
 "cells": [
  {
   "cell_type": "markdown",
   "metadata": {},
   "source": [
    "Implementation of the tutorial found at http://pyro.ai/examples/intro_part_ii.html, using inference in Pyro, with my comments"
   ]
  },
  {
   "cell_type": "code",
   "execution_count": 1,
   "metadata": {},
   "outputs": [],
   "source": [
    "import matplotlib.pyplot as plt\n",
    "import numpy as np\n",
    "import torch\n",
    "\n",
    "import pyro\n",
    "import pyro.infer\n",
    "import pyro.optim\n",
    "import pyro.distributions as dist\n",
    "\n",
    "pyro.set_rng_seed(101)"
   ]
  },
  {
   "cell_type": "markdown",
   "metadata": {},
   "source": [
    "In this example we are trying to figure out how much something weighs, but the scale we use gives slightly different answers every time we weigh the same object. \n",
    "\n",
    "We compensate for these noisy measurements by incorporating prior knowledge into a probability distribution which should describe how the weights provided by the scale vary. \n",
    "\n",
    "\n",
    "This is encoded by the following two distributions, \n",
    "\n",
    "weight | guess ~ Normal(guess, 1), and measurement | guess, weight ~ Normal(weight, .75)\n",
    "\n",
    "\n",
    "Where guess is what our prior estimate of the object's weight is, so the true weight is going to be a gaussian distribution of unit variance centered on our guess. Additionally, the measurement of the scale in turn is a combination of these two things, a normal distribution centered on the true weight with slightly less variance than what our guess was. "
   ]
  },
  {
   "cell_type": "code",
   "execution_count": 3,
   "metadata": {},
   "outputs": [],
   "source": [
    "def scale(guess):\n",
    "    \"\"\"\n",
    "    The distributions described above can be written in pyro as: \n",
    "    \n",
    "    \"\"\"\n",
    "    weight = pyro.sample(\"weight\", dist.Normal(guess, 1.0))\n",
    "    return pyro.sample(\"measurement\", dist.Normal(weight, 0.75))"
   ]
  },
  {
   "cell_type": "markdown",
   "metadata": {},
   "source": [
    "# Conditioning\n",
    "\n",
    "So far we haven't done anything special, but where Pyro separates us is that it allows us to condition generative models on observations, and infer latent factors by what might have produced that data (MCMC preview). In Pyro, conditioning is separate from it's evaluation, meaning it is possible to make a model and condition it on multiple things at once. So for our problem above, the observed data may come in many forms, and Pyro allows us to infer the other latent factors agnostic of where we start. \n",
    "\n",
    "\n",
    "\n",
    "As an example, consider we guess that the weight of an object is 8.5, but observe a measurement of 9.5. Accordingly, we wish to infer the distribution (weight | guess, measurement = 9.5) ~ ? (So given our prior and measurement, what is the true weight? \n",
    "\n",
    "Pyro allows us to do this with conditioned. \n"
   ]
  },
  {
   "cell_type": "code",
   "execution_count": 4,
   "metadata": {},
   "outputs": [],
   "source": [
    "conditioned_scale = pyro.condition(scale, data={\"measurement\": 9.5})\n"
   ]
  },
  {
   "cell_type": "code",
   "execution_count": 6,
   "metadata": {},
   "outputs": [
    {
     "data": {
      "text/plain": [
       "_bound_partial(functools.partial(<function _context_wrap at 0x2b9124800790>, <pyro.poutine.condition_messenger.ConditionMessenger object at 0x2b9124c969d0>, <function scale at 0x2b90b21773a0>))"
      ]
     },
     "execution_count": 6,
     "metadata": {},
     "output_type": "execute_result"
    }
   ],
   "source": [
    "conditioned_scale\n",
    "\n"
   ]
  },
  {
   "cell_type": "code",
   "execution_count": 7,
   "metadata": {},
   "outputs": [],
   "source": [
    "def deferred_conditioned_scale(measurement, guess):\n",
    "    \"\"\"\n",
    "    behaves just like an ordinary Python function, \n",
    "    conditioning can be deferred or parametrized with Python’s lambda or def\n",
    "    \"\"\"\n",
    "    return pyro.condition(scale, data={\"measurement\": measurement})(guess)"
   ]
  },
  {
   "cell_type": "code",
   "execution_count": 8,
   "metadata": {},
   "outputs": [],
   "source": [
    "def scale_obs(guess):  # equivalent to conditioned_scale above\n",
    "    \"\"\"\n",
    "    Now we sample on a conditional distribution, where the observation was given below.\n",
    "    \"\"\"\n",
    "    weight = pyro.sample(\"weight\", dist.Normal(guess, 1.))\n",
    "     # here we condition on measurement == 9.5\n",
    "    return pyro.sample(\"measurement\", dist.Normal(weight, 0.75), obs=9.5) "
   ]
  },
  {
   "cell_type": "code",
   "execution_count": 14,
   "metadata": {},
   "outputs": [
    {
     "data": {
      "text/plain": [
       "9.5"
      ]
     },
     "execution_count": 14,
     "metadata": {},
     "output_type": "execute_result"
    }
   ],
   "source": [
    "scale_obs(0) # returns the same thing agnostic of guess? \n",
    "\n",
    "# This makes sense I guess. Only one observation, we should center our weight and therefore guess around it. "
   ]
  },
  {
   "cell_type": "markdown",
   "metadata": {},
   "source": [
    "http://www.stat.cmu.edu/~brian/463-663/week09/Chapter%2003.pdf"
   ]
  },
  {
   "cell_type": "code",
   "execution_count": 18,
   "metadata": {},
   "outputs": [],
   "source": [
    "def perfect_guide(guess):\n",
    "    \"\"\"\n",
    "    An inference algorithm for computing the posterior, what our new weight estimate is given a guess and measurement. \n",
    "    \"\"\"\n",
    "    loc =(0.75**2 * guess + 9.5) / (1 + 0.75**2) # 9.14\n",
    "    scale = np.sqrt(0.75**2/(1 + 0.75**2)) # 0.6\n",
    "    return pyro.sample(\"weight\", dist.Normal(loc, scale))"
   ]
  },
  {
   "cell_type": "code",
   "execution_count": 24,
   "metadata": {},
   "outputs": [
    {
     "data": {
      "text/plain": [
       "tensor(-355.2377)"
      ]
     },
     "execution_count": 24,
     "metadata": {},
     "output_type": "execute_result"
    }
   ],
   "source": [
    "perfect_guide(-1000) #played around with this a bit... "
   ]
  },
  {
   "cell_type": "markdown",
   "metadata": {},
   "source": [
    "That's all for now, but here's another cool tutorial\n",
    "\n",
    "http://pyro.ai/examples/vae.html"
   ]
  },
  {
   "cell_type": "code",
   "execution_count": null,
   "metadata": {},
   "outputs": [],
   "source": []
  }
 ],
 "metadata": {
  "kernelspec": {
   "display_name": "Python 3",
   "language": "python",
   "name": "python3"
  },
  "language_info": {
   "codemirror_mode": {
    "name": "ipython",
    "version": 3
   },
   "file_extension": ".py",
   "mimetype": "text/x-python",
   "name": "python",
   "nbconvert_exporter": "python",
   "pygments_lexer": "ipython3",
   "version": "3.8.5"
  }
 },
 "nbformat": 4,
 "nbformat_minor": 4
}
