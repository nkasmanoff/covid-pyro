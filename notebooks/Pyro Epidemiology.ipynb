{
 "cells": [
  {
   "cell_type": "markdown",
   "metadata": {},
   "source": [
    "Drawing inspiration from \n",
    "\n",
    "https://github.com/robertness/causalML/tree/master/projects/epidemic%20modeling/COVID-19-SIR-Model\n",
    "\n",
    "and \n",
    "\n",
    "https://github.com/pyro-ppl/pyro/blob/dev/examples/sir_hmc.py\n",
    "\n",
    "what does a SIR epidemiological model look like?\n"
   ]
  },
  {
   "cell_type": "code",
   "execution_count": null,
   "metadata": {},
   "outputs": [],
   "source": []
  }
 ],
 "metadata": {
  "kernelspec": {
   "display_name": "Python 3",
   "language": "python",
   "name": "python3"
  },
  "language_info": {
   "codemirror_mode": {
    "name": "ipython",
    "version": 3
   },
   "file_extension": ".py",
   "mimetype": "text/x-python",
   "name": "python",
   "nbconvert_exporter": "python",
   "pygments_lexer": "ipython3",
   "version": "3.8.5"
  }
 },
 "nbformat": 4,
 "nbformat_minor": 4
}
