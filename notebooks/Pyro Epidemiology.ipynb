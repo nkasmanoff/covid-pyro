{
 "cells": [
  {
   "cell_type": "markdown",
   "metadata": {},
   "source": [
    "http://docs.pyro.ai/en/stable/contrib.epidemiology.html#:~:text=maintaining%20backwards%20compatibility.-,pyro.,and%20forecasting%20of%20future%20trajectories."
   ]
  },
  {
   "cell_type": "markdown",
   "metadata": {},
   "source": [
    "pyro.contrib.epidemiology provides a modeling language for a class of stochastic discrete-time discrete-count compartmental models. This module implements black-box inference (both Stochastic Variational Inference and Hamiltonian Monte Carlo), prediction of latent variables, and forecasting of future trajectories.\n",
    "\n"
   ]
  },
  {
   "cell_type": "code",
   "execution_count": 1,
   "metadata": {},
   "outputs": [
    {
     "ename": "ImportError",
     "evalue": "attempted relative import with no known parent package",
     "output_type": "error",
     "traceback": [
      "\u001b[0;31m---------------------------------------------------------------------------\u001b[0m",
      "\u001b[0;31mImportError\u001b[0m                               Traceback (most recent call last)",
      "\u001b[0;32m<ipython-input-1-f1eae42b484b>\u001b[0m in \u001b[0;36m<module>\u001b[0;34m\u001b[0m\n\u001b[1;32m      9\u001b[0m \u001b[0;32mimport\u001b[0m \u001b[0mpyro\u001b[0m\u001b[0;34m.\u001b[0m\u001b[0mdistributions\u001b[0m \u001b[0;32mas\u001b[0m \u001b[0mdist\u001b[0m\u001b[0;34m\u001b[0m\u001b[0;34m\u001b[0m\u001b[0m\n\u001b[1;32m     10\u001b[0m \u001b[0;34m\u001b[0m\u001b[0m\n\u001b[0;32m---> 11\u001b[0;31m \u001b[0;32mfrom\u001b[0m \u001b[0;34m.\u001b[0m\u001b[0mcompartmental\u001b[0m \u001b[0;32mimport\u001b[0m \u001b[0mCompartmentalModel\u001b[0m\u001b[0;34m\u001b[0m\u001b[0;34m\u001b[0m\u001b[0m\n\u001b[0m\u001b[1;32m     12\u001b[0m \u001b[0;32mfrom\u001b[0m \u001b[0;34m.\u001b[0m\u001b[0mdistributions\u001b[0m \u001b[0;32mimport\u001b[0m \u001b[0mbinomial_dist\u001b[0m\u001b[0;34m,\u001b[0m \u001b[0minfection_dist\u001b[0m\u001b[0;34m\u001b[0m\u001b[0;34m\u001b[0m\u001b[0m\n\u001b[1;32m     13\u001b[0m \u001b[0;34m\u001b[0m\u001b[0m\n",
      "\u001b[0;31mImportError\u001b[0m: attempted relative import with no known parent package"
     ]
    }
   ],
   "source": [
    "# SPDX-License-Identifier: Apache-2.0\n",
    "\n",
    "import re\n",
    "\n",
    "import torch\n",
    "from torch.nn.functional import pad\n",
    "\n",
    "import pyro\n",
    "import pyro.distributions as dist\n",
    "\n",
    "from .compartmental import CompartmentalModel\n",
    "from .distributions import binomial_dist, infection_dist\n",
    "\n",
    "\n",
    "class SimpleSIRModel(CompartmentalModel):\n",
    "    \"\"\"\n",
    "    Susceptible-Infected-Recovered model.\n",
    "\n",
    "    To customize this model we recommend forking and editing this class.\n",
    "\n",
    "    This is a stochastic discrete-time discrete-state model with three\n",
    "    compartments: \"S\" for susceptible, \"I\" for infected, and \"R\" for\n",
    "    recovered individuals (the recovered individuals are implicit: ``R =\n",
    "    population - S - I``) with transitions ``S -> I -> R``.\n",
    "\n",
    "    :param int population: Total ``population = S + I + R``.\n",
    "    :param float recovery_time: Mean recovery time (duration in state\n",
    "        ``I``). Must be greater than 1.\n",
    "    :param iterable data: Time series of new observed infections. Each time\n",
    "        step is Binomial distributed between 0 and the number of ``S -> I``\n",
    "        transitions. This allows false negative but no false positives.\n",
    "    \"\"\"\n",
    "\n",
    "    def __init__(self, population, recovery_time, data):\n",
    "        compartments = (\"S\", \"I\")  # R is implicit.\n",
    "        duration = len(data)\n",
    "        super().__init__(compartments, duration, population)\n",
    "\n",
    "        assert isinstance(recovery_time, float)\n",
    "        assert recovery_time > 1\n",
    "        self.recovery_time = recovery_time\n",
    "\n",
    "        self.data = data\n",
    "\n",
    "    def global_model(self):\n",
    "        tau = self.recovery_time\n",
    "        R0 = pyro.sample(\"R0\", dist.LogNormal(0., 1.))\n",
    "        rho = pyro.sample(\"rho\", dist.Beta(10, 10))\n",
    "        return R0, tau, rho\n",
    "\n",
    "    def initialize(self, params):\n",
    "        # Start with a single infection.\n",
    "        return {\"S\": self.population - 1, \"I\": 1}\n",
    "\n",
    "    def transition(self, params, state, t):\n",
    "        R0, tau, rho = params\n",
    "\n",
    "        # Sample flows between compartments.\n",
    "        S2I = pyro.sample(\"S2I_{}\".format(t),\n",
    "                          infection_dist(individual_rate=R0 / tau,\n",
    "                                         num_susceptible=state[\"S\"],\n",
    "                                         num_infectious=state[\"I\"],\n",
    "                                         population=self.population))\n",
    "        I2R = pyro.sample(\"I2R_{}\".format(t),\n",
    "                          binomial_dist(state[\"I\"], 1 / tau))\n",
    "\n",
    "        # Update compartments with flows.\n",
    "        state[\"S\"] = state[\"S\"] - S2I\n",
    "        state[\"I\"] = state[\"I\"] + S2I - I2R\n",
    "\n",
    "        # Condition on observations.\n",
    "        t_is_observed = isinstance(t, slice) or t < self.duration\n",
    "        pyro.sample(\"obs_{}\".format(t),\n",
    "                    binomial_dist(S2I, rho),\n",
    "                    obs=self.data[t] if t_is_observed else None)\n",
    "\n"
   ]
  },
  {
   "cell_type": "code",
   "execution_count": null,
   "metadata": {},
   "outputs": [],
   "source": [
    "SIR"
   ]
  }
 ],
 "metadata": {
  "kernelspec": {
   "display_name": "Python 3",
   "language": "python",
   "name": "python3"
  },
  "language_info": {
   "codemirror_mode": {
    "name": "ipython",
    "version": 3
   },
   "file_extension": ".py",
   "mimetype": "text/x-python",
   "name": "python",
   "nbconvert_exporter": "python",
   "pygments_lexer": "ipython3",
   "version": "3.8.5"
  }
 },
 "nbformat": 4,
 "nbformat_minor": 4
}
