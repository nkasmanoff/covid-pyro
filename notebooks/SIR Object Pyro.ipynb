{
 "cells": [
  {
   "cell_type": "markdown",
   "metadata": {},
   "source": [
    "Building on the tutorial at https://pyro.ai/examples/sir_hmc.html, the folks at Pyro created an additional interface for SIR modeling that compresses much of the info that that tutorial provided into a concrete interface for compartmental modeling. Below is that work, drawn from http://pyro.ai/examples/epi_intro.html"
   ]
  },
  {
   "cell_type": "code",
   "execution_count": 1,
   "metadata": {},
   "outputs": [],
   "source": [
    "import os\n",
    "import matplotlib.pyplot as plt\n",
    "import seaborn as sns\n",
    "import torch\n",
    "import pyro\n",
    "import pyro.distributions as dist\n",
    "from pyro.contrib.epidemiology import CompartmentalModel, binomial_dist, infection_dist\n",
    "\n",
    "%matplotlib inline\n",
    "#assert pyro.__version__.startswith('1.5.0') # I have 1.5.1, hopefully not a problem to comment this out. \n",
    "torch.set_default_dtype(torch.double)  # Required for MCMC inference.\n",
    "pyro.enable_validation(True)  # Always a good idea.\n",
    "smoke_test = ('CI' in os.environ)"
   ]
  },
  {
   "cell_type": "code",
   "execution_count": 2,
   "metadata": {},
   "outputs": [
    {
     "data": {
      "text/plain": [
       "'1.5.1'"
      ]
     },
     "execution_count": 2,
     "metadata": {},
     "output_type": "execute_result"
    }
   ],
   "source": [
    "pyro.__version__"
   ]
  },
  {
   "cell_type": "code",
   "execution_count": 3,
   "metadata": {},
   "outputs": [],
   "source": [
    "class SimpleSIRModel(CompartmentalModel):\n",
    "    def __init__(self, population, recovery_time, data):\n",
    "        compartments = (\"S\", \"I\")  # R is implicit.\n",
    "        duration = len(data)\n",
    "        super().__init__(compartments, duration, population)\n",
    "        assert isinstance(recovery_time, float)\n",
    "        assert recovery_time > 1\n",
    "        self.recovery_time = recovery_time\n",
    "        self.data = data\n",
    "\n",
    "    def global_model(self):\n",
    "        \"\"\"\n",
    "        samples global parameters and packs them into a single return value (here a tuple, but any structure is allowed). \n",
    "        The return value is available as the params argument to the other two methods.\n",
    "        \"\"\"\n",
    "        tau = self.recovery_time\n",
    "        R0 = pyro.sample(\"R0\", dist.LogNormal(0., 1.))\n",
    "        rho = pyro.sample(\"rho\", dist.Beta(100, 100))\n",
    "        return R0, tau, rho\n",
    "\n",
    "    def initialize(self, params):\n",
    "        \"\"\"\n",
    "        samples (or deterministically sets) initial values of time series,\n",
    "        returning a dictionary mapping time series name to initial value.\n",
    "        \"\"\"\n",
    "        # Start with a single infection.\n",
    "        return {\"S\": self.population - 1, \"I\": 1}\n",
    "\n",
    "    def transition(self, params, state, t):\n",
    "        \"\"\"\n",
    "        inputs global params, the state at the previous time step, and the time index t (which may be a slice!). \n",
    "        It then samples flows and updates the state dict.\n",
    "        \"\"\"\n",
    "        R0, tau, rho = params\n",
    "\n",
    "        # Sample flows between compartments.\n",
    "        S2I = pyro.sample(\"S2I_{}\".format(t),\n",
    "                          infection_dist(individual_rate=R0 / tau,\n",
    "                                         num_susceptible=state[\"S\"],\n",
    "                                         num_infectious=state[\"I\"],\n",
    "                                         population=self.population))\n",
    "        I2R = pyro.sample(\"I2R_{}\".format(t),\n",
    "                          binomial_dist(state[\"I\"], 1 / tau))\n",
    "\n",
    "        # Update compartments with flows.\n",
    "        state[\"S\"] = state[\"S\"] - S2I\n",
    "        state[\"I\"] = state[\"I\"] + S2I - I2R\n",
    "\n",
    "        # Condition on observations.\n",
    "        t_is_observed = isinstance(t, slice) or t < self.duration\n",
    "        pyro.sample(\"obs_{}\".format(t),\n",
    "                    binomial_dist(S2I, rho),\n",
    "                    obs=self.data[t] if t_is_observed else None)"
   ]
  },
  {
   "cell_type": "markdown",
   "metadata": {},
   "source": [
    "## Generating Data\n",
    "\n",
    "What if I don't want to do this? "
   ]
  },
  {
   "cell_type": "code",
   "execution_count": 74,
   "metadata": {},
   "outputs": [
    {
     "name": "stdout",
     "output_type": "stream",
     "text": [
      "Simulated 129.0 infections after 100 attempts\n"
     ]
    }
   ],
   "source": [
    "population = 10000\n",
    "recovery_time = 10.\n",
    "empty_data = [None] * 90\n",
    "model = SimpleSIRModel(population, recovery_time, empty_data)\n",
    "\n",
    "# We'll repeatedly generate data until a desired number of infections is found.\n",
    "pyro.set_rng_seed(20200709)\n",
    "for attempt in range(100):\n",
    "    synth_data = model.generate({\"R0\": 1.7})\n",
    "    total_infections = synth_data[\"S2I\"].sum().item()\n",
    "    if 4000 <= total_infections <= 6000:\n",
    "        break\n",
    "print(\"Simulated {} infections after {} attempts\".format(total_infections, 1 + attempt))\n"
   ]
  },
  {
   "cell_type": "code",
   "execution_count": 75,
   "metadata": {},
   "outputs": [
    {
     "data": {
      "text/plain": [
       "OrderedDict([('R0', tensor(1.7000)),\n",
       "             ('rho', tensor(0.4476)),\n",
       "             ('I2R',\n",
       "              tensor([0., 0., 0., 0., 0., 0., 0., 1., 0., 0., 1., 1., 0., 0., 0., 0., 0., 0.,\n",
       "                      0., 0., 0., 0., 0., 0., 0., 0., 0., 0., 0., 0., 0., 0., 0., 0., 0., 0.,\n",
       "                      0., 0., 0., 0., 0., 0., 0., 0., 0., 0., 1., 0., 0., 0., 0., 1., 0., 0.,\n",
       "                      0., 0., 0., 1., 0., 1., 1., 1., 0., 2., 1., 0., 0., 0., 1., 0., 1., 1.,\n",
       "                      0., 0., 0., 2., 0., 1., 1., 2., 1., 5., 0., 6., 2., 3., 3., 1., 7., 5.])),\n",
       "             ('S',\n",
       "              tensor([9999., 9999., 9999., 9999., 9999., 9998., 9998., 9998., 9998., 9998.,\n",
       "                      9997., 9997., 9997., 9997., 9997., 9997., 9997., 9997., 9997., 9997.,\n",
       "                      9997., 9997., 9997., 9997., 9997., 9997., 9997., 9997., 9997., 9997.,\n",
       "                      9997., 9997., 9997., 9997., 9997., 9997., 9997., 9997., 9997., 9997.,\n",
       "                      9997., 9997., 9996., 9996., 9996., 9995., 9995., 9995., 9994., 9994.,\n",
       "                      9994., 9994., 9994., 9993., 9993., 9992., 9990., 9990., 9987., 9987.,\n",
       "                      9986., 9984., 9984., 9984., 9984., 9984., 9984., 9984., 9982., 9980.,\n",
       "                      9979., 9978., 9978., 9975., 9974., 9971., 9969., 9966., 9964., 9961.,\n",
       "                      9954., 9950., 9944., 9936., 9926., 9918., 9909., 9893., 9882., 9870.])),\n",
       "             ('obs',\n",
       "              tensor([0., 0., 0., 0., 0., 1., 0., 0., 0., 0., 0., 0., 0., 0., 0., 0., 0., 0.,\n",
       "                      0., 0., 0., 0., 0., 0., 0., 0., 0., 0., 0., 0., 0., 0., 0., 0., 0., 0.,\n",
       "                      0., 0., 0., 0., 0., 0., 1., 0., 0., 0., 0., 0., 0., 0., 0., 0., 0., 0.,\n",
       "                      0., 0., 0., 0., 0., 0., 0., 1., 0., 0., 0., 0., 0., 0., 2., 2., 1., 1.,\n",
       "                      0., 2., 1., 0., 0., 1., 2., 2., 1., 1., 1., 2., 3., 5., 4., 9., 5., 5.])),\n",
       "             ('S2I',\n",
       "              tensor([ 0.,  0.,  0.,  0.,  0.,  1.,  0.,  0.,  0.,  0.,  1.,  0.,  0.,  0.,\n",
       "                       0.,  0.,  0.,  0.,  0.,  0.,  0.,  0.,  0.,  0.,  0.,  0.,  0.,  0.,\n",
       "                       0.,  0.,  0.,  0.,  0.,  0.,  0.,  0.,  0.,  0.,  0.,  0.,  0.,  0.,\n",
       "                       1.,  0.,  0.,  1.,  0.,  0.,  1.,  0.,  0.,  0.,  0.,  1.,  0.,  1.,\n",
       "                       2.,  0.,  3.,  0.,  1.,  2.,  0.,  0.,  0.,  0.,  0.,  0.,  2.,  2.,\n",
       "                       1.,  1.,  0.,  3.,  1.,  3.,  2.,  3.,  2.,  3.,  7.,  4.,  6.,  8.,\n",
       "                      10.,  8.,  9., 16., 11., 12.])),\n",
       "             ('I',\n",
       "              tensor([ 1.,  1.,  1.,  1.,  1.,  2.,  2.,  1.,  1.,  1.,  1.,  0.,  0.,  0.,\n",
       "                       0.,  0.,  0.,  0.,  0.,  0.,  0.,  0.,  0.,  0.,  0.,  0.,  0.,  0.,\n",
       "                       0.,  0.,  0.,  0.,  0.,  0.,  0.,  0.,  0.,  0.,  0.,  0.,  0.,  0.,\n",
       "                       1.,  1.,  1.,  2.,  1.,  1.,  2.,  2.,  2.,  1.,  1.,  2.,  2.,  3.,\n",
       "                       5.,  4.,  7.,  6.,  6.,  7.,  7.,  5.,  4.,  4.,  4.,  4.,  5.,  7.,\n",
       "                       7.,  7.,  7., 10., 11., 12., 14., 16., 17., 18., 24., 23., 29., 31.,\n",
       "                      39., 44., 50., 65., 69., 76.]))])"
      ]
     },
     "execution_count": 75,
     "metadata": {},
     "output_type": "execute_result"
    }
   ],
   "source": [
    "synth_data"
   ]
  },
  {
   "cell_type": "markdown",
   "metadata": {},
   "source": [
    "For the model to work, it requires S, S2I, I, I2R, obs (noisy S2I), R0, and rho. \n",
    "\n",
    "\n",
    "At the moment, all of these things are synthetically generated, after we first specify R0, rho and population. \n",
    "\n",
    "For real world, I'll try this now, but we set:\n",
    "\n",
    "S2I = obs, and use reported values for the others. In essence we no longer use the noisy observations and assume whatever is reported is right? \n",
    "\n",
    "I'm not sure if the model will work if we do not specify R0 or rho, so will have to try this and find out. "
   ]
  },
  {
   "cell_type": "code",
   "execution_count": 71,
   "metadata": {},
   "outputs": [
    {
     "name": "stdout",
     "output_type": "stream",
     "text": [
      "I.shape = (90,)\n",
      "I2R.shape = (90,)\n",
      "R0.shape = ()\n",
      "S.shape = (90,)\n",
      "S2I.shape = (90,)\n",
      "obs.shape = (90,)\n",
      "rho.shape = ()\n"
     ]
    }
   ],
   "source": [
    "for key, value in sorted(synth_data.items()):\n",
    "    print(\"{}.shape = {}\".format(key, tuple(value.shape)))\n",
    "    "
   ]
  },
  {
   "cell_type": "code",
   "execution_count": 72,
   "metadata": {},
   "outputs": [
    {
     "data": {
      "image/png": "[encoded data removed]",
      "text/plain": [
       "<Figure size 576x288 with 1 Axes>"
      ]
     },
     "metadata": {
      "needs_background": "light"
     },
     "output_type": "display_data"
    }
   ],
   "source": [
    "plt.figure(figsize=(8,4))\n",
    "for name, value in sorted(synth_data.items()):\n",
    "    if value.dim():\n",
    "        plt.plot(value, label=name)\n",
    "plt.xlim(0, len(empty_data) - 1)\n",
    "plt.ylim(0.8, None)\n",
    "plt.xlabel(\"time step\")\n",
    "plt.ylabel(\"individuals\")\n",
    "plt.yscale(\"log\")\n",
    "plt.legend(loc=\"best\")\n",
    "plt.title(\"Synthetic time series\")\n",
    "plt.tight_layout()"
   ]
  },
  {
   "cell_type": "markdown",
   "metadata": {},
   "source": [
    "## Inference"
   ]
  },
  {
   "cell_type": "code",
   "execution_count": 60,
   "metadata": {},
   "outputs": [],
   "source": [
    "# what if we only have obs? can we estimate using just that? \n",
    "obs = synth_data[\"obs\"]\n",
    "model = SimpleSIRModel(population*2, recovery_time, obs*2) \n"
   ]
  },
  {
   "cell_type": "code",
   "execution_count": null,
   "metadata": {},
   "outputs": [],
   "source": []
  },
  {
   "cell_type": "code",
   "execution_count": 61,
   "metadata": {},
   "outputs": [
    {
     "name": "stderr",
     "output_type": "stream",
     "text": [
      "INFO \t Heuristic init: R0=2.25, rho=0.538\n",
      "INFO \t Running inference...\n",
      "INFO \t step 0 loss = 5.454\n",
      "INFO \t step 200 loss = 662.6\n",
      "INFO \t step 400 loss = 12.75\n",
      "INFO \t step 600 loss = 8.658\n",
      "INFO \t step 800 loss = 5.255\n",
      "INFO \t step 1000 loss = 4.694\n",
      "INFO \t step 1200 loss = 4.329\n",
      "INFO \t step 1400 loss = 4.206\n",
      "INFO \t step 1600 loss = 4.092\n",
      "INFO \t step 1800 loss = 4.038\n",
      "INFO \t step 2000 loss = 4.001\n",
      "INFO \t SVI took 17.6 seconds, 113.7 step/sec\n"
     ]
    },
    {
     "name": "stdout",
     "output_type": "stream",
     "text": [
      "CPU times: user 18.4 s, sys: 39.9 ms, total: 18.5 s\n",
      "Wall time: 18.5 s\n"
     ]
    }
   ],
   "source": [
    "%%time\n",
    "losses = model.fit_svi(num_steps=101 if smoke_test else 2001,\n",
    "                       jit=True)"
   ]
  },
  {
   "cell_type": "code",
   "execution_count": 62,
   "metadata": {},
   "outputs": [
    {
     "data": {
      "image/png": "[encoded data removed]",
      "text/plain": [
       "<Figure size 576x216 with 1 Axes>"
      ]
     },
     "metadata": {
      "needs_background": "light"
     },
     "output_type": "display_data"
    }
   ],
   "source": [
    "plt.figure(figsize=(8, 3))\n",
    "plt.plot(losses)\n",
    "plt.xlabel(\"SVI step\")\n",
    "plt.ylabel(\"loss\")\n",
    "plt.ylim(min(losses), max(losses[50:]));"
   ]
  },
  {
   "cell_type": "code",
   "execution_count": 63,
   "metadata": {},
   "outputs": [
    {
     "name": "stdout",
     "output_type": "stream",
     "text": [
      "R0.shape = (100, 1)\n",
      "auxiliary.shape = (100, 1, 2, 90)\n",
      "rho.shape = (100, 1)\n"
     ]
    }
   ],
   "source": [
    "for key, value in sorted(model.samples.items()):\n",
    "    print(\"{}.shape = {}\".format(key, tuple(value.shape)))"
   ]
  },
  {
   "cell_type": "markdown",
   "metadata": {},
   "source": [
    "## Prediction"
   ]
  },
  {
   "cell_type": "code",
   "execution_count": 64,
   "metadata": {},
   "outputs": [
    {
     "name": "stderr",
     "output_type": "stream",
     "text": [
      "INFO \t Predicting latent variables for 90 time steps...\n"
     ]
    },
    {
     "name": "stdout",
     "output_type": "stream",
     "text": [
      "CPU times: user 188 ms, sys: 3.02 ms, total: 191 ms\n",
      "Wall time: 194 ms\n"
     ]
    }
   ],
   "source": [
    "%%time\n",
    "samples = model.predict()"
   ]
  },
  {
   "cell_type": "code",
   "execution_count": 65,
   "metadata": {},
   "outputs": [
    {
     "name": "stdout",
     "output_type": "stream",
     "text": [
      "I.shape = (100, 90)\n",
      "I2R.shape = (100, 90)\n",
      "R0.shape = (100, 1)\n",
      "S.shape = (100, 90)\n",
      "S2I.shape = (100, 90)\n",
      "auxiliary.shape = (100, 1, 2, 90)\n",
      "obs.shape = (100, 90)\n",
      "rho.shape = (100, 1)\n"
     ]
    }
   ],
   "source": [
    "for key, value in sorted(samples.items()):\n",
    "    print(\"{}.shape = {}\".format(key, tuple(value.shape)))"
   ]
  },
  {
   "cell_type": "code",
   "execution_count": 66,
   "metadata": {},
   "outputs": [
    {
     "name": "stderr",
     "output_type": "stream",
     "text": [
      "/home/nsk367/anaconda3/envs/pyro/lib/python3.8/site-packages/seaborn/distributions.py:2551: FutureWarning: `distplot` is a deprecated function and will be removed in a future version. Please adapt your code to use either `displot` (a figure-level function with similar flexibility) or `histplot` (an axes-level function for histograms).\n",
      "  warnings.warn(msg, FutureWarning)\n",
      "/home/nsk367/anaconda3/envs/pyro/lib/python3.8/site-packages/seaborn/distributions.py:2551: FutureWarning: `distplot` is a deprecated function and will be removed in a future version. Please adapt your code to use either `displot` (a figure-level function with similar flexibility) or `histplot` (an axes-level function for histograms).\n",
      "  warnings.warn(msg, FutureWarning)\n"
     ]
    },
    {
     "data": {
      "image/png": "[encoded data removed]",
      "text/plain": [
       "<Figure size 360x360 with 2 Axes>"
      ]
     },
     "metadata": {
      "needs_background": "light"
     },
     "output_type": "display_data"
    }
   ],
   "source": [
    "names = [\"R0\", \"rho\"]\n",
    "fig, axes = plt.subplots(2, 1, figsize=(5, 5))\n",
    "axes[0].set_title(\"Posterior estimates of global parameters\")\n",
    "for ax, name in zip(axes, names):\n",
    "    truth = synth_data[name]\n",
    "    sns.distplot(samples[name], ax=ax, label=\"posterior\")\n",
    "    ax.axvline(truth, color=\"k\", label=\"truth\")\n",
    "    ax.set_xlabel(name)\n",
    "    ax.set_yticks(())\n",
    "    ax.legend(loc=\"best\")\n",
    "plt.tight_layout()\n"
   ]
  },
  {
   "cell_type": "markdown",
   "metadata": {},
   "source": [
    "## Forecasting"
   ]
  },
  {
   "cell_type": "code",
   "execution_count": 67,
   "metadata": {},
   "outputs": [
    {
     "name": "stderr",
     "output_type": "stream",
     "text": [
      "INFO \t Predicting latent variables for 90 time steps...\n",
      "INFO \t Forecasting 30 steps ahead...\n"
     ]
    },
    {
     "name": "stdout",
     "output_type": "stream",
     "text": [
      "CPU times: user 3 µs, sys: 0 ns, total: 3 µs\n",
      "Wall time: 5.48 µs\n"
     ]
    }
   ],
   "source": [
    "%time\n",
    "samples = model.predict(forecast=30)"
   ]
  },
  {
   "cell_type": "code",
   "execution_count": 68,
   "metadata": {},
   "outputs": [
    {
     "data": {
      "image/png": "[encoded data removed]",
      "text/plain": [
       "<Figure size 576x288 with 1 Axes>"
      ]
     },
     "metadata": {
      "needs_background": "light"
     },
     "output_type": "display_data"
    }
   ],
   "source": [
    "\n",
    "def plot_forecast(samples):\n",
    "    duration = len(empty_data)\n",
    "    forecast = samples[\"S\"].size(-1) - duration\n",
    "    num_samples = len(samples[\"R0\"])\n",
    "\n",
    "    time = torch.arange(duration + forecast)\n",
    "    S2I = samples[\"S2I\"]\n",
    "    median = S2I.median(dim=0).values\n",
    "    p05 = S2I.kthvalue(int(round(0.5 + 0.05 * num_samples)), dim=0).values\n",
    "    p95 = S2I.kthvalue(int(round(0.5 + 0.95 * num_samples)), dim=0).values\n",
    "\n",
    "    plt.figure(figsize=(8, 4))\n",
    "    plt.fill_between(time, p05, p95, color=\"red\", alpha=0.3, label=\"90% CI\")\n",
    "    plt.plot(time, median, \"r-\", label=\"median\")\n",
    "    plt.plot(time[:duration], obs, \"k.\", label=\"observed\")\n",
    "    plt.plot(time[:duration], synth_data[\"S2I\"], \"k--\", label=\"truth\")\n",
    "    plt.axvline(duration - 0.5, color=\"gray\", lw=1)\n",
    "    plt.xlim(0, len(time) - 1)\n",
    "    plt.ylim(0, None)\n",
    "    plt.xlabel(\"day after first infection\")\n",
    "    plt.ylabel(\"new infections per day\")\n",
    "    plt.title(\"New infections in population of {}\".format(population))\n",
    "    plt.legend(loc=\"upper left\")\n",
    "    plt.tight_layout()\n",
    "\n",
    "plot_forecast(samples)"
   ]
  },
  {
   "cell_type": "markdown",
   "metadata": {},
   "source": [
    "A suggestion of the authors is to use MCMC rather than SVI to estimate, and this will produce better results with only a little longer compute time. I will avoid doing that for the moment, because I would consider it a higher priority to figure out how to run this model with actual data, rather than manufactured. "
   ]
  },
  {
   "cell_type": "code",
   "execution_count": null,
   "metadata": {},
   "outputs": [],
   "source": [
    "synth_data"
   ]
  },
  {
   "cell_type": "code",
   "execution_count": null,
   "metadata": {},
   "outputs": [],
   "source": []
  }
 ],
 "metadata": {
  "kernelspec": {
   "display_name": "Python 3",
   "language": "python",
   "name": "python3"
  },
  "language_info": {
   "codemirror_mode": {
    "name": "ipython",
    "version": 3
   },
   "file_extension": ".py",
   "mimetype": "text/x-python",
   "name": "python",
   "nbconvert_exporter": "python",
   "pygments_lexer": "ipython3",
   "version": "3.8.5"
  }
 },
 "nbformat": 4,
 "nbformat_minor": 4
}
