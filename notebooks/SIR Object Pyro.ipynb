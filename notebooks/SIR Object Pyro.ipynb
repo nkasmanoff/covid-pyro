{
 "cells": [
  {
   "cell_type": "markdown",
   "metadata": {},
   "source": [
    "Building on the tutorial at https://pyro.ai/examples/sir_hmc.html, the folks at Pyro created an additional interface for SIR modeling that compresses much of the info that that tutorial provided into a concrete interface for compartmental modeling. Below is that work, drawn from http://pyro.ai/examples/epi_intro.html"
   ]
  },
  {
   "cell_type": "code",
   "execution_count": 1,
   "metadata": {},
   "outputs": [],
   "source": [
    "import os\n",
    "import matplotlib.pyplot as plt\n",
    "import seaborn as sns\n",
    "import torch\n",
    "import pyro\n",
    "import pyro.distributions as dist\n",
    "from pyro.contrib.epidemiology import CompartmentalModel, binomial_dist, infection_dist\n",
    "\n",
    "%matplotlib inline\n",
    "#assert pyro.__version__.startswith('1.5.0') # I have 1.5.1, hopefully not a problem to comment this out. \n",
    "torch.set_default_dtype(torch.double)  # Required for MCMC inference.\n",
    "pyro.enable_validation(True)  # Always a good idea.\n",
    "smoke_test = ('CI' in os.environ)"
   ]
  },
  {
   "cell_type": "code",
   "execution_count": 2,
   "metadata": {},
   "outputs": [
    {
     "data": {
      "text/plain": [
       "'1.5.0'"
      ]
     },
     "execution_count": 2,
     "metadata": {},
     "output_type": "execute_result"
    }
   ],
   "source": [
    "pyro.__version__"
   ]
  },
  {
   "cell_type": "code",
   "execution_count": 10,
   "metadata": {},
   "outputs": [],
   "source": [
    "ros = []\n",
    "for i in range(1000):\n",
    "    R0 = pyro.sample(\"R0\", dist.LogNormal(0., 1.))\n",
    "    ros.append(R0.item())"
   ]
  },
  {
   "cell_type": "code",
   "execution_count": 12,
   "metadata": {},
   "outputs": [
    {
     "data": {
      "text/plain": [
       "(array([935.,  53.,   7.,   1.,   2.,   1.,   0.,   0.,   0.,   1.]),\n",
       " array([2.93749378e-02, 4.54523334e+00, 9.06109173e+00, 1.35769501e+01,\n",
       "        1.80928085e+01, 2.26086669e+01, 2.71245253e+01, 3.16403837e+01,\n",
       "        3.61562421e+01, 4.06721005e+01, 4.51879589e+01]),\n",
       " <BarContainer object of 10 artists>)"
      ]
     },
     "execution_count": 12,
     "metadata": {},
     "output_type": "execute_result"
    },
    {
     "data": {
      "image/png": "[encoded data removed]",
      "text/plain": [
       "<Figure size 432x288 with 1 Axes>"
      ]
     },
     "metadata": {
      "needs_background": "light"
     },
     "output_type": "display_data"
    }
   ],
   "source": [
    "plt.hist(ros)"
   ]
  },
  {
   "cell_type": "markdown",
   "metadata": {},
   "source": [
    "Word. This is what it expects R0 to be, most likely btw 0 and 1. Is updated accordingly!"
   ]
  },
  {
   "cell_type": "code",
   "execution_count": 13,
   "metadata": {},
   "outputs": [],
   "source": [
    "class SimpleSIRModel(CompartmentalModel):\n",
    "    def __init__(self, population, recovery_time, data):\n",
    "        compartments = (\"S\", \"I\")  # R is implicit.\n",
    "        duration = len(data)\n",
    "        super().__init__(compartments, duration, population)\n",
    "        assert isinstance(recovery_time, float)\n",
    "        assert recovery_time > 1\n",
    "        self.recovery_time = recovery_time\n",
    "        self.data = data\n",
    "\n",
    "    def global_model(self):\n",
    "        \"\"\"\n",
    "        samples global parameters and packs them into a single return value (here a tuple, but any structure is allowed). \n",
    "        The return value is available as the params argument to the other two methods.\n",
    "        \"\"\"\n",
    "        tau = self.recovery_time\n",
    "        R0 = pyro.sample(\"R0\", dist.LogNormal(0., 1.))\n",
    "        rho = pyro.sample(\"rho\", dist.Beta(100, 100))\n",
    "        return R0, tau, rho\n",
    "\n",
    "    def initialize(self, params):\n",
    "        \"\"\"\n",
    "        samples (or deterministically sets) initial values of time series,\n",
    "        returning a dictionary mapping time series name to initial value.\n",
    "        \"\"\"\n",
    "        # Start with a single infection.\n",
    "        return {\"S\": self.population - 1, \"I\": 1}\n",
    "\n",
    "    def transition(self, params, state, t):\n",
    "        \"\"\"\n",
    "        inputs global params, the state at the previous time step, and the time index t (which may be a slice!). \n",
    "        It then samples flows and updates the state dict.\n",
    "        \"\"\"\n",
    "        R0, tau, rho = params # R0 \n",
    "\n",
    "        # Sample flows between compartments.\n",
    "        S2I = pyro.sample(\"S2I_{}\".format(t),\n",
    "                          infection_dist(individual_rate=R0 / tau,\n",
    "                                         num_susceptible=state[\"S\"],\n",
    "                                         num_infectious=state[\"I\"],\n",
    "                                         population=self.population))\n",
    "        I2R = pyro.sample(\"I2R_{}\".format(t),\n",
    "                          binomial_dist(state[\"I\"], 1 / tau))\n",
    "\n",
    "        # Update compartments with flows.\n",
    "        state[\"S\"] = state[\"S\"] - S2I\n",
    "        state[\"I\"] = state[\"I\"] + S2I - I2R\n",
    "\n",
    "        # Condition on observations.\n",
    "        t_is_observed = isinstance(t, slice) or t < self.duration\n",
    "        pyro.sample(\"obs_{}\".format(t),\n",
    "                    binomial_dist(S2I, rho),\n",
    "                    obs=self.data[t] if t_is_observed else None)"
   ]
  },
  {
   "cell_type": "markdown",
   "metadata": {},
   "source": [
    "## Generating Data\n",
    "\n",
    "What if I don't want to do this? "
   ]
  },
  {
   "cell_type": "code",
   "execution_count": 15,
   "metadata": {},
   "outputs": [
    {
     "name": "stdout",
     "output_type": "stream",
     "text": [
      "Simulated 4382.0 infections after 9 attempts\n"
     ]
    }
   ],
   "source": [
    "population = 10000\n",
    "recovery_time = 10.\n",
    "empty_data = [None] * 300\n",
    "model = SimpleSIRModel(population, recovery_time, empty_data)\n",
    "\n",
    "# We'll repeatedly generate data until a desired number of infections is found.\n",
    "pyro.set_rng_seed(20200709)\n",
    "for attempt in range(100):\n",
    "    synth_data = model.generate({\"R0\": 1.7})\n",
    "    total_infections = synth_data[\"S2I\"].sum().item()\n",
    "    if 4000 <= total_infections <= 6000:\n",
    "        break\n",
    "print(\"Simulated {} infections after {} attempts\".format(total_infections, 1 + attempt))\n"
   ]
  },
  {
   "cell_type": "code",
   "execution_count": 81,
   "metadata": {},
   "outputs": [
    {
     "data": {
      "text/plain": [
       "OrderedDict([('R0', tensor(1.7000)),\n",
       "             ('rho', tensor(0.4613)),\n",
       "             ('I2R',\n",
       "              tensor([0.0000e+00, 3.2000e+01, 5.2000e+01, 8.9000e+01, 1.1200e+02, 1.3600e+02,\n",
       "                      1.5800e+02, 1.6100e+02, 2.0100e+02, 2.0000e+02, 2.2000e+02, 2.2800e+02,\n",
       "                      2.4800e+02, 2.7100e+02, 2.9200e+02, 3.2400e+02, 3.4100e+02, 3.2600e+02,\n",
       "                      3.4000e+02, 3.6300e+02, 4.1100e+02, 4.4100e+02, 4.8200e+02, 4.9500e+02,\n",
       "                      5.0700e+02, 5.8500e+02, 6.4200e+02, 6.6300e+02, 7.5300e+02, 7.6900e+02,\n",
       "                      8.8800e+02, 8.9600e+02, 9.6300e+02, 1.0250e+03, 1.1000e+03, 1.1380e+03,\n",
       "                      1.2990e+03, 1.2710e+03, 1.4810e+03, 1.5530e+03, 1.6560e+03, 1.7820e+03,\n",
       "                      1.8440e+03, 2.0230e+03, 2.1060e+03, 2.2170e+03, 2.4300e+03, 2.7100e+03,\n",
       "                      2.7270e+03, 2.9430e+03, 3.2180e+03, 3.4400e+03, 3.7220e+03, 3.8580e+03,\n",
       "                      4.2090e+03, 4.5580e+03, 4.8580e+03, 5.1360e+03, 5.4350e+03, 5.8510e+03,\n",
       "                      6.3760e+03, 6.6530e+03, 7.3250e+03, 7.8990e+03, 8.4470e+03, 9.1440e+03,\n",
       "                      9.6970e+03, 1.0309e+04, 1.1157e+04, 1.1776e+04, 1.2525e+04, 1.3481e+04,\n",
       "                      1.4547e+04, 1.5543e+04, 1.6549e+04, 1.7447e+04, 1.8876e+04, 2.0209e+04,\n",
       "                      2.1776e+04, 2.3269e+04, 2.4685e+04, 2.6467e+04, 2.8739e+04, 3.0739e+04,\n",
       "                      3.2721e+04, 3.4607e+04, 3.7207e+04, 3.9902e+04, 4.2735e+04, 4.5927e+04,\n",
       "                      4.8931e+04, 5.2133e+04, 5.5795e+04, 5.9871e+04, 6.4042e+04, 6.8735e+04,\n",
       "                      7.3099e+04, 7.7995e+04, 8.3747e+04, 8.9380e+04, 9.5907e+04, 1.0197e+05,\n",
       "                      1.0909e+05, 1.1642e+05, 1.2457e+05, 1.3268e+05, 1.4192e+05, 1.5182e+05,\n",
       "                      1.6248e+05, 1.7268e+05, 1.8522e+05, 1.9713e+05, 2.1097e+05, 2.2466e+05,\n",
       "                      2.4024e+05, 2.5526e+05, 2.7168e+05, 2.9086e+05, 3.1055e+05, 3.3000e+05,\n",
       "                      3.5202e+05, 3.7431e+05, 3.9934e+05, 4.2593e+05, 4.5268e+05, 4.8238e+05,\n",
       "                      5.1134e+05, 5.4411e+05, 5.7852e+05, 6.1458e+05, 6.5275e+05, 6.9296e+05,\n",
       "                      7.3605e+05, 7.7897e+05, 8.2477e+05, 8.7460e+05, 9.2404e+05, 9.7768e+05,\n",
       "                      1.0331e+06, 1.0915e+06, 1.1520e+06, 1.2126e+06, 1.2779e+06, 1.3457e+06,\n",
       "                      1.4142e+06, 1.4833e+06, 1.5586e+06, 1.6319e+06, 1.7078e+06, 1.7854e+06,\n",
       "                      1.8615e+06, 1.9417e+06, 2.0212e+06, 2.1025e+06, 2.1836e+06, 2.2660e+06,\n",
       "                      2.3448e+06, 2.4235e+06, 2.4991e+06, 2.5768e+06, 2.6540e+06, 2.7220e+06,\n",
       "                      2.7884e+06, 2.8547e+06, 2.9150e+06, 2.9729e+06, 3.0289e+06, 3.0747e+06,\n",
       "                      3.1192e+06, 3.1598e+06, 3.1909e+06, 3.2203e+06, 3.2453e+06, 3.2617e+06,\n",
       "                      3.2707e+06, 3.2768e+06, 3.2806e+06, 3.2754e+06, 3.2630e+06, 3.2472e+06,\n",
       "                      3.2309e+06, 3.2041e+06, 3.1721e+06, 3.1380e+06, 3.0970e+06, 3.0586e+06,\n",
       "                      3.0131e+06, 2.9624e+06, 2.9081e+06, 2.8534e+06, 2.7920e+06, 2.7369e+06,\n",
       "                      2.6756e+06, 2.6112e+06, 2.5452e+06, 2.4818e+06, 2.4179e+06, 2.3487e+06,\n",
       "                      2.2799e+06, 2.2176e+06, 2.1513e+06, 2.0809e+06, 2.0178e+06, 1.9515e+06,\n",
       "                      1.8875e+06, 1.8253e+06, 1.7609e+06, 1.7007e+06, 1.6403e+06, 1.5806e+06,\n",
       "                      1.5239e+06, 1.4661e+06, 1.4106e+06, 1.3567e+06, 1.3074e+06, 1.2544e+06,\n",
       "                      1.2076e+06, 1.1572e+06, 1.1112e+06, 1.0651e+06, 1.0235e+06, 9.8168e+05,\n",
       "                      9.3986e+05, 9.0316e+05, 8.6433e+05, 8.2936e+05, 7.9345e+05, 7.5977e+05,\n",
       "                      7.2624e+05, 6.9588e+05, 6.6569e+05, 6.3635e+05, 6.0824e+05, 5.8143e+05,\n",
       "                      5.5556e+05, 5.3191e+05, 5.0760e+05, 4.8491e+05, 4.6362e+05, 4.4262e+05,\n",
       "                      4.2260e+05, 4.0372e+05, 3.8521e+05, 3.6907e+05, 3.5108e+05, 3.3569e+05,\n",
       "                      3.2106e+05, 3.0619e+05, 2.9095e+05, 2.7836e+05, 2.6538e+05, 2.5374e+05,\n",
       "                      2.4165e+05, 2.3084e+05, 2.1956e+05, 2.1016e+05, 1.9937e+05, 1.9060e+05,\n",
       "                      1.8234e+05, 1.7322e+05, 1.6537e+05, 1.5779e+05, 1.5034e+05, 1.4336e+05,\n",
       "                      1.3595e+05, 1.3010e+05, 1.2408e+05, 1.1865e+05, 1.1310e+05, 1.0716e+05,\n",
       "                      1.0301e+05, 9.7961e+04, 9.3347e+04, 8.8403e+04, 8.4380e+04, 8.0570e+04,\n",
       "                      7.6429e+04, 7.3465e+04, 6.9773e+04, 6.6611e+04, 6.3214e+04, 5.9897e+04,\n",
       "                      5.7362e+04, 5.4681e+04, 5.2251e+04, 4.9460e+04, 4.7310e+04, 4.5154e+04,\n",
       "                      4.2871e+04, 4.1443e+04, 3.8994e+04, 3.7011e+04, 3.5481e+04, 3.3869e+04,\n",
       "                      3.2257e+04, 3.0666e+04, 2.9182e+04, 2.7914e+04, 2.6469e+04, 2.5197e+04])),\n",
       "             ('S',\n",
       "              tensor([3.2906e+08, 3.2906e+08, 3.2906e+08, 3.2906e+08, 3.2906e+08, 3.2906e+08,\n",
       "                      3.2906e+08, 3.2906e+08, 3.2906e+08, 3.2906e+08, 3.2906e+08, 3.2906e+08,\n",
       "                      3.2906e+08, 3.2906e+08, 3.2906e+08, 3.2906e+08, 3.2906e+08, 3.2906e+08,\n",
       "                      3.2906e+08, 3.2906e+08, 3.2906e+08, 3.2906e+08, 3.2905e+08, 3.2905e+08,\n",
       "                      3.2905e+08, 3.2905e+08, 3.2905e+08, 3.2905e+08, 3.2905e+08, 3.2905e+08,\n",
       "                      3.2905e+08, 3.2904e+08, 3.2904e+08, 3.2904e+08, 3.2904e+08, 3.2904e+08,\n",
       "                      3.2903e+08, 3.2903e+08, 3.2903e+08, 3.2903e+08, 3.2902e+08, 3.2902e+08,\n",
       "                      3.2902e+08, 3.2901e+08, 3.2901e+08, 3.2901e+08, 3.2900e+08, 3.2900e+08,\n",
       "                      3.2899e+08, 3.2899e+08, 3.2898e+08, 3.2898e+08, 3.2897e+08, 3.2896e+08,\n",
       "                      3.2896e+08, 3.2895e+08, 3.2894e+08, 3.2893e+08, 3.2892e+08, 3.2891e+08,\n",
       "                      3.2890e+08, 3.2889e+08, 3.2888e+08, 3.2886e+08, 3.2885e+08, 3.2883e+08,\n",
       "                      3.2882e+08, 3.2880e+08, 3.2878e+08, 3.2876e+08, 3.2874e+08, 3.2872e+08,\n",
       "                      3.2869e+08, 3.2867e+08, 3.2864e+08, 3.2861e+08, 3.2858e+08, 3.2854e+08,\n",
       "                      3.2850e+08, 3.2846e+08, 3.2842e+08, 3.2838e+08, 3.2833e+08, 3.2828e+08,\n",
       "                      3.2822e+08, 3.2816e+08, 3.2810e+08, 3.2803e+08, 3.2796e+08, 3.2788e+08,\n",
       "                      3.2780e+08, 3.2771e+08, 3.2761e+08, 3.2751e+08, 3.2741e+08, 3.2729e+08,\n",
       "                      3.2717e+08, 3.2703e+08, 3.2689e+08, 3.2674e+08, 3.2658e+08, 3.2641e+08,\n",
       "                      3.2622e+08, 3.2603e+08, 3.2582e+08, 3.2560e+08, 3.2536e+08, 3.2510e+08,\n",
       "                      3.2483e+08, 3.2454e+08, 3.2423e+08, 3.2390e+08, 3.2355e+08, 3.2317e+08,\n",
       "                      3.2277e+08, 3.2235e+08, 3.2189e+08, 3.2141e+08, 3.2090e+08, 3.2035e+08,\n",
       "                      3.1977e+08, 3.1915e+08, 3.1849e+08, 3.1779e+08, 3.1705e+08, 3.1626e+08,\n",
       "                      3.1542e+08, 3.1454e+08, 3.1360e+08, 3.1260e+08, 3.1155e+08, 3.1044e+08,\n",
       "                      3.0926e+08, 3.0802e+08, 3.0670e+08, 3.0532e+08, 3.0387e+08, 3.0233e+08,\n",
       "                      3.0072e+08, 2.9903e+08, 2.9726e+08, 2.9539e+08, 2.9345e+08, 2.9142e+08,\n",
       "                      2.8930e+08, 2.8709e+08, 2.8478e+08, 2.8239e+08, 2.7991e+08, 2.7734e+08,\n",
       "                      2.7469e+08, 2.7194e+08, 2.6912e+08, 2.6621e+08, 2.6322e+08, 2.6016e+08,\n",
       "                      2.5703e+08, 2.5383e+08, 2.5057e+08, 2.4726e+08, 2.4390e+08, 2.4049e+08,\n",
       "                      2.3705e+08, 2.3358e+08, 2.3009e+08, 2.2658e+08, 2.2306e+08, 2.1954e+08,\n",
       "                      2.1603e+08, 2.1254e+08, 2.0906e+08, 2.0562e+08, 2.0220e+08, 1.9882e+08,\n",
       "                      1.9549e+08, 1.9220e+08, 1.8897e+08, 1.8580e+08, 1.8269e+08, 1.7965e+08,\n",
       "                      1.7668e+08, 1.7378e+08, 1.7095e+08, 1.6820e+08, 1.6553e+08, 1.6294e+08,\n",
       "                      1.6042e+08, 1.5798e+08, 1.5563e+08, 1.5335e+08, 1.5116e+08, 1.4904e+08,\n",
       "                      1.4699e+08, 1.4502e+08, 1.4312e+08, 1.4130e+08, 1.3955e+08, 1.3786e+08,\n",
       "                      1.3625e+08, 1.3470e+08, 1.3321e+08, 1.3179e+08, 1.3042e+08, 1.2911e+08,\n",
       "                      1.2786e+08, 1.2666e+08, 1.2551e+08, 1.2442e+08, 1.2337e+08, 1.2237e+08,\n",
       "                      1.2141e+08, 1.2049e+08, 1.1961e+08, 1.1878e+08, 1.1798e+08, 1.1722e+08,\n",
       "                      1.1649e+08, 1.1579e+08, 1.1513e+08, 1.1449e+08, 1.1389e+08, 1.1332e+08,\n",
       "                      1.1277e+08, 1.1224e+08, 1.1174e+08, 1.1126e+08, 1.1081e+08, 1.1038e+08,\n",
       "                      1.0996e+08, 1.0957e+08, 1.0919e+08, 1.0884e+08, 1.0849e+08, 1.0817e+08,\n",
       "                      1.0786e+08, 1.0756e+08, 1.0728e+08, 1.0701e+08, 1.0676e+08, 1.0651e+08,\n",
       "                      1.0628e+08, 1.0606e+08, 1.0585e+08, 1.0564e+08, 1.0545e+08, 1.0527e+08,\n",
       "                      1.0510e+08, 1.0493e+08, 1.0477e+08, 1.0462e+08, 1.0448e+08, 1.0434e+08,\n",
       "                      1.0421e+08, 1.0409e+08, 1.0397e+08, 1.0386e+08, 1.0375e+08, 1.0365e+08,\n",
       "                      1.0355e+08, 1.0346e+08, 1.0337e+08, 1.0328e+08, 1.0320e+08, 1.0313e+08,\n",
       "                      1.0305e+08, 1.0299e+08, 1.0292e+08, 1.0286e+08, 1.0280e+08, 1.0274e+08,\n",
       "                      1.0268e+08, 1.0263e+08, 1.0258e+08, 1.0254e+08, 1.0249e+08, 1.0245e+08,\n",
       "                      1.0241e+08, 1.0237e+08, 1.0233e+08, 1.0230e+08, 1.0226e+08, 1.0223e+08,\n",
       "                      1.0220e+08, 1.0217e+08, 1.0215e+08, 1.0212e+08, 1.0209e+08, 1.0207e+08,\n",
       "                      1.0205e+08, 1.0203e+08, 1.0200e+08, 1.0199e+08, 1.0197e+08, 1.0195e+08,\n",
       "                      1.0193e+08, 1.0192e+08, 1.0190e+08, 1.0189e+08, 1.0187e+08, 1.0186e+08])),\n",
       "             ('obs',\n",
       "              tensor([1.4300e+02, 1.4100e+02, 1.4200e+02, 1.4500e+02, 1.6100e+02, 1.3600e+02,\n",
       "                      1.4600e+02, 1.7100e+02, 1.4900e+02, 1.6900e+02, 1.7300e+02, 1.8600e+02,\n",
       "                      1.9600e+02, 2.2700e+02, 2.2000e+02, 2.2800e+02, 2.4100e+02, 2.6900e+02,\n",
       "                      2.9400e+02, 3.1400e+02, 3.0400e+02, 3.6800e+02, 3.9600e+02, 4.1100e+02,\n",
       "                      4.6300e+02, 4.7400e+02, 5.2000e+02, 5.0100e+02, 5.7300e+02, 6.2200e+02,\n",
       "                      6.4400e+02, 6.8500e+02, 7.5700e+02, 8.3500e+02, 8.4000e+02, 9.5200e+02,\n",
       "                      1.0050e+03, 1.0680e+03, 1.0880e+03, 1.1390e+03, 1.2330e+03, 1.3200e+03,\n",
       "                      1.5140e+03, 1.6130e+03, 1.7120e+03, 1.8210e+03, 1.8820e+03, 2.0040e+03,\n",
       "                      2.1940e+03, 2.3960e+03, 2.5010e+03, 2.7650e+03, 2.8630e+03, 3.0710e+03,\n",
       "                      3.3460e+03, 3.5750e+03, 3.8140e+03, 4.1930e+03, 4.3360e+03, 4.6610e+03,\n",
       "                      5.0120e+03, 5.4440e+03, 5.8110e+03, 6.1070e+03, 6.6790e+03, 7.0800e+03,\n",
       "                      7.5310e+03, 8.1000e+03, 8.6930e+03, 9.1810e+03, 9.9030e+03, 1.0597e+04,\n",
       "                      1.1471e+04, 1.2201e+04, 1.3087e+04, 1.3865e+04, 1.4925e+04, 1.5966e+04,\n",
       "                      1.7079e+04, 1.8203e+04, 1.9670e+04, 2.0931e+04, 2.2041e+04, 2.3655e+04,\n",
       "                      2.5645e+04, 2.7480e+04, 2.9304e+04, 3.1225e+04, 3.3274e+04, 3.5945e+04,\n",
       "                      3.8098e+04, 4.1071e+04, 4.3682e+04, 4.6544e+04, 5.0001e+04, 5.3640e+04,\n",
       "                      5.6885e+04, 6.0644e+04, 6.5148e+04, 6.9642e+04, 7.4614e+04, 7.9564e+04,\n",
       "                      8.4522e+04, 9.0390e+04, 9.6143e+04, 1.0345e+05, 1.1025e+05, 1.1722e+05,\n",
       "                      1.2586e+05, 1.3398e+05, 1.4276e+05, 1.5335e+05, 1.6182e+05, 1.7266e+05,\n",
       "                      1.8412e+05, 1.9632e+05, 2.0895e+05, 2.2289e+05, 2.3715e+05, 2.5205e+05,\n",
       "                      2.6847e+05, 2.8578e+05, 3.0359e+05, 3.2323e+05, 3.4264e+05, 3.6396e+05,\n",
       "                      3.8587e+05, 4.0956e+05, 4.3378e+05, 4.5903e+05, 4.8534e+05, 5.1444e+05,\n",
       "                      5.4277e+05, 5.7415e+05, 6.0569e+05, 6.3813e+05, 6.7130e+05, 7.0622e+05,\n",
       "                      7.4169e+05, 7.8020e+05, 8.1889e+05, 8.5992e+05, 8.9757e+05, 9.3776e+05,\n",
       "                      9.7737e+05, 1.0191e+06, 1.0623e+06, 1.1025e+06, 1.1438e+06, 1.1868e+06,\n",
       "                      1.2252e+06, 1.2668e+06, 1.3030e+06, 1.3417e+06, 1.3791e+06, 1.4125e+06,\n",
       "                      1.4422e+06, 1.4749e+06, 1.5038e+06, 1.5277e+06, 1.5502e+06, 1.5720e+06,\n",
       "                      1.5843e+06, 1.6024e+06, 1.6109e+06, 1.6194e+06, 1.6205e+06, 1.6211e+06,\n",
       "                      1.6197e+06, 1.6108e+06, 1.6047e+06, 1.5897e+06, 1.5747e+06, 1.5597e+06,\n",
       "                      1.5356e+06, 1.5141e+06, 1.4891e+06, 1.4634e+06, 1.4321e+06, 1.4032e+06,\n",
       "                      1.3699e+06, 1.3383e+06, 1.3035e+06, 1.2694e+06, 1.2309e+06, 1.1961e+06,\n",
       "                      1.1599e+06, 1.1235e+06, 1.0843e+06, 1.0505e+06, 1.0148e+06, 9.7785e+05,\n",
       "                      9.4208e+05, 9.0930e+05, 8.7478e+05, 8.4159e+05, 8.0880e+05, 7.7562e+05,\n",
       "                      7.4339e+05, 7.1670e+05, 6.8488e+05, 6.5729e+05, 6.2838e+05, 6.0338e+05,\n",
       "                      5.7809e+05, 5.5344e+05, 5.2951e+05, 5.0493e+05, 4.8470e+05, 4.6215e+05,\n",
       "                      4.4127e+05, 4.2327e+05, 4.0450e+05, 3.8508e+05, 3.6867e+05, 3.5134e+05,\n",
       "                      3.3574e+05, 3.2154e+05, 3.0636e+05, 2.9223e+05, 2.7844e+05, 2.6507e+05,\n",
       "                      2.5353e+05, 2.4191e+05, 2.3029e+05, 2.1984e+05, 2.0907e+05, 2.0083e+05,\n",
       "                      1.9015e+05, 1.8224e+05, 1.7366e+05, 1.6524e+05, 1.5743e+05, 1.5036e+05,\n",
       "                      1.4329e+05, 1.3637e+05, 1.3053e+05, 1.2397e+05, 1.1794e+05, 1.1242e+05,\n",
       "                      1.0660e+05, 1.0256e+05, 9.7161e+04, 9.3149e+04, 8.8153e+04, 8.4031e+04,\n",
       "                      8.0556e+04, 7.6600e+04, 7.2534e+04, 6.9629e+04, 6.6284e+04, 6.3616e+04,\n",
       "                      6.0161e+04, 5.6626e+04, 5.4755e+04, 5.1896e+04, 4.9590e+04, 4.7164e+04,\n",
       "                      4.4689e+04, 4.2517e+04, 4.0878e+04, 3.8571e+04, 3.6985e+04, 3.5103e+04,\n",
       "                      3.3888e+04, 3.1984e+04, 3.0363e+04, 2.9220e+04, 2.7828e+04, 2.6461e+04,\n",
       "                      2.5191e+04, 2.3862e+04, 2.2877e+04, 2.1648e+04, 2.0543e+04, 1.9545e+04,\n",
       "                      1.8958e+04, 1.7720e+04, 1.6981e+04, 1.6084e+04, 1.5462e+04, 1.4794e+04,\n",
       "                      1.3739e+04, 1.3216e+04, 1.2765e+04, 1.2182e+04, 1.1490e+04, 1.0965e+04,\n",
       "                      1.0542e+04, 1.0031e+04, 9.6970e+03, 8.9670e+03, 8.6840e+03, 8.1780e+03,\n",
       "                      7.8330e+03, 7.4530e+03, 7.0620e+03, 6.7190e+03, 6.4560e+03, 5.9920e+03])),\n",
       "             ('S2I',\n",
       "              tensor([3.1000e+02, 2.9900e+02, 3.0700e+02, 3.3200e+02, 3.6400e+02, 3.1100e+02,\n",
       "                      3.1500e+02, 3.6300e+02, 3.3200e+02, 3.6000e+02, 3.9000e+02, 3.8400e+02,\n",
       "                      4.1500e+02, 4.5200e+02, 4.9400e+02, 5.1600e+02, 5.2800e+02, 5.3700e+02,\n",
       "                      6.5100e+02, 7.0300e+02, 6.6000e+02, 7.5400e+02, 8.1900e+02, 8.8100e+02,\n",
       "                      9.9500e+02, 9.8600e+02, 1.0810e+03, 1.1150e+03, 1.2390e+03, 1.3460e+03,\n",
       "                      1.3690e+03, 1.4970e+03, 1.5990e+03, 1.7420e+03, 1.8330e+03, 2.0280e+03,\n",
       "                      2.1390e+03, 2.3330e+03, 2.3870e+03, 2.5750e+03, 2.7200e+03, 2.9360e+03,\n",
       "                      3.2170e+03, 3.4120e+03, 3.6050e+03, 3.8290e+03, 4.0730e+03, 4.4080e+03,\n",
       "                      4.8310e+03, 5.2170e+03, 5.4650e+03, 5.9530e+03, 6.2980e+03, 6.6920e+03,\n",
       "                      7.1550e+03, 7.7540e+03, 8.2520e+03, 8.8960e+03, 9.4270e+03, 1.0216e+04,\n",
       "                      1.0946e+04, 1.1642e+04, 1.2786e+04, 1.3393e+04, 1.4478e+04, 1.5331e+04,\n",
       "                      1.6385e+04, 1.7534e+04, 1.8677e+04, 1.9862e+04, 2.1596e+04, 2.2999e+04,\n",
       "                      2.4732e+04, 2.6309e+04, 2.8072e+04, 2.9922e+04, 3.2220e+04, 3.4801e+04,\n",
       "                      3.7261e+04, 3.9448e+04, 4.2397e+04, 4.5250e+04, 4.8264e+04, 5.1588e+04,\n",
       "                      5.5523e+04, 5.9416e+04, 6.3285e+04, 6.7683e+04, 7.2352e+04, 7.7582e+04,\n",
       "                      8.3026e+04, 8.8969e+04, 9.4700e+04, 1.0107e+05, 1.0824e+05, 1.1586e+05,\n",
       "                      1.2345e+05, 1.3164e+05, 1.4160e+05, 1.5075e+05, 1.6124e+05, 1.7218e+05,\n",
       "                      1.8404e+05, 1.9641e+05, 2.0860e+05, 2.2426e+05, 2.3951e+05, 2.5488e+05,\n",
       "                      2.7148e+05, 2.9005e+05, 3.0910e+05, 3.3120e+05, 3.5163e+05, 3.7438e+05,\n",
       "                      3.9928e+05, 4.2594e+05, 4.5358e+05, 4.8337e+05, 5.1450e+05, 5.4711e+05,\n",
       "                      5.8235e+05, 6.1868e+05, 6.5853e+05, 6.9893e+05, 7.4262e+05, 7.8842e+05,\n",
       "                      8.3558e+05, 8.8604e+05, 9.3971e+05, 9.9478e+05, 1.0520e+06, 1.1135e+06,\n",
       "                      1.1771e+06, 1.2440e+06, 1.3117e+06, 1.3830e+06, 1.4560e+06, 1.5336e+06,\n",
       "                      1.6097e+06, 1.6919e+06, 1.7746e+06, 1.8620e+06, 1.9461e+06, 2.0315e+06,\n",
       "                      2.1206e+06, 2.2104e+06, 2.3023e+06, 2.3901e+06, 2.4796e+06, 2.5700e+06,\n",
       "                      2.6545e+06, 2.7468e+06, 2.8247e+06, 2.9104e+06, 2.9883e+06, 3.0625e+06,\n",
       "                      3.1304e+06, 3.1947e+06, 3.2588e+06, 3.3148e+06, 3.3623e+06, 3.4073e+06,\n",
       "                      3.4378e+06, 3.4723e+06, 3.4927e+06, 3.5093e+06, 3.5148e+06, 3.5175e+06,\n",
       "                      3.5101e+06, 3.4957e+06, 3.4766e+06, 3.4456e+06, 3.4140e+06, 3.3816e+06,\n",
       "                      3.3318e+06, 3.2853e+06, 3.2284e+06, 3.1716e+06, 3.1088e+06, 3.0419e+06,\n",
       "                      2.9714e+06, 2.9015e+06, 2.8246e+06, 2.7511e+06, 2.6726e+06, 2.5955e+06,\n",
       "                      2.5146e+06, 2.4368e+06, 2.3534e+06, 2.2767e+06, 2.1981e+06, 2.1206e+06,\n",
       "                      2.0440e+06, 1.9728e+06, 1.8946e+06, 1.8224e+06, 1.7540e+06, 1.6832e+06,\n",
       "                      1.6137e+06, 1.5524e+06, 1.4852e+06, 1.4250e+06, 1.3646e+06, 1.3098e+06,\n",
       "                      1.2528e+06, 1.1991e+06, 1.1472e+06, 1.0960e+06, 1.0513e+06, 1.0021e+06,\n",
       "                      9.5867e+05, 9.1642e+05, 8.7697e+05, 8.3528e+05, 7.9844e+05, 7.6350e+05,\n",
       "                      7.2821e+05, 6.9656e+05, 6.6358e+05, 6.3299e+05, 6.0363e+05, 5.7555e+05,\n",
       "                      5.5000e+05, 5.2419e+05, 5.0072e+05, 4.7607e+05, 4.5480e+05, 4.3389e+05,\n",
       "                      4.1195e+05, 3.9451e+05, 3.7582e+05, 3.5769e+05, 3.4223e+05, 3.2544e+05,\n",
       "                      3.1042e+05, 2.9608e+05, 2.8248e+05, 2.6830e+05, 2.5598e+05, 2.4391e+05,\n",
       "                      2.3193e+05, 2.2174e+05, 2.1094e+05, 2.0173e+05, 1.9128e+05, 1.8271e+05,\n",
       "                      1.7387e+05, 1.6608e+05, 1.5785e+05, 1.5086e+05, 1.4352e+05, 1.3787e+05,\n",
       "                      1.3060e+05, 1.2325e+05, 1.1828e+05, 1.1253e+05, 1.0748e+05, 1.0227e+05,\n",
       "                      9.7032e+04, 9.2569e+04, 8.8617e+04, 8.3851e+04, 8.0209e+04, 7.6573e+04,\n",
       "                      7.3071e+04, 6.9090e+04, 6.5933e+04, 6.3467e+04, 5.9867e+04, 5.7100e+04,\n",
       "                      5.4303e+04, 5.2049e+04, 4.9492e+04, 4.7150e+04, 4.4772e+04, 4.2545e+04,\n",
       "                      4.1020e+04, 3.8700e+04, 3.6529e+04, 3.5009e+04, 3.3222e+04, 3.2116e+04,\n",
       "                      3.0002e+04, 2.8842e+04, 2.7697e+04, 2.6157e+04, 2.4858e+04, 2.3922e+04,\n",
       "                      2.2846e+04, 2.1859e+04, 2.0993e+04, 1.9469e+04, 1.8737e+04, 1.7647e+04,\n",
       "                      1.6980e+04, 1.6234e+04, 1.5268e+04, 1.4700e+04, 1.4032e+04, 1.3234e+04])),\n",
       "             ('I',\n",
       "              tensor([3.1100e+02, 5.7800e+02, 8.3300e+02, 1.0760e+03, 1.3280e+03, 1.5030e+03,\n",
       "                      1.6600e+03, 1.8620e+03, 1.9930e+03, 2.1530e+03, 2.3230e+03, 2.4790e+03,\n",
       "                      2.6460e+03, 2.8270e+03, 3.0290e+03, 3.2210e+03, 3.4080e+03, 3.6190e+03,\n",
       "                      3.9300e+03, 4.2700e+03, 4.5190e+03, 4.8320e+03, 5.1690e+03, 5.5550e+03,\n",
       "                      6.0430e+03, 6.4440e+03, 6.8830e+03, 7.3350e+03, 7.8210e+03, 8.3980e+03,\n",
       "                      8.8790e+03, 9.4800e+03, 1.0116e+04, 1.0833e+04, 1.1566e+04, 1.2456e+04,\n",
       "                      1.3296e+04, 1.4358e+04, 1.5264e+04, 1.6286e+04, 1.7350e+04, 1.8504e+04,\n",
       "                      1.9877e+04, 2.1266e+04, 2.2765e+04, 2.4377e+04, 2.6020e+04, 2.7718e+04,\n",
       "                      2.9822e+04, 3.2096e+04, 3.4343e+04, 3.6856e+04, 3.9432e+04, 4.2266e+04,\n",
       "                      4.5212e+04, 4.8408e+04, 5.1802e+04, 5.5562e+04, 5.9554e+04, 6.3919e+04,\n",
       "                      6.8489e+04, 7.3478e+04, 7.8939e+04, 8.4433e+04, 9.0464e+04, 9.6651e+04,\n",
       "                      1.0334e+05, 1.1056e+05, 1.1808e+05, 1.2617e+05, 1.3524e+05, 1.4476e+05,\n",
       "                      1.5494e+05, 1.6571e+05, 1.7723e+05, 1.8971e+05, 2.0305e+05, 2.1764e+05,\n",
       "                      2.3313e+05, 2.4931e+05, 2.6702e+05, 2.8580e+05, 3.0533e+05, 3.2618e+05,\n",
       "                      3.4898e+05, 3.7379e+05, 3.9987e+05, 4.2765e+05, 4.5726e+05, 4.8892e+05,\n",
       "                      5.2301e+05, 5.5985e+05, 5.9876e+05, 6.3995e+05, 6.8415e+05, 7.3128e+05,\n",
       "                      7.8163e+05, 8.3527e+05, 8.9312e+05, 9.5449e+05, 1.0198e+06, 1.0900e+06,\n",
       "                      1.1650e+06, 1.2450e+06, 1.3290e+06, 1.4206e+06, 1.5182e+06, 1.6212e+06,\n",
       "                      1.7302e+06, 1.8476e+06, 1.9715e+06, 2.1056e+06, 2.2462e+06, 2.3960e+06,\n",
       "                      2.5550e+06, 2.7257e+06, 2.9076e+06, 3.1001e+06, 3.3040e+06, 3.5212e+06,\n",
       "                      3.7515e+06, 3.9959e+06, 4.2550e+06, 4.5280e+06, 4.8180e+06, 5.1240e+06,\n",
       "                      5.4483e+06, 5.7902e+06, 6.1514e+06, 6.5316e+06, 6.9309e+06, 7.3514e+06,\n",
       "                      7.7925e+06, 8.2576e+06, 8.7445e+06, 9.2529e+06, 9.7849e+06, 1.0341e+07,\n",
       "                      1.0917e+07, 1.1518e+07, 1.2141e+07, 1.2790e+07, 1.3458e+07, 1.4144e+07,\n",
       "                      1.4850e+07, 1.5577e+07, 1.6321e+07, 1.7079e+07, 1.7851e+07, 1.8636e+07,\n",
       "                      1.9429e+07, 2.0234e+07, 2.1037e+07, 2.1845e+07, 2.2650e+07, 2.3446e+07,\n",
       "                      2.4232e+07, 2.5003e+07, 2.5763e+07, 2.6501e+07, 2.7209e+07, 2.7894e+07,\n",
       "                      2.8544e+07, 2.9161e+07, 2.9739e+07, 3.0276e+07, 3.0761e+07, 3.1204e+07,\n",
       "                      3.1595e+07, 3.1931e+07, 3.2217e+07, 3.2442e+07, 3.2611e+07, 3.2731e+07,\n",
       "                      3.2792e+07, 3.2800e+07, 3.2748e+07, 3.2644e+07, 3.2490e+07, 3.2285e+07,\n",
       "                      3.2025e+07, 3.1723e+07, 3.1375e+07, 3.0988e+07, 3.0564e+07, 3.0101e+07,\n",
       "                      2.9602e+07, 2.9076e+07, 2.8522e+07, 2.7945e+07, 2.7351e+07, 2.6735e+07,\n",
       "                      2.6103e+07, 2.5465e+07, 2.4814e+07, 2.4155e+07, 2.3491e+07, 2.2825e+07,\n",
       "                      2.2159e+07, 2.1494e+07, 2.0828e+07, 2.0172e+07, 1.9519e+07, 1.8877e+07,\n",
       "                      1.8242e+07, 1.7616e+07, 1.7003e+07, 1.6398e+07, 1.5809e+07, 1.5230e+07,\n",
       "                      1.4665e+07, 1.4115e+07, 1.3582e+07, 1.3060e+07, 1.2551e+07, 1.2060e+07,\n",
       "                      1.1581e+07, 1.1121e+07, 1.0673e+07, 1.0241e+07, 9.8209e+06, 9.4147e+06,\n",
       "                      9.0249e+06, 8.6459e+06, 8.2823e+06, 7.9290e+06, 7.5904e+06, 7.2645e+06,\n",
       "                      6.9502e+06, 6.6488e+06, 6.3590e+06, 6.0803e+06, 5.8143e+06, 5.5583e+06,\n",
       "                      5.3132e+06, 5.0773e+06, 4.8522e+06, 4.6356e+06, 4.4280e+06, 4.2292e+06,\n",
       "                      4.0386e+06, 3.8566e+06, 3.6823e+06, 3.5150e+06, 3.3552e+06, 3.2022e+06,\n",
       "                      3.0550e+06, 2.9149e+06, 2.7818e+06, 2.6543e+06, 2.5325e+06, 2.4166e+06,\n",
       "                      2.3055e+06, 2.1980e+06, 2.0967e+06, 1.9990e+06, 1.9072e+06, 1.8188e+06,\n",
       "                      1.7335e+06, 1.6529e+06, 1.5761e+06, 1.5022e+06, 1.4320e+06, 1.3653e+06,\n",
       "                      1.3024e+06, 1.2414e+06, 1.1832e+06, 1.1280e+06, 1.0748e+06, 1.0248e+06,\n",
       "                      9.7604e+05, 9.3013e+05, 8.8628e+05, 8.4502e+05, 8.0542e+05, 7.6739e+05,\n",
       "                      7.3198e+05, 6.9722e+05, 6.6397e+05, 6.3237e+05, 6.0238e+05, 5.7460e+05,\n",
       "                      5.4724e+05, 5.2140e+05, 4.9685e+05, 4.7354e+05, 4.5109e+05, 4.2986e+05,\n",
       "                      4.0983e+05, 3.9025e+05, 3.7225e+05, 3.5471e+05, 3.3796e+05, 3.2174e+05,\n",
       "                      3.0646e+05, 2.9203e+05, 2.7812e+05, 2.6490e+05, 2.5247e+05, 2.4050e+05]))])"
      ]
     },
     "execution_count": 81,
     "metadata": {},
     "output_type": "execute_result"
    }
   ],
   "source": [
    "synth_data"
   ]
  },
  {
   "cell_type": "markdown",
   "metadata": {},
   "source": [
    "For the model to work, it requires S, S2I, I, I2R, obs (noisy S2I), R0, and rho. \n",
    "\n",
    "\n",
    "At the moment, all of these things are synthetically generated, after we first specify R0, rho and population. \n",
    "\n",
    "For real world, I'll try this now, but we set:\n",
    "\n",
    "S2I = obs, and use reported values for the others. In essence we no longer use the noisy observations and assume whatever is reported is right? \n",
    "\n",
    "I'm not sure if the model will work if we do not specify R0 or rho, so will have to try this and find out. "
   ]
  },
  {
   "cell_type": "code",
   "execution_count": 16,
   "metadata": {},
   "outputs": [
    {
     "name": "stdout",
     "output_type": "stream",
     "text": [
      "I.shape = (300,)\n",
      "I2R.shape = (300,)\n",
      "R0.shape = ()\n",
      "S.shape = (300,)\n",
      "S2I.shape = (300,)\n",
      "obs.shape = (300,)\n",
      "rho.shape = ()\n"
     ]
    }
   ],
   "source": [
    "for key, value in sorted(synth_data.items()):\n",
    "    print(\"{}.shape = {}\".format(key, tuple(value.shape)))\n",
    "    "
   ]
  },
  {
   "cell_type": "code",
   "execution_count": null,
   "metadata": {},
   "outputs": [],
   "source": []
  },
  {
   "cell_type": "code",
   "execution_count": 17,
   "metadata": {},
   "outputs": [
    {
     "data": {
      "image/png": "[encoded data removed]",
      "text/plain": [
       "<Figure size 576x288 with 1 Axes>"
      ]
     },
     "metadata": {
      "needs_background": "light"
     },
     "output_type": "display_data"
    }
   ],
   "source": [
    "plt.figure(figsize=(8,4))\n",
    "for name, value in sorted(synth_data.items()):\n",
    "    if value.dim():\n",
    "        plt.plot(value, label=name)\n",
    "plt.xlim(0, len(empty_data) - 1)\n",
    "plt.ylim(0.8, None)\n",
    "plt.xlabel(\"time step\")\n",
    "plt.ylabel(\"individuals\")\n",
    "plt.yscale(\"log\")\n",
    "plt.legend(loc=\"best\")\n",
    "plt.title(\"Synthetic time series\")\n",
    "plt.tight_layout()"
   ]
  },
  {
   "cell_type": "markdown",
   "metadata": {},
   "source": [
    "## Inference"
   ]
  },
  {
   "cell_type": "code",
   "execution_count": 18,
   "metadata": {},
   "outputs": [],
   "source": [
    "# what if we only have obs? can we estimate using just that? \n",
    "obs = synth_data[\"obs\"]\n",
    "model = SimpleSIRModel(population, recovery_time, obs) \n"
   ]
  },
  {
   "cell_type": "code",
   "execution_count": null,
   "metadata": {},
   "outputs": [],
   "source": []
  },
  {
   "cell_type": "code",
   "execution_count": 19,
   "metadata": {},
   "outputs": [
    {
     "name": "stderr",
     "output_type": "stream",
     "text": [
      "INFO \t Heuristic init: R0=1.58, rho=0.495\n",
      "INFO \t Running inference...\n",
      "/scratch/nsk367/anaconda3/envs/pyro/lib/python3.8/site-packages/torch/autograd/__init__.py:130: UserWarning: CUDA initialization: Found no NVIDIA driver on your system. Please check that you have an NVIDIA GPU and installed a driver from http://www.nvidia.com/Download/index.aspx (Triggered internally at  /pytorch/c10/cuda/CUDAFunctions.cpp:100.)\n",
      "  Variable._execution_engine.run_backward(\n",
      "INFO \t step 0 loss = 11.01\n",
      "INFO \t step 200 loss = 6.49\n",
      "INFO \t step 400 loss = 3.925\n",
      "INFO \t step 600 loss = 2.709\n",
      "INFO \t step 800 loss = 2.011\n",
      "INFO \t step 1000 loss = 1.802\n",
      "INFO \t step 1200 loss = 1.73\n",
      "INFO \t step 1400 loss = 1.708\n",
      "INFO \t step 1600 loss = 1.684\n",
      "INFO \t step 1800 loss = 1.678\n",
      "INFO \t step 2000 loss = 1.657\n",
      "INFO \t SVI took 30.9 seconds, 64.7 step/sec\n"
     ]
    },
    {
     "name": "stdout",
     "output_type": "stream",
     "text": [
      "CPU times: user 32.6 s, sys: 96.1 ms, total: 32.7 s\n",
      "Wall time: 34 s\n"
     ]
    }
   ],
   "source": [
    "%%time\n",
    "losses = model.fit_svi(num_steps=101 if smoke_test else 2001,\n",
    "                       jit=True)"
   ]
  },
  {
   "cell_type": "code",
   "execution_count": 20,
   "metadata": {},
   "outputs": [
    {
     "data": {
      "image/png": "[encoded data removed]",
      "text/plain": [
       "<Figure size 576x216 with 1 Axes>"
      ]
     },
     "metadata": {
      "needs_background": "light"
     },
     "output_type": "display_data"
    }
   ],
   "source": [
    "plt.figure(figsize=(8, 3))\n",
    "plt.plot(losses)\n",
    "plt.xlabel(\"SVI step\")\n",
    "plt.ylabel(\"loss\")\n",
    "plt.ylim(min(losses), max(losses[50:]));"
   ]
  },
  {
   "cell_type": "code",
   "execution_count": 21,
   "metadata": {},
   "outputs": [
    {
     "name": "stdout",
     "output_type": "stream",
     "text": [
      "R0.shape = (100, 1)\n",
      "auxiliary.shape = (100, 1, 2, 300)\n",
      "rho.shape = (100, 1)\n"
     ]
    }
   ],
   "source": [
    "for key, value in sorted(model.samples.items()):\n",
    "    print(\"{}.shape = {}\".format(key, tuple(value.shape)))"
   ]
  },
  {
   "cell_type": "markdown",
   "metadata": {},
   "source": [
    "## MCMC"
   ]
  },
  {
   "cell_type": "code",
   "execution_count": 26,
   "metadata": {},
   "outputs": [
    {
     "name": "stderr",
     "output_type": "stream",
     "text": [
      "INFO \t Running inference...\n",
      "Warmup:   0%|          | 0/1600 [00:00, ?it/s]INFO \t Heuristic init: R0=1.43, rho=0.453\n",
      "Sample: 100%|██████████| 1600/1600 [02:51,  9.33it/s, step size=1.66e-02, acc. prob=0.766]\n"
     ]
    }
   ],
   "source": [
    "mcmc = model.fit_mcmc(num_samples=4 if smoke_test else 800,\n",
    "                      jit_compile=True,)"
   ]
  },
  {
   "cell_type": "markdown",
   "metadata": {},
   "source": [
    "## Prediction"
   ]
  },
  {
   "cell_type": "code",
   "execution_count": 27,
   "metadata": {},
   "outputs": [
    {
     "name": "stderr",
     "output_type": "stream",
     "text": [
      "INFO \t Predicting latent variables for 300 time steps...\n"
     ]
    },
    {
     "name": "stdout",
     "output_type": "stream",
     "text": [
      "CPU times: user 595 ms, sys: 14.9 ms, total: 610 ms\n",
      "Wall time: 631 ms\n"
     ]
    }
   ],
   "source": [
    "%%time\n",
    "samples = model.predict()"
   ]
  },
  {
   "cell_type": "code",
   "execution_count": 28,
   "metadata": {},
   "outputs": [
    {
     "name": "stdout",
     "output_type": "stream",
     "text": [
      "I.shape = (800, 300)\n",
      "I2R.shape = (800, 300)\n",
      "R0.shape = (800, 1)\n",
      "S.shape = (800, 300)\n",
      "S2I.shape = (800, 300)\n",
      "auxiliary.shape = (800, 1, 2, 300)\n",
      "obs.shape = (800, 300)\n",
      "rho.shape = (800, 1)\n"
     ]
    }
   ],
   "source": [
    "for key, value in sorted(samples.items()):\n",
    "    print(\"{}.shape = {}\".format(key, tuple(value.shape)))"
   ]
  },
  {
   "cell_type": "code",
   "execution_count": 29,
   "metadata": {},
   "outputs": [
    {
     "name": "stderr",
     "output_type": "stream",
     "text": [
      "/scratch/nsk367/anaconda3/envs/pyro/lib/python3.8/site-packages/seaborn/distributions.py:2551: FutureWarning: `distplot` is a deprecated function and will be removed in a future version. Please adapt your code to use either `displot` (a figure-level function with similar flexibility) or `histplot` (an axes-level function for histograms).\n",
      "  warnings.warn(msg, FutureWarning)\n",
      "/scratch/nsk367/anaconda3/envs/pyro/lib/python3.8/site-packages/seaborn/distributions.py:2551: FutureWarning: `distplot` is a deprecated function and will be removed in a future version. Please adapt your code to use either `displot` (a figure-level function with similar flexibility) or `histplot` (an axes-level function for histograms).\n",
      "  warnings.warn(msg, FutureWarning)\n"
     ]
    },
    {
     "data": {
      "image/png": "[encoded data removed]",
      "text/plain": [
       "<Figure size 360x360 with 2 Axes>"
      ]
     },
     "metadata": {
      "needs_background": "light"
     },
     "output_type": "display_data"
    }
   ],
   "source": [
    "names = [\"R0\", \"rho\"]\n",
    "fig, axes = plt.subplots(2, 1, figsize=(5, 5))\n",
    "axes[0].set_title(\"Posterior estimates of global parameters\")\n",
    "for ax, name in zip(axes, names):\n",
    "    truth = synth_data[name]\n",
    "    sns.distplot(samples[name], ax=ax, label=\"posterior\")\n",
    "    ax.axvline(truth, color=\"k\", label=\"truth\")\n",
    "    ax.set_xlabel(name)\n",
    "    ax.set_yticks(())\n",
    "    ax.legend(loc=\"best\")\n",
    "plt.tight_layout()\n"
   ]
  },
  {
   "cell_type": "markdown",
   "metadata": {},
   "source": [
    "## Forecasting"
   ]
  },
  {
   "cell_type": "code",
   "execution_count": 30,
   "metadata": {},
   "outputs": [
    {
     "name": "stderr",
     "output_type": "stream",
     "text": [
      "INFO \t Predicting latent variables for 300 time steps...\n"
     ]
    },
    {
     "name": "stdout",
     "output_type": "stream",
     "text": [
      "CPU times: user 3 µs, sys: 0 ns, total: 3 µs\n",
      "Wall time: 5.48 µs\n"
     ]
    },
    {
     "name": "stderr",
     "output_type": "stream",
     "text": [
      "INFO \t Forecasting 30 steps ahead...\n"
     ]
    }
   ],
   "source": [
    "%time\n",
    "samples = model.predict(forecast=30)"
   ]
  },
  {
   "cell_type": "code",
   "execution_count": 31,
   "metadata": {},
   "outputs": [
    {
     "data": {
      "image/png": "[encoded data removed]",
      "text/plain": [
       "<Figure size 576x288 with 1 Axes>"
      ]
     },
     "metadata": {
      "needs_background": "light"
     },
     "output_type": "display_data"
    }
   ],
   "source": [
    "\n",
    "def plot_forecast(samples):\n",
    "    duration = len(empty_data)\n",
    "    forecast = samples[\"S\"].size(-1) - duration\n",
    "    num_samples = len(samples[\"R0\"])\n",
    "\n",
    "    time = torch.arange(duration + forecast)\n",
    "    S2I = samples[\"S2I\"]\n",
    "    median = S2I.median(dim=0).values\n",
    "    p05 = S2I.kthvalue(int(round(0.5 + 0.05 * num_samples)), dim=0).values\n",
    "    p95 = S2I.kthvalue(int(round(0.5 + 0.95 * num_samples)), dim=0).values\n",
    "\n",
    "    plt.figure(figsize=(8, 4))\n",
    "    plt.fill_between(time, p05, p95, color=\"red\", alpha=0.3, label=\"90% CI\")\n",
    "    plt.plot(time, median, \"r-\", label=\"median\")\n",
    "    plt.plot(time[:duration], obs, \"k.\", label=\"observed\")\n",
    "    plt.plot(time[:duration], synth_data[\"S2I\"], \"k--\", label=\"truth\")\n",
    "    plt.axvline(duration - 0.5, color=\"gray\", lw=1)\n",
    "    plt.xlim(0, len(time) - 1)\n",
    "    plt.ylim(0, None)\n",
    "    plt.xlabel(\"day after first infection\")\n",
    "    plt.ylabel(\"new infections per day\")\n",
    "    plt.title(\"New infections in population of {}\".format(population))\n",
    "    plt.legend(loc=\"upper left\")\n",
    "    plt.tight_layout()\n",
    "\n",
    "plot_forecast(samples)"
   ]
  },
  {
   "cell_type": "markdown",
   "metadata": {},
   "source": [
    "A suggestion of the authors is to use MCMC rather than SVI to estimate, and this will produce better results with only a little longer compute time. I will avoid doing that for the moment, because I would consider it a higher priority to figure out how to run this model with actual data, rather than manufactured. "
   ]
  },
  {
   "cell_type": "markdown",
   "metadata": {},
   "source": [
    "Bigger picture:\n",
    "\n",
    "We don't really need to use MCMC do we? We are more interested in the generate data aspect, and seeing how intervention affects outcome. One way to apply MCMC I guess is we have our pandemic generate data function, leave R0 as the initial value, but implement countermeasures and generate data again. Using Inference we can determine what this new R0 is, and indicate how much better this would be. "
   ]
  },
  {
   "cell_type": "code",
   "execution_count": null,
   "metadata": {},
   "outputs": [],
   "source": []
  }
 ],
 "metadata": {
  "kernelspec": {
   "display_name": "Python 3",
   "language": "python",
   "name": "python3"
  },
  "language_info": {
   "codemirror_mode": {
    "name": "ipython",
    "version": 3
   },
   "file_extension": ".py",
   "mimetype": "text/x-python",
   "name": "python",
   "nbconvert_exporter": "python",
   "pygments_lexer": "ipython3",
   "version": "3.8.5"
  }
 },
 "nbformat": 4,
 "nbformat_minor": 4
}
