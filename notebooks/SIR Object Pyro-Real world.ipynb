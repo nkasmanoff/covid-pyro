{
 "cells": [
  {
   "cell_type": "markdown",
   "metadata": {},
   "source": [
    "Building on the tutorial at https://pyro.ai/examples/sir_hmc.html, the folks at Pyro created an additional interface for SIR modeling that compresses much of the info that that tutorial provided into a concrete interface for compartmental modeling. Below is that work, drawn from http://pyro.ai/examples/epi_intro.html\n",
    "\n",
    "\n",
    "### Now attempting to use real world data "
   ]
  },
  {
   "cell_type": "code",
   "execution_count": 1,
   "metadata": {},
   "outputs": [],
   "source": [
    "import os\n",
    "import matplotlib.pyplot as plt\n",
    "import seaborn as sns\n",
    "import collections\n",
    "import pandas as pd\n",
    "import torch\n",
    "import numpy as np\n",
    "import pyro\n",
    "import pyro.distributions as dist\n",
    "from pyro.contrib.epidemiology import CompartmentalModel, binomial_dist, infection_dist\n",
    "\n",
    "%matplotlib inline\n",
    "#assert pyro.__version__.startswith('1.5.0') # I have 1.5.1, hopefully not a problem to comment this out. \n",
    "torch.set_default_dtype(torch.double)  # Required for MCMC inference.\n",
    "pyro.enable_validation(True)  # Always a good idea.\n",
    "smoke_test = ('CI' in os.environ)"
   ]
  },
  {
   "cell_type": "code",
   "execution_count": 2,
   "metadata": {},
   "outputs": [
    {
     "data": {
      "text/plain": [
       "'1.5.0'"
      ]
     },
     "execution_count": 2,
     "metadata": {},
     "output_type": "execute_result"
    }
   ],
   "source": [
    "pyro.__version__"
   ]
  },
  {
   "cell_type": "code",
   "execution_count": 3,
   "metadata": {},
   "outputs": [],
   "source": [
    "class SimpleSIRModel(CompartmentalModel):\n",
    "    def __init__(self, population, recovery_time, data):\n",
    "        compartments = (\"S\", \"I\")  # R is implicit.\n",
    "        duration = len(data)\n",
    "        super().__init__(compartments, duration, population)\n",
    "        assert isinstance(recovery_time, float)\n",
    "        assert recovery_time > 1\n",
    "        self.recovery_time = recovery_time\n",
    "        self.data = data\n",
    "\n",
    "    def global_model(self):\n",
    "        \"\"\"\n",
    "        samples global parameters and packs them into a single return value (here a tuple, but any structure is allowed). \n",
    "        The return value is available as the params argument to the other two methods.\n",
    "        \"\"\"\n",
    "        tau = self.recovery_time\n",
    "        R0 = pyro.sample(\"R0\", dist.LogNormal(0., 1.))\n",
    "        rho = pyro.sample(\"rho\", dist.Beta(100, 100))\n",
    "        return R0, tau, rho\n",
    "\n",
    "    def initialize(self, params):\n",
    "        \"\"\"\n",
    "        samples (or deterministically sets) initial values of time series,\n",
    "        returning a dictionary mapping time series name to initial value.\n",
    "        \"\"\"\n",
    "        # Start with a single infection.\n",
    "        return {\"S\": self.population - 1, \"I\": 1}\n",
    "\n",
    "    def transition(self, params, state, t):\n",
    "        \"\"\"\n",
    "        inputs global params, the state at the previous time step, and the time index t (which may be a slice!). \n",
    "        It then samples flows and updates the state dict.\n",
    "        \"\"\"\n",
    "        R0, tau, rho = params\n",
    "\n",
    "        # Sample flows between compartments.\n",
    "        S2I = pyro.sample(\"S2I_{}\".format(t),\n",
    "                          infection_dist(individual_rate=R0 / tau,\n",
    "                                         num_susceptible=state[\"S\"],\n",
    "                                         num_infectious=state[\"I\"],\n",
    "                                         population=self.population),)\n",
    "        I2R = pyro.sample(\"I2R_{}\".format(t),\n",
    "                          binomial_dist(state[\"I\"], 1 / tau))\n",
    "\n",
    "        # Update compartments with flows.\n",
    "        state[\"S\"] = state[\"S\"] - S2I\n",
    "        state[\"I\"] = state[\"I\"] + S2I - I2R\n",
    "\n",
    "        # Condition on observations.\n",
    "        t_is_observed = isinstance(t, slice) or t < self.duration\n",
    "        pyro.sample(\"obs_{}\".format(t),\n",
    "                    binomial_dist(S2I, rho),\n",
    "                    obs=self.data[t] if t_is_observed else None)"
   ]
  },
  {
   "cell_type": "markdown",
   "metadata": {},
   "source": [
    "## Generating Data\n",
    "\n",
    "Can condition on real world data, so that's what I am trying now. "
   ]
  },
  {
   "cell_type": "code",
   "execution_count": 5,
   "metadata": {},
   "outputs": [],
   "source": [
    "import os"
   ]
  },
  {
   "cell_type": "code",
   "execution_count": 7,
   "metadata": {},
   "outputs": [
    {
     "data": {
      "text/plain": [
       "['US_SIR.npy', 'US_SIR.csv']"
      ]
     },
     "execution_count": 7,
     "metadata": {},
     "output_type": "execute_result"
    }
   ],
   "source": [
    "os.listdir('../dat/')"
   ]
  },
  {
   "cell_type": "code",
   "execution_count": 24,
   "metadata": {},
   "outputs": [
    {
     "data": {
      "text/plain": [
       "[<matplotlib.lines.Line2D at 0x146a509c6c70>]"
      ]
     },
     "execution_count": 24,
     "metadata": {},
     "output_type": "execute_result"
    },
    {
     "data": {
      "image/png": "[encoded data removed]",
      "text/plain": [
       "<Figure size 432x288 with 1 Axes>"
      ]
     },
     "metadata": {
      "needs_background": "light"
     },
     "output_type": "display_data"
    }
   ],
   "source": [
    "plt.plot(S)"
   ]
  },
  {
   "cell_type": "code",
   "execution_count": 8,
   "metadata": {},
   "outputs": [],
   "source": [
    "US_SIR =pd.read_csv('../dat/US_SIR.csv')"
   ]
  },
  {
   "cell_type": "code",
   "execution_count": 15,
   "metadata": {},
   "outputs": [],
   "source": [
    "population = torch.tensor(US_SIR['S'].values).double()[0]\n",
    "S = torch.tensor(US_SIR['S'].values).double()[20:100]\n",
    "I = torch.tensor(US_SIR['I'].values).double()[20:100]\n",
    "R = torch.tensor(US_SIR['R'].values).double()[20:100]\n",
    "\n",
    "S2I = torch.tensor(US_SIR['S2I'].values).double()[20:100]\n",
    "obs = torch.tensor(US_SIR['S2I'].values).double()[20:100]\n",
    "I2R = torch.tensor(US_SIR['I2R'].values).double()[20:100]"
   ]
  },
  {
   "cell_type": "code",
   "execution_count": 16,
   "metadata": {
    "scrolled": true
   },
   "outputs": [
    {
     "data": {
      "text/plain": [
       "tensor([3.2906e+08, 3.2906e+08, 3.2906e+08, 3.2906e+08, 3.2906e+08, 3.2906e+08,\n",
       "        3.2906e+08, 3.2906e+08, 3.2906e+08, 3.2906e+08, 3.2906e+08, 3.2906e+08,\n",
       "        3.2906e+08, 3.2906e+08, 3.2906e+08, 3.2906e+08, 3.2906e+08, 3.2906e+08,\n",
       "        3.2906e+08, 3.2906e+08, 3.2906e+08, 3.2906e+08, 3.2906e+08, 3.2906e+08,\n",
       "        3.2906e+08, 3.2906e+08, 3.2906e+08, 3.2906e+08, 3.2906e+08, 3.2906e+08,\n",
       "        3.2906e+08, 3.2906e+08, 3.2906e+08, 3.2906e+08, 3.2906e+08, 3.2906e+08,\n",
       "        3.2906e+08, 3.2906e+08, 3.2906e+08, 3.2906e+08, 3.2906e+08, 3.2906e+08,\n",
       "        3.2906e+08, 3.2906e+08, 3.2906e+08, 3.2906e+08, 3.2906e+08, 3.2906e+08,\n",
       "        3.2906e+08, 3.2906e+08, 3.2906e+08, 3.2906e+08, 3.2906e+08, 3.2906e+08,\n",
       "        3.2906e+08, 3.2906e+08, 3.2906e+08, 3.2905e+08, 3.2904e+08, 3.2904e+08,\n",
       "        3.2903e+08, 3.2902e+08, 3.2901e+08, 3.2900e+08, 3.2898e+08, 3.2896e+08,\n",
       "        3.2894e+08, 3.2892e+08, 3.2890e+08, 3.2887e+08, 3.2885e+08, 3.2882e+08,\n",
       "        3.2878e+08, 3.2875e+08, 3.2872e+08, 3.2869e+08, 3.2866e+08, 3.2863e+08,\n",
       "        3.2859e+08, 3.2856e+08, 3.2853e+08, 3.2851e+08, 3.2848e+08, 3.2845e+08,\n",
       "        3.2842e+08, 3.2839e+08, 3.2836e+08, 3.2833e+08, 3.2830e+08, 3.2827e+08,\n",
       "        3.2825e+08, 3.2822e+08, 3.2819e+08, 3.2815e+08, 3.2812e+08, 3.2809e+08,\n",
       "        3.2807e+08, 3.2805e+08, 3.2802e+08, 3.2799e+08, 3.2795e+08, 3.2793e+08,\n",
       "        3.2790e+08, 3.2788e+08, 3.2785e+08, 3.2783e+08, 3.2780e+08, 3.2777e+08,\n",
       "        3.2775e+08, 3.2773e+08, 3.2771e+08, 3.2769e+08, 3.2767e+08, 3.2764e+08,\n",
       "        3.2762e+08, 3.2759e+08, 3.2757e+08, 3.2755e+08, 3.2753e+08, 3.2751e+08,\n",
       "        3.2748e+08, 3.2746e+08, 3.2744e+08, 3.2742e+08, 3.2740e+08, 3.2738e+08,\n",
       "        3.2736e+08, 3.2734e+08, 3.2731e+08, 3.2729e+08, 3.2727e+08, 3.2725e+08,\n",
       "        3.2723e+08, 3.2721e+08, 3.2719e+08, 3.2717e+08, 3.2714e+08, 3.2713e+08,\n",
       "        3.2711e+08, 3.2709e+08, 3.2707e+08, 3.2705e+08, 3.2702e+08, 3.2700e+08,\n",
       "        3.2698e+08, 3.2696e+08, 3.2693e+08, 3.2691e+08, 3.2688e+08, 3.2685e+08,\n",
       "        3.2682e+08, 3.2679e+08, 3.2676e+08, 3.2672e+08, 3.2669e+08, 3.2665e+08,\n",
       "        3.2660e+08, 3.2656e+08, 3.2652e+08, 3.2648e+08, 3.2644e+08, 3.2638e+08,\n",
       "        3.2633e+08, 3.2628e+08, 3.2623e+08, 3.2618e+08, 3.2614e+08, 3.2608e+08,\n",
       "        3.2602e+08, 3.2595e+08, 3.2589e+08, 3.2583e+08, 3.2577e+08, 3.2571e+08,\n",
       "        3.2564e+08, 3.2557e+08, 3.2550e+08, 3.2543e+08, 3.2536e+08, 3.2530e+08,\n",
       "        3.2524e+08, 3.2518e+08, 3.2510e+08, 3.2504e+08, 3.2496e+08, 3.2490e+08,\n",
       "        3.2484e+08, 3.2479e+08, 3.2472e+08, 3.2465e+08, 3.2458e+08, 3.2451e+08,\n",
       "        3.2446e+08, 3.2441e+08, 3.2436e+08, 3.2431e+08, 3.2425e+08, 3.2419e+08,\n",
       "        3.2414e+08, 3.2408e+08, 3.2403e+08, 3.2399e+08, 3.2394e+08, 3.2388e+08,\n",
       "        3.2383e+08, 3.2377e+08, 3.2372e+08, 3.2368e+08, 3.2364e+08, 3.2360e+08,\n",
       "        3.2355e+08, 3.2350e+08, 3.2346e+08, 3.2341e+08, 3.2338e+08, 3.2334e+08,\n",
       "        3.2330e+08, 3.2326e+08, 3.2321e+08, 3.2316e+08, 3.2312e+08, 3.2308e+08,\n",
       "        3.2305e+08, 3.2301e+08, 3.2297e+08, 3.2292e+08, 3.2287e+08, 3.2283e+08,\n",
       "        3.2280e+08, 3.2277e+08, 3.2275e+08, 3.2271e+08, 3.2268e+08, 3.2263e+08,\n",
       "        3.2259e+08, 3.2255e+08, 3.2252e+08, 3.2248e+08, 3.2244e+08, 3.2240e+08,\n",
       "        3.2235e+08, 3.2231e+08, 3.2227e+08, 3.2222e+08, 3.2218e+08, 3.2214e+08,\n",
       "        3.2209e+08, 3.2204e+08, 3.2200e+08, 3.2196e+08, 3.2193e+08, 3.2189e+08,\n",
       "        3.2185e+08, 3.2180e+08, 3.2175e+08, 3.2170e+08, 3.2166e+08, 3.2162e+08,\n",
       "        3.2158e+08, 3.2153e+08, 3.2147e+08, 3.2141e+08, 3.2136e+08, 3.2131e+08,\n",
       "        3.2127e+08, 3.2122e+08, 3.2116e+08, 3.2110e+08, 3.2103e+08, 3.2097e+08,\n",
       "        3.2092e+08, 3.2086e+08, 3.2079e+08, 3.2073e+08, 3.2066e+08, 3.2058e+08,\n",
       "        3.2049e+08, 3.2043e+08, 3.2036e+08, 3.2029e+08, 3.2021e+08, 3.2012e+08,\n",
       "        3.2002e+08, 3.1993e+08, 3.1986e+08, 3.1977e+08, 3.1965e+08, 3.1955e+08,\n",
       "        3.1942e+08, 3.1929e+08, 3.1917e+08, 3.1906e+08, 3.1893e+08, 3.1880e+08,\n",
       "        3.1865e+08, 3.1849e+08, 3.1831e+08, 3.1815e+08, 3.1801e+08, 3.1785e+08,\n",
       "        3.1769e+08, 3.1752e+08, 3.1733e+08, 3.1714e+08, 3.1696e+08, 3.1682e+08,\n",
       "        3.1665e+08, 3.1647e+08, 3.1629e+08, 3.1618e+08, 3.1598e+08, 3.1582e+08])"
      ]
     },
     "execution_count": 16,
     "metadata": {},
     "output_type": "execute_result"
    }
   ],
   "source": [
    "torch.tensor(US_SIR['S'].values).double()"
   ]
  },
  {
   "cell_type": "code",
   "execution_count": 25,
   "metadata": {},
   "outputs": [
    {
     "data": {
      "text/plain": [
       "array([3.2906493e+08, 3.2906493e+08, 3.2906493e+08, 3.2906493e+08,\n",
       "       3.2906493e+08, 3.2906493e+08, 3.2906493e+08, 3.2906493e+08,\n",
       "       3.2906493e+08, 3.2906493e+08, 3.2906493e+08, 3.2906493e+08,\n",
       "       3.2906493e+08, 3.2906493e+08, 3.2906493e+08, 3.2906493e+08,\n",
       "       3.2906493e+08, 3.2906493e+08, 3.2906493e+08, 3.2906493e+08,\n",
       "       3.2906493e+08, 3.2906493e+08, 3.2906493e+08, 3.2906493e+08,\n",
       "       3.2906493e+08, 3.2906493e+08, 3.2906493e+08, 3.2906493e+08,\n",
       "       3.2906493e+08, 3.2906493e+08, 3.2906493e+08, 3.2906493e+08,\n",
       "       3.2906493e+08, 3.2906493e+08, 3.2906493e+08, 3.2906493e+08,\n",
       "       3.2906493e+08, 3.2906493e+08, 3.2906490e+08, 3.2906490e+08,\n",
       "       3.2906490e+08, 3.2906486e+08, 3.2906480e+08, 3.2906474e+08,\n",
       "       3.2906467e+08, 3.2906450e+08, 3.2906442e+08, 3.2906432e+08,\n",
       "       3.2906416e+08, 3.2906378e+08, 3.2906333e+08, 3.2906272e+08,\n",
       "       3.2906195e+08, 3.2906170e+08, 3.2906022e+08, 3.2905840e+08,\n",
       "       3.2905578e+08, 3.2905126e+08, 3.2904490e+08, 3.2903890e+08,\n",
       "       3.2903008e+08, 3.2901885e+08, 3.2900822e+08, 3.2899616e+08,\n",
       "       3.2897830e+08, 3.2895960e+08, 3.2894003e+08, 3.2892115e+08,\n",
       "       3.2889907e+08, 3.2887277e+08, 3.2884688e+08, 3.2881648e+08,\n",
       "       3.2878450e+08, 3.2875150e+08, 3.2872330e+08, 3.2869312e+08,\n",
       "       3.2866173e+08, 3.2862950e+08, 3.2859494e+08, 3.2856144e+08,\n",
       "       3.2853213e+08, 3.2850520e+08, 3.2847940e+08, 3.2845085e+08,\n",
       "       3.2842067e+08, 3.2838928e+08, 3.2835660e+08, 3.2832867e+08,\n",
       "       3.2830300e+08, 3.2827456e+08, 3.2824850e+08, 3.2821920e+08,\n",
       "       3.2818602e+08, 3.2815226e+08, 3.2812070e+08, 3.2809386e+08,\n",
       "       3.2807066e+08, 3.2804600e+08, 3.2801818e+08, 3.2798870e+08])"
      ]
     },
     "execution_count": 25,
     "metadata": {},
     "output_type": "execute_result"
    }
   ],
   "source": [
    "empty_data"
   ]
  },
  {
   "cell_type": "code",
   "execution_count": 20,
   "metadata": {},
   "outputs": [
    {
     "name": "stdout",
     "output_type": "stream",
     "text": [
      "Simulated 78876.0 infections after 1 attempts\n"
     ]
    }
   ],
   "source": [
    "population = 329064930\n",
    "recovery_time = 10.\n",
    "incubation_time = 14.\n",
    "empty_data = US_SIR['S'].values[:100] #[None] * 300\n",
    "model = SimpleSIRModel(population, recovery_time, empty_data)\n",
    "\n",
    "# We'll repeatedly generate data until a desired number of infections is found.\n",
    "pyro.set_rng_seed(20200709)\n",
    "for attempt in range(100):\n",
    "    synth_data = model.generate({\"R0\": 1.2})\n",
    "    total_infections = synth_data[\"S2I\"].sum().item()\n",
    "   # if 4000 <= total_infections <= 6000:\n",
    "    break\n",
    "print(\"Simulated {} infections after {} attempts\".format(total_infections, 1 + attempt))\n"
   ]
  },
  {
   "cell_type": "code",
   "execution_count": 21,
   "metadata": {},
   "outputs": [],
   "source": [
    "real_data = collections.OrderedDict()\n",
    "real_data['R0'] = synth_data['R0']\n",
    "real_data['rho'] = synth_data['rho']\n",
    "real_data['S'] = S\n",
    "real_data['S2I'] = S2I\n",
    "real_data['I2R'] = I2R\n",
    "real_data['I'] = I\n",
    "real_data['obs'] = obs"
   ]
  },
  {
   "cell_type": "code",
   "execution_count": 22,
   "metadata": {},
   "outputs": [
    {
     "name": "stdout",
     "output_type": "stream",
     "text": [
      "I.shape = (100,)\n",
      "I2R.shape = (100,)\n",
      "R0.shape = ()\n",
      "S.shape = (100,)\n",
      "S2I.shape = (100,)\n",
      "obs.shape = (100,)\n",
      "rho.shape = ()\n"
     ]
    }
   ],
   "source": [
    "for key, value in sorted(synth_data.items()):\n",
    "    print(\"{}.shape = {}\".format(key, tuple(value.shape)))\n",
    "    "
   ]
  },
  {
   "cell_type": "code",
   "execution_count": 23,
   "metadata": {},
   "outputs": [
    {
     "data": {
      "image/png": "[encoded data removed]",
      "text/plain": [
       "<Figure size 576x288 with 1 Axes>"
      ]
     },
     "metadata": {
      "needs_background": "light"
     },
     "output_type": "display_data"
    }
   ],
   "source": [
    "plt.figure(figsize=(8,4))\n",
    "for name, value in sorted(synth_data.items()):\n",
    "    if value.dim():\n",
    "        plt.plot(value, label=name)\n",
    "plt.xlim(0, len(empty_data) - 1)\n",
    "plt.ylim(0.8, None)\n",
    "plt.xlabel(\"time step\")\n",
    "plt.ylabel(\"individuals\")\n",
    "plt.yscale(\"log\")\n",
    "\n",
    "plt.legend(loc=\"best\")\n",
    "plt.title(\"Synthetic time series\")\n",
    "plt.tight_layout()"
   ]
  },
  {
   "cell_type": "markdown",
   "metadata": {},
   "source": [
    "## Inference"
   ]
  },
  {
   "cell_type": "code",
   "execution_count": 35,
   "metadata": {},
   "outputs": [],
   "source": [
    "# what if we only have obs? can we estimate using just that? \n",
    "obs = synth_data[\"obs\"]\n",
    "population = 329064930\n",
    "recovery_time = 10.\n",
    "model = SimpleSIRModel(population, recovery_time, obs) \n"
   ]
  },
  {
   "cell_type": "code",
   "execution_count": 43,
   "metadata": {
    "scrolled": true
   },
   "outputs": [
    {
     "name": "stderr",
     "output_type": "stream",
     "text": [
      "INFO \t Running inference...\n",
      "Warmup:   0%|          | 0/1600 [00:00, ?it/s]INFO \t Heuristic init: R0=0.176, rho=0.487\n",
      "Sample: 100%|██████████| 1600/1600 [00:24, 66.34it/s, step size=1.91e-08, acc. prob=1.000]\n"
     ]
    }
   ],
   "source": [
    "mcmc = model.fit_mcmc(num_samples=4 if smoke_test else 800,\n",
    "                      jit_compile=True,)"
   ]
  },
  {
   "cell_type": "code",
   "execution_count": 44,
   "metadata": {},
   "outputs": [],
   "source": [
    "def plot_forecast(samples):\n",
    "    duration = len(synth_data['S'])\n",
    "    forecast = samples[\"S\"].size(-1) - duration\n",
    "    num_samples = len(samples[\"R0\"])\n",
    "\n",
    "    time = torch.arange(duration + forecast)\n",
    "    S2I = samples[\"S2I\"]\n",
    "    median = S2I.median(dim=0).values\n",
    "    p05 = S2I.kthvalue(int(round(0.5 + 0.05 * num_samples)), dim=0).values\n",
    "    p95 = S2I.kthvalue(int(round(0.5 + 0.95 * num_samples)), dim=0).values\n",
    "\n",
    "    plt.figure(figsize=(8, 4))\n",
    "    plt.fill_between(time, p05, p95, color=\"red\", alpha=0.3, label=\"90% CI\")\n",
    "    plt.plot(time, median, \"r-\", label=\"median\")\n",
    "    plt.plot(time[:duration], obs, \"k.\", label=\"observed\")\n",
    "    plt.plot(time[:duration], synth_data[\"S2I\"], \"k--\", label=\"truth\")\n",
    "    plt.axvline(duration - 0.5, color=\"gray\", lw=1)\n",
    "    plt.xlim(0, len(time) - 1)\n",
    "    plt.ylim(0, None)\n",
    "    plt.xlabel(\"day after first infection\")\n",
    "    plt.ylabel(\"new infections per day\")\n",
    "    plt.title(\"New infections in population of {}\".format(population))\n",
    "    plt.legend(loc=\"upper left\")\n",
    "    plt.tight_layout()\n"
   ]
  },
  {
   "cell_type": "code",
   "execution_count": 45,
   "metadata": {},
   "outputs": [
    {
     "name": "stderr",
     "output_type": "stream",
     "text": [
      "INFO \t Predicting latent variables for 100 time steps...\n",
      "INFO \t Forecasting 30 steps ahead...\n"
     ]
    },
    {
     "data": {
      "image/png": "[encoded data removed]",
      "text/plain": [
       "<Figure size 576x288 with 1 Axes>"
      ]
     },
     "metadata": {
      "needs_background": "light"
     },
     "output_type": "display_data"
    }
   ],
   "source": [
    "samples = model.predict(forecast=30)\n",
    "plot_forecast(samples)"
   ]
  },
  {
   "cell_type": "code",
   "execution_count": 46,
   "metadata": {},
   "outputs": [
    {
     "name": "stderr",
     "output_type": "stream",
     "text": [
      "INFO \t Predicting latent variables for 100 time steps...\n"
     ]
    }
   ],
   "source": [
    "samples = model.predict()"
   ]
  },
  {
   "cell_type": "code",
   "execution_count": 48,
   "metadata": {},
   "outputs": [
    {
     "name": "stderr",
     "output_type": "stream",
     "text": [
      "/scratch/nsk367/anaconda3/envs/pyro/lib/python3.8/site-packages/seaborn/distributions.py:2551: FutureWarning: `distplot` is a deprecated function and will be removed in a future version. Please adapt your code to use either `displot` (a figure-level function with similar flexibility) or `histplot` (an axes-level function for histograms).\n",
      "  warnings.warn(msg, FutureWarning)\n",
      "/scratch/nsk367/anaconda3/envs/pyro/lib/python3.8/site-packages/seaborn/distributions.py:305: UserWarning: Dataset has 0 variance; skipping density estimate.\n",
      "  warnings.warn(msg, UserWarning)\n",
      "/scratch/nsk367/anaconda3/envs/pyro/lib/python3.8/site-packages/seaborn/distributions.py:2551: FutureWarning: `distplot` is a deprecated function and will be removed in a future version. Please adapt your code to use either `displot` (a figure-level function with similar flexibility) or `histplot` (an axes-level function for histograms).\n",
      "  warnings.warn(msg, FutureWarning)\n",
      "/scratch/nsk367/anaconda3/envs/pyro/lib/python3.8/site-packages/seaborn/distributions.py:305: UserWarning: Dataset has 0 variance; skipping density estimate.\n",
      "  warnings.warn(msg, UserWarning)\n"
     ]
    },
    {
     "data": {
      "image/png": "[encoded data removed]",
      "text/plain": [
       "<Figure size 360x360 with 2 Axes>"
      ]
     },
     "metadata": {
      "needs_background": "light"
     },
     "output_type": "display_data"
    }
   ],
   "source": [
    "names = [\"R0\", \"rho\"]\n",
    "fig, axes = plt.subplots(2, 1, figsize=(5, 5))\n",
    "axes[0].set_title(\"Posterior estimates of global parameters\")\n",
    "for ax, name in zip(axes, names):\n",
    "    #truth = synth_data[name]\n",
    "    sns.distplot(samples[name], ax=ax, label=\"posterior\")\n",
    "    #ax.axvline(truth, color=\"k\", label=\"truth\")\n",
    "    ax.set_xlabel(name)\n",
    "    ax.set_yticks(())\n",
    "    ax.legend(loc=\"best\")\n",
    "plt.tight_layout()"
   ]
  },
  {
   "cell_type": "code",
   "execution_count": 49,
   "metadata": {},
   "outputs": [
    {
     "data": {
      "text/plain": [
       "0.170000001"
      ]
     },
     "execution_count": 49,
     "metadata": {},
     "output_type": "execute_result"
    }
   ],
   "source": [
    "1e-9 + 1.7e-1"
   ]
  },
  {
   "cell_type": "markdown",
   "metadata": {},
   "source": []
  },
  {
   "cell_type": "code",
   "execution_count": null,
   "metadata": {},
   "outputs": [],
   "source": []
  }
 ],
 "metadata": {
  "kernelspec": {
   "display_name": "Python 3",
   "language": "python",
   "name": "python3"
  },
  "language_info": {
   "codemirror_mode": {
    "name": "ipython",
    "version": 3
   },
   "file_extension": ".py",
   "mimetype": "text/x-python",
   "name": "python",
   "nbconvert_exporter": "python",
   "pygments_lexer": "ipython3",
   "version": "3.8.5"
  }
 },
 "nbformat": 4,
 "nbformat_minor": 4
}
