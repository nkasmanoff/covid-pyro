{
 "cells": [
  {
   "cell_type": "markdown",
   "metadata": {},
   "source": [
    "Building on the tutorial at https://pyro.ai/examples/sir_hmc.html, the folks at Pyro created an additional interface for SIR modeling that compresses much of the info that that tutorial provided into a concrete interface for compartmental modeling. Below is that work, drawn from http://pyro.ai/examples/epi_intro.html"
   ]
  },
  {
   "cell_type": "markdown",
   "metadata": {},
   "source": [
    "This is my second notebook in this \"series\". Will again use the compartmental model, but this time for SEIR modeling. Due to difficulty in finding this data in the real world (not to mention how hard it was to model in SIR to begin with), I'll stick with synthetic data for now. Using MCMC and SVI methods to estimate epidemic parameters and see if intervention helps, and to what extent. "
   ]
  },
  {
   "cell_type": "code",
   "execution_count": 1,
   "metadata": {},
   "outputs": [
    {
     "name": "stderr",
     "output_type": "stream",
     "text": [
      "/app/python/matplotlib/__init__.py:886: MatplotlibDeprecationWarning: \n",
      "examples.directory is deprecated; in the future, examples will be found relative to the 'datapath' directory.\n",
      "  \"found relative to the 'datapath' directory.\".format(key))\n"
     ]
    }
   ],
   "source": [
    "import os\n",
    "import matplotlib.pyplot as plt\n",
    "import seaborn as sns\n",
    "import torch\n",
    "import pyro\n",
    "import pyro.distributions as dist\n",
    "from pyro.contrib.epidemiology import CompartmentalModel, binomial_dist, infection_dist\n",
    "\n",
    "%matplotlib inline\n",
    "#assert pyro.__version__.startswith('1.5.0') # I have 1.5.1, hopefully not a problem to comment this out. \n",
    "torch.set_default_dtype(torch.double)  # Required for MCMC inference.\n",
    "pyro.enable_validation(True)  # Always a good idea.\n",
    "smoke_test = ('CI' in os.environ)"
   ]
  },
  {
   "cell_type": "code",
   "execution_count": 2,
   "metadata": {},
   "outputs": [
    {
     "data": {
      "text/plain": [
       "'1.5.0'"
      ]
     },
     "execution_count": 2,
     "metadata": {},
     "output_type": "execute_result"
    }
   ],
   "source": [
    "pyro.__version__"
   ]
  },
  {
   "cell_type": "code",
   "execution_count": 3,
   "metadata": {},
   "outputs": [],
   "source": [
    "class SimpleSEIRModel(CompartmentalModel):\n",
    "    \"\"\"\n",
    "    Susceptible-Exposed-Infected-Recovered model.\n",
    "\n",
    "    To customize this model we recommend forking and editing this class.\n",
    "\n",
    "    This is a stochastic discrete-time discrete-state model with four\n",
    "    compartments: \"S\" for susceptible, \"E\" for exposed, \"I\" for infected,\n",
    "    and \"R\" for recovered individuals (the recovered individuals are\n",
    "    implicit: ``R = population - S - E - I``) with transitions\n",
    "    ``S -> E -> I -> R``.\n",
    "\n",
    "    :param int population: Total ``population = S + E + I + R``.\n",
    "    :param float incubation_time: Mean incubation time (duration in state\n",
    "        ``E``). Must be greater than 1.\n",
    "    :param float recovery_time: Mean recovery time (duration in state\n",
    "        ``I``). Must be greater than 1.\n",
    "    :param iterable data: Time series of new observed infections. Each time\n",
    "        step is Binomial distributed between 0 and the number of ``S -> E``\n",
    "        transitions. This allows false negative but no false positives.\n",
    "    \"\"\"\n",
    "\n",
    "    def __init__(self, population, incubation_time, recovery_time, data):\n",
    "        compartments = (\"S\", \"E\", \"I\")  # R is implicit.\n",
    "        duration = len(data)\n",
    "        super().__init__(compartments, duration, population)\n",
    "\n",
    "        assert isinstance(incubation_time, float)\n",
    "        assert incubation_time > 1\n",
    "        self.incubation_time = incubation_time\n",
    "\n",
    "        assert isinstance(recovery_time, float)\n",
    "        assert recovery_time > 1\n",
    "        self.recovery_time = recovery_time\n",
    "\n",
    "        self.data = data\n",
    "\n",
    "    def global_model(self):\n",
    "        tau_e = self.incubation_time\n",
    "        tau_i = self.recovery_time\n",
    "        R0 = pyro.sample(\"R0\", dist.LogNormal(0., 1.))\n",
    "        rho = pyro.sample(\"rho\", dist.Beta(10, 10))\n",
    "        return R0, tau_e, tau_i, rho\n",
    "\n",
    "    def initialize(self, params):\n",
    "        # Start with a single infection.\n",
    "        return {\"S\": self.population - 1, \"E\": 0, \"I\": 1}\n",
    "\n",
    "    def transition(self, params, state, t):\n",
    "        R0, tau_e, tau_i, rho = params\n",
    "\n",
    "        # Sample flows between compartments.\n",
    "        S2E = pyro.sample(\"S2E_{}\".format(t),\n",
    "                          infection_dist(individual_rate=R0 / tau_i,    ## TODO: it seems like in paper, (1-u) * (b1*_i1 + b2*_i2 + b3*_i3)/_n*_s\n",
    "                                         num_susceptible=state[\"S\"],\n",
    "                                         num_infectious=state[\"I\"],\n",
    "                                         population=self.population))\n",
    "        E2I = pyro.sample(\"E2I_{}\".format(t),\n",
    "                          binomial_dist(state[\"E\"], 1 / tau_e))\n",
    "        I2R = pyro.sample(\"I2R_{}\".format(t),\n",
    "                          binomial_dist(state[\"I\"], 1 / tau_i))\n",
    "\n",
    "        # Update compartments with flows.\n",
    "        state[\"S\"] = state[\"S\"] - S2E\n",
    "        state[\"E\"] = state[\"E\"] + S2E - E2I\n",
    "        state[\"I\"] = state[\"I\"] + E2I - I2R\n",
    "\n",
    "        # Condition on observations.\n",
    "        t_is_observed = isinstance(t, slice) or t < self.duration\n",
    "        pyro.sample(\"obs_{}\".format(t),\n",
    "                    binomial_dist(S2E, rho),\n",
    "                    obs=self.data[t] if t_is_observed else None)\n",
    "\n"
   ]
  },
  {
   "cell_type": "markdown",
   "metadata": {},
   "source": [
    "## Generating Data\n",
    "\n",
    "What if I don't want to do this? "
   ]
  },
  {
   "cell_type": "code",
   "execution_count": 4,
   "metadata": {},
   "outputs": [
    {
     "name": "stdout",
     "output_type": "stream",
     "text": [
      "Simulated 13074133.0 infections after 1 attempts\n"
     ]
    }
   ],
   "source": [
    "population = 329064930\n",
    "recovery_time = 10.\n",
    "incubation_time = 14.\n",
    "empty_data = [None] * 300\n",
    "model = SimpleSEIRModel(population, incubation_time, recovery_time, empty_data)\n",
    "\n",
    "# We'll repeatedly generate data until a desired number of infections is found.\n",
    "pyro.set_rng_seed(20200709)\n",
    "for attempt in range(100):\n",
    "    synth_data = model.generate({\"R0\": 1.7})\n",
    "    total_infections = synth_data[\"S2E\"].sum().item()\n",
    "   # if 4000 <= total_infections <= 6000:\n",
    "    break\n",
    "print(\"Simulated {} infections after {} attempts\".format(total_infections, 1 + attempt))\n"
   ]
  },
  {
   "cell_type": "code",
   "execution_count": null,
   "metadata": {},
   "outputs": [],
   "source": []
  },
  {
   "cell_type": "markdown",
   "metadata": {},
   "source": [
    "For the model to work, it requires S, S2I, I, I2R, obs (noisy S2I), R0, and rho. \n",
    "\n",
    "\n",
    "At the moment, all of these things are synthetically generated, after we first specify R0, rho and population. \n",
    "\n",
    "For real world, I'll try this now, but we set:\n",
    "\n",
    "S2I = obs, and use reported values for the others. In essence we no longer use the noisy observations and assume whatever is reported is right? \n",
    "\n",
    "I'm not sure if the model will work if we do not specify R0 or rho, so will have to try this and find out. "
   ]
  },
  {
   "cell_type": "markdown",
   "metadata": {},
   "source": [
    "#### Swapneel's comments: I think you mean we have to specify a prior for R0 and rho and the model will update that into a posterior estimate based on the data that it observes."
   ]
  },
  {
   "cell_type": "code",
   "execution_count": 5,
   "metadata": {},
   "outputs": [
    {
     "name": "stdout",
     "output_type": "stream",
     "text": [
      "E.shape = (300,)\n",
      "E2I.shape = (300,)\n",
      "I.shape = (300,)\n",
      "I2R.shape = (300,)\n",
      "R0.shape = ()\n",
      "S.shape = (300,)\n",
      "S2E.shape = (300,)\n",
      "obs.shape = (300,)\n",
      "rho.shape = ()\n"
     ]
    }
   ],
   "source": [
    "for key, value in sorted(synth_data.items()):\n",
    "    print(\"{}.shape = {}\".format(key, tuple(value.shape)))\n",
    "    "
   ]
  },
  {
   "cell_type": "code",
   "execution_count": null,
   "metadata": {},
   "outputs": [],
   "source": []
  },
  {
   "cell_type": "code",
   "execution_count": 6,
   "metadata": {},
   "outputs": [
    {
     "data": {
      "image/png": "[encoded data removed]",
      "text/plain": [
       "<Figure size 576x288 with 1 Axes>"
      ]
     },
     "metadata": {
      "needs_background": "light"
     },
     "output_type": "display_data"
    }
   ],
   "source": [
    "plt.figure(figsize=(8,4))\n",
    "for name, value in sorted(synth_data.items()):\n",
    "    if value.dim():\n",
    "        plt.plot(value, label=name)\n",
    "plt.xlim(0, len(empty_data) - 1)\n",
    "plt.ylim(0.8, None)\n",
    "plt.xlabel(\"time step\")\n",
    "plt.ylabel(\"individuals\")\n",
    "plt.yscale(\"log\")\n",
    "plt.legend(loc=\"best\")\n",
    "plt.title(\"Synthetic time series\")\n",
    "plt.tight_layout()"
   ]
  },
  {
   "cell_type": "markdown",
   "metadata": {},
   "source": [
    "## Inference"
   ]
  },
  {
   "cell_type": "code",
   "execution_count": 7,
   "metadata": {},
   "outputs": [],
   "source": [
    "# what if we only have obs? can we estimate using just that? \n",
    "obs = synth_data[\"obs\"]\n",
    "model = SimpleSEIRModel(population, incubation_time, recovery_time, obs) \n"
   ]
  },
  {
   "cell_type": "code",
   "execution_count": 8,
   "metadata": {},
   "outputs": [
    {
     "name": "stderr",
     "output_type": "stream",
     "text": [
      "INFO \t Failed to find feasible hypothesis after site obs_136. Retrying...\n",
      "INFO \t Failed to find feasible hypothesis after site obs_67. Retrying...\n",
      "INFO \t Failed to find feasible hypothesis after site obs_89. Retrying...\n",
      "INFO \t Failed to find feasible hypothesis after site obs_167. Retrying...\n",
      "INFO \t Heuristic init: R0=1.98, rho=0.356\n",
      "INFO \t Running inference...\n",
      "INFO \t step 0 loss = 1.958e+08\n",
      "INFO \t step 200 loss = 1.696e+08\n",
      "INFO \t step 400 loss = 6.419e+07\n",
      "INFO \t step 600 loss = 1.354e+05\n",
      "INFO \t step 800 loss = 1.288e+04\n",
      "INFO \t step 1000 loss = 6872\n",
      "INFO \t step 1200 loss = 3575\n",
      "INFO \t step 1400 loss = 1911\n",
      "INFO \t step 1600 loss = 1180\n",
      "INFO \t step 1800 loss = 761.7\n",
      "INFO \t step 2000 loss = 529.8\n",
      "INFO \t SVI took 47.2 seconds, 42.4 step/sec\n"
     ]
    },
    {
     "name": "stdout",
     "output_type": "stream",
     "text": [
      "CPU times: user 8min 39s, sys: 55.2 s, total: 9min 34s\n",
      "Wall time: 1min\n"
     ]
    }
   ],
   "source": [
    "%%time\n",
    "losses = model.fit_svi(num_steps=101 if smoke_test else 2001,\n",
    "                       jit=True)"
   ]
  },
  {
   "cell_type": "code",
   "execution_count": 9,
   "metadata": {},
   "outputs": [
    {
     "data": {
      "image/png": "[encoded data removed]",
      "text/plain": [
       "<Figure size 576x216 with 1 Axes>"
      ]
     },
     "metadata": {
      "needs_background": "light"
     },
     "output_type": "display_data"
    }
   ],
   "source": [
    "plt.figure(figsize=(8, 3))\n",
    "plt.plot(losses)\n",
    "plt.xlabel(\"SVI step\")\n",
    "plt.ylabel(\"loss\")\n",
    "plt.ylim(min(losses), max(losses[50:]));"
   ]
  },
  {
   "cell_type": "code",
   "execution_count": 10,
   "metadata": {},
   "outputs": [
    {
     "name": "stdout",
     "output_type": "stream",
     "text": [
      "R0.shape = (100, 1)\n",
      "auxiliary.shape = (100, 1, 3, 300)\n",
      "rho.shape = (100, 1)\n"
     ]
    }
   ],
   "source": [
    "for key, value in sorted(model.samples.items()):\n",
    "    print(\"{}.shape = {}\".format(key, tuple(value.shape)))"
   ]
  },
  {
   "cell_type": "code",
   "execution_count": 11,
   "metadata": {},
   "outputs": [
    {
     "name": "stderr",
     "output_type": "stream",
     "text": [
      "INFO \t Predicting latent variables for 300 time steps...\n"
     ]
    },
    {
     "name": "stdout",
     "output_type": "stream",
     "text": [
      "CPU times: user 864 ms, sys: 3.82 ms, total: 868 ms\n",
      "Wall time: 879 ms\n"
     ]
    }
   ],
   "source": [
    "%%time\n",
    "samples = model.predict()"
   ]
  },
  {
   "cell_type": "code",
   "execution_count": 12,
   "metadata": {},
   "outputs": [
    {
     "name": "stderr",
     "output_type": "stream",
     "text": [
      "/opt/conda/envs/pyprobenv/lib/python3.6/site-packages/seaborn/distributions.py:2551: FutureWarning: `distplot` is a deprecated function and will be removed in a future version. Please adapt your code to use either `displot` (a figure-level function with similar flexibility) or `histplot` (an axes-level function for histograms).\n",
      "  warnings.warn(msg, FutureWarning)\n",
      "/app/python/matplotlib/cbook/__init__.py:1377: FutureWarning: Support for multi-dimensional indexing (e.g. `obj[:, None]`) is deprecated and will be removed in a future version.  Convert to a numpy array before indexing instead.\n",
      "  x[:, None]\n",
      "/app/python/matplotlib/axes/_base.py:237: FutureWarning: Support for multi-dimensional indexing (e.g. `obj[:, None]`) is deprecated and will be removed in a future version.  Convert to a numpy array before indexing instead.\n",
      "  x = x[:, np.newaxis]\n",
      "/app/python/matplotlib/axes/_base.py:239: FutureWarning: Support for multi-dimensional indexing (e.g. `obj[:, None]`) is deprecated and will be removed in a future version.  Convert to a numpy array before indexing instead.\n",
      "  y = y[:, np.newaxis]\n",
      "/opt/conda/envs/pyprobenv/lib/python3.6/site-packages/seaborn/distributions.py:2551: FutureWarning: `distplot` is a deprecated function and will be removed in a future version. Please adapt your code to use either `displot` (a figure-level function with similar flexibility) or `histplot` (an axes-level function for histograms).\n",
      "  warnings.warn(msg, FutureWarning)\n",
      "/opt/conda/envs/pyprobenv/lib/python3.6/site-packages/seaborn/distributions.py:305: UserWarning: Dataset has 0 variance; skipping density estimate.\n",
      "  warnings.warn(msg, UserWarning)\n"
     ]
    },
    {
     "data": {
      "image/png": "[encoded data removed]",
      "text/plain": [
       "<Figure size 360x360 with 2 Axes>"
      ]
     },
     "metadata": {
      "needs_background": "light"
     },
     "output_type": "display_data"
    }
   ],
   "source": [
    "names = [\"R0\", \"rho\"]\n",
    "fig, axes = plt.subplots(2, 1, figsize=(5, 5))\n",
    "axes[0].set_title(\"Posterior estimates of global parameters\")\n",
    "for ax, name in zip(axes, names):\n",
    "    truth = synth_data[name]\n",
    "    sns.distplot(samples[name], ax=ax, label=\"posterior\")\n",
    "    ax.axvline(truth, color=\"k\", label=\"truth\")\n",
    "    ax.set_xlabel(name)\n",
    "    ax.set_yticks(())\n",
    "    ax.legend(loc=\"best\")\n",
    "plt.tight_layout()\n"
   ]
  },
  {
   "cell_type": "markdown",
   "metadata": {},
   "source": [
    "## MCMC"
   ]
  },
  {
   "cell_type": "code",
   "execution_count": 13,
   "metadata": {},
   "outputs": [
    {
     "name": "stderr",
     "output_type": "stream",
     "text": [
      "INFO \t Running inference...\n",
      "Warmup:   0%|          | 0/400 [00:00, ?it/s]INFO \t Heuristic init: R0=1.59, rho=0.359\n",
      "Sample: 100%|██████████| 400/400 [00:56,  7.09it/s, step size=8.67e-04, acc. prob=0.867]\n"
     ]
    }
   ],
   "source": [
    "mcmc = model.fit_mcmc(num_samples=4 if smoke_test else 200,\n",
    "                      jit_compile=True,)"
   ]
  },
  {
   "cell_type": "markdown",
   "metadata": {},
   "source": [
    "## Prediction"
   ]
  },
  {
   "cell_type": "code",
   "execution_count": 14,
   "metadata": {},
   "outputs": [
    {
     "name": "stderr",
     "output_type": "stream",
     "text": [
      "INFO \t Predicting latent variables for 300 time steps...\n"
     ]
    },
    {
     "name": "stdout",
     "output_type": "stream",
     "text": [
      "CPU times: user 818 ms, sys: 5.9 ms, total: 824 ms\n",
      "Wall time: 835 ms\n"
     ]
    }
   ],
   "source": [
    "%%time\n",
    "samples = model.predict()"
   ]
  },
  {
   "cell_type": "code",
   "execution_count": 15,
   "metadata": {},
   "outputs": [
    {
     "name": "stdout",
     "output_type": "stream",
     "text": [
      "E.shape = (200, 300)\n",
      "E2I.shape = (200, 300)\n",
      "I.shape = (200, 300)\n",
      "I2R.shape = (200, 300)\n",
      "R0.shape = (200, 1)\n",
      "S.shape = (200, 300)\n",
      "S2E.shape = (200, 300)\n",
      "auxiliary.shape = (200, 1, 3, 300)\n",
      "obs.shape = (200, 300)\n",
      "rho.shape = (200, 1)\n"
     ]
    }
   ],
   "source": [
    "for key, value in sorted(samples.items()):\n",
    "    print(\"{}.shape = {}\".format(key, tuple(value.shape)))"
   ]
  },
  {
   "cell_type": "code",
   "execution_count": 16,
   "metadata": {},
   "outputs": [
    {
     "name": "stderr",
     "output_type": "stream",
     "text": [
      "/opt/conda/envs/pyprobenv/lib/python3.6/site-packages/seaborn/distributions.py:2551: FutureWarning: `distplot` is a deprecated function and will be removed in a future version. Please adapt your code to use either `displot` (a figure-level function with similar flexibility) or `histplot` (an axes-level function for histograms).\n",
      "  warnings.warn(msg, FutureWarning)\n",
      "/app/python/matplotlib/cbook/__init__.py:1377: FutureWarning: Support for multi-dimensional indexing (e.g. `obj[:, None]`) is deprecated and will be removed in a future version.  Convert to a numpy array before indexing instead.\n",
      "  x[:, None]\n",
      "/app/python/matplotlib/axes/_base.py:237: FutureWarning: Support for multi-dimensional indexing (e.g. `obj[:, None]`) is deprecated and will be removed in a future version.  Convert to a numpy array before indexing instead.\n",
      "  x = x[:, np.newaxis]\n",
      "/app/python/matplotlib/axes/_base.py:239: FutureWarning: Support for multi-dimensional indexing (e.g. `obj[:, None]`) is deprecated and will be removed in a future version.  Convert to a numpy array before indexing instead.\n",
      "  y = y[:, np.newaxis]\n",
      "/opt/conda/envs/pyprobenv/lib/python3.6/site-packages/seaborn/distributions.py:2551: FutureWarning: `distplot` is a deprecated function and will be removed in a future version. Please adapt your code to use either `displot` (a figure-level function with similar flexibility) or `histplot` (an axes-level function for histograms).\n",
      "  warnings.warn(msg, FutureWarning)\n",
      "/app/python/matplotlib/cbook/__init__.py:1377: FutureWarning: Support for multi-dimensional indexing (e.g. `obj[:, None]`) is deprecated and will be removed in a future version.  Convert to a numpy array before indexing instead.\n",
      "  x[:, None]\n",
      "/app/python/matplotlib/axes/_base.py:237: FutureWarning: Support for multi-dimensional indexing (e.g. `obj[:, None]`) is deprecated and will be removed in a future version.  Convert to a numpy array before indexing instead.\n",
      "  x = x[:, np.newaxis]\n",
      "/app/python/matplotlib/axes/_base.py:239: FutureWarning: Support for multi-dimensional indexing (e.g. `obj[:, None]`) is deprecated and will be removed in a future version.  Convert to a numpy array before indexing instead.\n",
      "  y = y[:, np.newaxis]\n"
     ]
    },
    {
     "data": {
      "image/png": "[encoded data removed]",
      "text/plain": [
       "<Figure size 360x360 with 2 Axes>"
      ]
     },
     "metadata": {
      "needs_background": "light"
     },
     "output_type": "display_data"
    }
   ],
   "source": [
    "names = [\"R0\", \"rho\"]\n",
    "fig, axes = plt.subplots(2, 1, figsize=(5, 5))\n",
    "axes[0].set_title(\"Posterior estimates of global parameters\")\n",
    "for ax, name in zip(axes, names):\n",
    "    truth = synth_data[name]\n",
    "    sns.distplot(samples[name], ax=ax, label=\"posterior\")\n",
    "    ax.axvline(truth, color=\"k\", label=\"truth\")\n",
    "    ax.set_xlabel(name)\n",
    "    ax.set_yticks(())\n",
    "    ax.legend(loc=\"best\")\n",
    "plt.tight_layout()\n"
   ]
  },
  {
   "cell_type": "markdown",
   "metadata": {},
   "source": [
    "## Forecasting"
   ]
  },
  {
   "cell_type": "code",
   "execution_count": 17,
   "metadata": {},
   "outputs": [
    {
     "name": "stderr",
     "output_type": "stream",
     "text": [
      "INFO \t Predicting latent variables for 300 time steps...\n"
     ]
    },
    {
     "name": "stdout",
     "output_type": "stream",
     "text": [
      "CPU times: user 4 µs, sys: 0 ns, total: 4 µs\n",
      "Wall time: 9.3 µs\n"
     ]
    },
    {
     "name": "stderr",
     "output_type": "stream",
     "text": [
      "INFO \t Forecasting 30 steps ahead...\n"
     ]
    }
   ],
   "source": [
    "%time\n",
    "samples = model.predict(forecast=30)"
   ]
  },
  {
   "cell_type": "code",
   "execution_count": 18,
   "metadata": {},
   "outputs": [
    {
     "data": {
      "image/png": "[encoded data removed]",
      "text/plain": [
       "<Figure size 576x288 with 1 Axes>"
      ]
     },
     "metadata": {
      "needs_background": "light"
     },
     "output_type": "display_data"
    }
   ],
   "source": [
    "\n",
    "def plot_forecast(samples):\n",
    "    duration = len(empty_data)\n",
    "    forecast = samples[\"S\"].size(-1) - duration\n",
    "    num_samples = len(samples[\"R0\"])\n",
    "\n",
    "    time = torch.arange(duration + forecast)\n",
    "    S2E = samples[\"S2E\"]\n",
    "    median = S2E.median(dim=0).values\n",
    "    p05 = S2E.kthvalue(int(round(0.5 + 0.05 * num_samples)), dim=0).values\n",
    "    p95 = S2E.kthvalue(int(round(0.5 + 0.95 * num_samples)), dim=0).values\n",
    "\n",
    "    plt.figure(figsize=(8, 4))\n",
    "    plt.fill_between(time, p05, p95, color=\"red\", alpha=0.3, label=\"90% CI\")\n",
    "    plt.plot(time, median, \"r-\", label=\"median\")\n",
    "    plt.plot(time[:duration], obs, \"k.\", label=\"observed\")\n",
    "    plt.plot(time[:duration], synth_data[\"S2E\"], \"k--\", label=\"truth\")\n",
    "    plt.axvline(duration - 0.5, color=\"gray\", lw=1)\n",
    "    plt.xlim(0, len(time) - 1)\n",
    "    plt.ylim(0, None)\n",
    "    plt.xlabel(\"day after first infection\")\n",
    "    plt.ylabel(\"new infections per day\")\n",
    "    plt.title(\"New infections in population of {}\".format(population))\n",
    "    plt.legend(loc=\"upper left\")\n",
    "    plt.tight_layout()\n",
    "\n",
    "plot_forecast(samples)"
   ]
  },
  {
   "cell_type": "markdown",
   "metadata": {},
   "source": [
    "A suggestion of the authors is to use MCMC rather than SVI to estimate, and this will produce better results with only a little longer compute time. I will avoid doing that for the moment, because I would consider it a higher priority to figure out how to run this model with actual data, rather than manufactured. "
   ]
  },
  {
   "cell_type": "code",
   "execution_count": 19,
   "metadata": {},
   "outputs": [
    {
     "data": {
      "text/plain": [
       "OrderedDict([('R0', tensor(1.7000)),\n",
       "             ('rho', tensor(0.3762)),\n",
       "             ('I2R',\n",
       "              tensor([0.0000e+00, 0.0000e+00, 0.0000e+00, 1.1000e+01, 1.4000e+01, 2.0000e+01,\n",
       "                      3.1000e+01, 3.5000e+01, 5.0000e+01, 5.4000e+01, 5.9000e+01, 6.9000e+01,\n",
       "                      7.9000e+01, 1.0900e+02, 9.7000e+01, 1.2800e+02, 1.2300e+02, 1.3800e+02,\n",
       "                      1.3700e+02, 1.4200e+02, 1.6400e+02, 1.5400e+02, 1.8900e+02, 2.0000e+02,\n",
       "                      2.2400e+02, 2.3000e+02, 2.3700e+02, 2.1600e+02, 2.3600e+02, 2.1900e+02,\n",
       "                      2.6100e+02, 2.6500e+02, 2.4200e+02, 2.6100e+02, 2.5500e+02, 3.1500e+02,\n",
       "                      2.8600e+02, 2.9900e+02, 2.9700e+02, 3.2400e+02, 3.1600e+02, 3.0900e+02,\n",
       "                      3.2700e+02, 3.3400e+02, 3.7300e+02, 3.4700e+02, 3.5900e+02, 3.7300e+02,\n",
       "                      3.8000e+02, 4.1100e+02, 4.0400e+02, 4.1200e+02, 4.1700e+02, 4.2700e+02,\n",
       "                      4.5500e+02, 4.8300e+02, 4.3500e+02, 4.8200e+02, 4.5200e+02, 4.5600e+02,\n",
       "                      5.3800e+02, 4.9100e+02, 5.6600e+02, 5.4400e+02, 5.9200e+02, 5.6500e+02,\n",
       "                      5.9600e+02, 6.0700e+02, 6.5400e+02, 6.3000e+02, 6.9000e+02, 6.7500e+02,\n",
       "                      7.1600e+02, 7.2300e+02, 7.1700e+02, 7.3400e+02, 7.9800e+02, 7.7800e+02,\n",
       "                      8.6100e+02, 7.8500e+02, 8.3500e+02, 8.2600e+02, 8.6600e+02, 8.9500e+02,\n",
       "                      9.0800e+02, 9.5700e+02, 9.4900e+02, 9.8500e+02, 1.0360e+03, 1.0710e+03,\n",
       "                      1.0770e+03, 1.0790e+03, 1.0950e+03, 1.1790e+03, 1.1480e+03, 1.2110e+03,\n",
       "                      1.2340e+03, 1.3000e+03, 1.3220e+03, 1.3310e+03, 1.3470e+03, 1.4000e+03,\n",
       "                      1.4660e+03, 1.5040e+03, 1.5230e+03, 1.5180e+03, 1.6350e+03, 1.6310e+03,\n",
       "                      1.6770e+03, 1.6500e+03, 1.7400e+03, 1.8340e+03, 1.8880e+03, 1.9360e+03,\n",
       "                      1.8830e+03, 1.9720e+03, 2.0010e+03, 2.1930e+03, 2.0920e+03, 2.2260e+03,\n",
       "                      2.2550e+03, 2.3120e+03, 2.3970e+03, 2.4760e+03, 2.5760e+03, 2.6070e+03,\n",
       "                      2.6200e+03, 2.7450e+03, 2.7810e+03, 2.8570e+03, 2.9400e+03, 3.0440e+03,\n",
       "                      3.0390e+03, 3.2100e+03, 3.1510e+03, 3.2320e+03, 3.4830e+03, 3.4980e+03,\n",
       "                      3.5850e+03, 3.6500e+03, 3.8430e+03, 3.7890e+03, 3.9250e+03, 4.1680e+03,\n",
       "                      4.0910e+03, 4.3510e+03, 4.4490e+03, 4.4520e+03, 4.6340e+03, 4.6490e+03,\n",
       "                      4.8300e+03, 4.8130e+03, 5.0910e+03, 5.1890e+03, 5.3350e+03, 5.3860e+03,\n",
       "                      5.5690e+03, 5.8160e+03, 5.9840e+03, 6.0610e+03, 6.1550e+03, 6.2840e+03,\n",
       "                      6.4010e+03, 6.6200e+03, 6.8010e+03, 7.0610e+03, 7.2140e+03, 7.3220e+03,\n",
       "                      7.5790e+03, 7.6500e+03, 7.9510e+03, 8.2140e+03, 8.4090e+03, 8.5310e+03,\n",
       "                      8.8540e+03, 8.9840e+03, 9.1600e+03, 9.5460e+03, 9.7800e+03, 9.8220e+03,\n",
       "                      1.0034e+04, 1.0503e+04, 1.0594e+04, 1.1001e+04, 1.1604e+04, 1.1510e+04,\n",
       "                      1.1686e+04, 1.2133e+04, 1.2323e+04, 1.2781e+04, 1.3054e+04, 1.3443e+04,\n",
       "                      1.3684e+04, 1.4224e+04, 1.4271e+04, 1.4956e+04, 1.5470e+04, 1.5655e+04,\n",
       "                      1.6046e+04, 1.6450e+04, 1.6858e+04, 1.7024e+04, 1.7516e+04, 1.7859e+04,\n",
       "                      1.8340e+04, 1.8946e+04, 1.9489e+04, 1.9938e+04, 2.0405e+04, 2.1013e+04,\n",
       "                      2.1685e+04, 2.2107e+04, 2.2453e+04, 2.3032e+04, 2.3610e+04, 2.4378e+04,\n",
       "                      2.5064e+04, 2.5710e+04, 2.6198e+04, 2.6699e+04, 2.7487e+04, 2.8204e+04,\n",
       "                      2.9018e+04, 2.9893e+04, 3.0537e+04, 3.1508e+04, 3.1746e+04, 3.2917e+04,\n",
       "                      3.3206e+04, 3.4276e+04, 3.5334e+04, 3.6053e+04, 3.6842e+04, 3.8311e+04,\n",
       "                      3.9052e+04, 3.9807e+04, 4.0949e+04, 4.1751e+04, 4.2673e+04, 4.4072e+04,\n",
       "                      4.5032e+04, 4.6440e+04, 4.7432e+04, 4.8300e+04, 5.0028e+04, 5.0943e+04,\n",
       "                      5.2095e+04, 5.3328e+04, 5.4918e+04, 5.6057e+04, 5.7962e+04, 5.9334e+04,\n",
       "                      6.0582e+04, 6.2139e+04, 6.3522e+04, 6.5040e+04, 6.6471e+04, 6.8317e+04,\n",
       "                      7.0340e+04, 7.1906e+04, 7.3404e+04, 7.5413e+04, 7.7536e+04, 7.9051e+04,\n",
       "                      8.0868e+04, 8.3110e+04, 8.5024e+04, 8.7575e+04, 8.9975e+04, 9.2174e+04,\n",
       "                      9.4388e+04, 9.5958e+04, 9.8751e+04, 1.0100e+05, 1.0407e+05, 1.0575e+05,\n",
       "                      1.0822e+05, 1.1144e+05, 1.1416e+05, 1.1663e+05, 1.2009e+05, 1.2234e+05,\n",
       "                      1.2558e+05, 1.2849e+05, 1.3093e+05, 1.3516e+05, 1.3823e+05, 1.4124e+05,\n",
       "                      1.4457e+05, 1.4787e+05, 1.5182e+05, 1.5579e+05, 1.5859e+05, 1.6271e+05,\n",
       "                      1.6712e+05, 1.7091e+05, 1.7464e+05, 1.7899e+05, 1.8312e+05, 1.8771e+05])),\n",
       "             ('I',\n",
       "              tensor([1.0000e+00, 2.4000e+01, 7.0000e+01, 1.2200e+02, 1.7900e+02, 2.5100e+02,\n",
       "                      3.3100e+02, 4.4200e+02, 5.3400e+02, 6.4400e+02, 7.6300e+02, 8.6600e+02,\n",
       "                      9.6000e+02, 1.0510e+03, 1.1340e+03, 1.2230e+03, 1.3510e+03, 1.4190e+03,\n",
       "                      1.5500e+03, 1.6350e+03, 1.7440e+03, 1.8560e+03, 1.9300e+03, 2.0470e+03,\n",
       "                      2.1050e+03, 2.1510e+03, 2.2080e+03, 2.2570e+03, 2.3180e+03, 2.4190e+03,\n",
       "                      2.4480e+03, 2.5200e+03, 2.6370e+03, 2.6910e+03, 2.8220e+03, 2.8400e+03,\n",
       "                      2.9170e+03, 2.9880e+03, 3.0510e+03, 3.1130e+03, 3.1970e+03, 3.3170e+03,\n",
       "                      3.3750e+03, 3.4890e+03, 3.5040e+03, 3.5780e+03, 3.7070e+03, 3.8290e+03,\n",
       "                      3.9200e+03, 3.9870e+03, 4.0840e+03, 4.1720e+03, 4.3030e+03, 4.4110e+03,\n",
       "                      4.4650e+03, 4.5720e+03, 4.7240e+03, 4.8400e+03, 4.9930e+03, 5.1890e+03,\n",
       "                      5.2600e+03, 5.4560e+03, 5.5430e+03, 5.6970e+03, 5.8290e+03, 5.9560e+03,\n",
       "                      6.0880e+03, 6.2380e+03, 6.3870e+03, 6.5630e+03, 6.6890e+03, 6.8590e+03,\n",
       "                      7.0540e+03, 7.2370e+03, 7.4360e+03, 7.6330e+03, 7.7780e+03, 7.9550e+03,\n",
       "                      8.1130e+03, 8.3600e+03, 8.6190e+03, 8.8810e+03, 9.0950e+03, 9.3230e+03,\n",
       "                      9.5000e+03, 9.7140e+03, 9.9690e+03, 1.0220e+04, 1.0494e+04, 1.0707e+04,\n",
       "                      1.0959e+04, 1.1274e+04, 1.1567e+04, 1.1810e+04, 1.2162e+04, 1.2472e+04,\n",
       "                      1.2842e+04, 1.3163e+04, 1.3498e+04, 1.3796e+04, 1.4102e+04, 1.4497e+04,\n",
       "                      1.4855e+04, 1.5275e+04, 1.5602e+04, 1.6030e+04, 1.6366e+04, 1.6754e+04,\n",
       "                      1.7176e+04, 1.7756e+04, 1.8318e+04, 1.8670e+04, 1.9056e+04, 1.9512e+04,\n",
       "                      2.0079e+04, 2.0639e+04, 2.1227e+04, 2.1634e+04, 2.2234e+04, 2.2844e+04,\n",
       "                      2.3490e+04, 2.4153e+04, 2.4679e+04, 2.5229e+04, 2.5750e+04, 2.6292e+04,\n",
       "                      2.7033e+04, 2.7641e+04, 2.8337e+04, 2.9091e+04, 2.9702e+04, 3.0429e+04,\n",
       "                      3.1312e+04, 3.2108e+04, 3.3061e+04, 3.4069e+04, 3.4847e+04, 3.5646e+04,\n",
       "                      3.6603e+04, 3.7631e+04, 3.8481e+04, 3.9555e+04, 4.0674e+04, 4.1667e+04,\n",
       "                      4.2764e+04, 4.3647e+04, 4.4539e+04, 4.5617e+04, 4.6618e+04, 4.7876e+04,\n",
       "                      4.9170e+04, 5.0607e+04, 5.1998e+04, 5.3282e+04, 5.4445e+04, 5.6025e+04,\n",
       "                      5.7354e+04, 5.8792e+04, 6.0195e+04, 6.1601e+04, 6.3258e+04, 6.4855e+04,\n",
       "                      6.6563e+04, 6.8247e+04, 7.0055e+04, 7.1874e+04, 7.3432e+04, 7.5108e+04,\n",
       "                      7.7111e+04, 7.9265e+04, 8.1415e+04, 8.3402e+04, 8.5486e+04, 8.7807e+04,\n",
       "                      8.9878e+04, 9.2090e+04, 9.4358e+04, 9.6626e+04, 9.8924e+04, 1.0145e+05,\n",
       "                      1.0422e+05, 1.0698e+05, 1.0978e+05, 1.1258e+05, 1.1512e+05, 1.1820e+05,\n",
       "                      1.2140e+05, 1.2456e+05, 1.2787e+05, 1.3098e+05, 1.3420e+05, 1.3767e+05,\n",
       "                      1.4122e+05, 1.4458e+05, 1.4855e+05, 1.5203e+05, 1.5547e+05, 1.5923e+05,\n",
       "                      1.6298e+05, 1.6716e+05, 1.7139e+05, 1.7573e+05, 1.8010e+05, 1.8513e+05,\n",
       "                      1.9006e+05, 1.9502e+05, 1.9967e+05, 2.0443e+05, 2.0944e+05, 2.1484e+05,\n",
       "                      2.1986e+05, 2.2536e+05, 2.3135e+05, 2.3763e+05, 2.4370e+05, 2.4978e+05,\n",
       "                      2.5595e+05, 2.6217e+05, 2.6858e+05, 2.7558e+05, 2.8246e+05, 2.8943e+05,\n",
       "                      2.9654e+05, 3.0372e+05, 3.1118e+05, 3.1848e+05, 3.2685e+05, 3.3473e+05,\n",
       "                      3.4340e+05, 3.5231e+05, 3.6099e+05, 3.6972e+05, 3.7936e+05, 3.8851e+05,\n",
       "                      3.9786e+05, 4.0791e+05, 4.1807e+05, 4.2872e+05, 4.3952e+05, 4.5019e+05,\n",
       "                      4.6156e+05, 4.7298e+05, 4.8439e+05, 4.9724e+05, 5.0914e+05, 5.2205e+05,\n",
       "                      5.3525e+05, 5.4904e+05, 5.6270e+05, 5.7708e+05, 5.9120e+05, 6.0600e+05,\n",
       "                      6.2050e+05, 6.3566e+05, 6.5144e+05, 6.6800e+05, 6.8490e+05, 7.0194e+05,\n",
       "                      7.1879e+05, 7.3676e+05, 7.5524e+05, 7.7407e+05, 7.9330e+05, 8.1292e+05,\n",
       "                      8.3349e+05, 8.5387e+05, 8.7509e+05, 8.9660e+05, 9.1798e+05, 9.4059e+05,\n",
       "                      9.6330e+05, 9.8768e+05, 1.0118e+06, 1.0366e+06, 1.0614e+06, 1.0868e+06,\n",
       "                      1.1133e+06, 1.1402e+06, 1.1679e+06, 1.1969e+06, 1.2256e+06, 1.2554e+06,\n",
       "                      1.2861e+06, 1.3171e+06, 1.3499e+06, 1.3818e+06, 1.4151e+06, 1.4493e+06,\n",
       "                      1.4840e+06, 1.5199e+06, 1.5557e+06, 1.5917e+06, 1.6298e+06, 1.6690e+06,\n",
       "                      1.7080e+06, 1.7481e+06, 1.7886e+06, 1.8305e+06, 1.8737e+06, 1.9181e+06])),\n",
       "             ('S',\n",
       "              tensor([3.2906e+08, 3.2906e+08, 3.2906e+08, 3.2906e+08, 3.2906e+08, 3.2906e+08,\n",
       "                      3.2906e+08, 3.2906e+08, 3.2906e+08, 3.2906e+08, 3.2906e+08, 3.2906e+08,\n",
       "                      3.2906e+08, 3.2906e+08, 3.2906e+08, 3.2906e+08, 3.2906e+08, 3.2906e+08,\n",
       "                      3.2906e+08, 3.2906e+08, 3.2906e+08, 3.2906e+08, 3.2906e+08, 3.2906e+08,\n",
       "                      3.2906e+08, 3.2906e+08, 3.2906e+08, 3.2906e+08, 3.2906e+08, 3.2905e+08,\n",
       "                      3.2905e+08, 3.2905e+08, 3.2905e+08, 3.2905e+08, 3.2905e+08, 3.2905e+08,\n",
       "                      3.2905e+08, 3.2905e+08, 3.2905e+08, 3.2905e+08, 3.2905e+08, 3.2905e+08,\n",
       "                      3.2905e+08, 3.2905e+08, 3.2905e+08, 3.2905e+08, 3.2905e+08, 3.2905e+08,\n",
       "                      3.2904e+08, 3.2904e+08, 3.2904e+08, 3.2904e+08, 3.2904e+08, 3.2904e+08,\n",
       "                      3.2904e+08, 3.2904e+08, 3.2904e+08, 3.2904e+08, 3.2904e+08, 3.2904e+08,\n",
       "                      3.2904e+08, 3.2903e+08, 3.2903e+08, 3.2903e+08, 3.2903e+08, 3.2903e+08,\n",
       "                      3.2903e+08, 3.2903e+08, 3.2903e+08, 3.2903e+08, 3.2903e+08, 3.2902e+08,\n",
       "                      3.2902e+08, 3.2902e+08, 3.2902e+08, 3.2902e+08, 3.2902e+08, 3.2902e+08,\n",
       "                      3.2902e+08, 3.2901e+08, 3.2901e+08, 3.2901e+08, 3.2901e+08, 3.2901e+08,\n",
       "                      3.2901e+08, 3.2901e+08, 3.2900e+08, 3.2900e+08, 3.2900e+08, 3.2900e+08,\n",
       "                      3.2900e+08, 3.2900e+08, 3.2899e+08, 3.2899e+08, 3.2899e+08, 3.2899e+08,\n",
       "                      3.2898e+08, 3.2898e+08, 3.2898e+08, 3.2898e+08, 3.2898e+08, 3.2897e+08,\n",
       "                      3.2897e+08, 3.2897e+08, 3.2897e+08, 3.2896e+08, 3.2896e+08, 3.2896e+08,\n",
       "                      3.2896e+08, 3.2895e+08, 3.2895e+08, 3.2895e+08, 3.2894e+08, 3.2894e+08,\n",
       "                      3.2894e+08, 3.2893e+08, 3.2893e+08, 3.2893e+08, 3.2892e+08, 3.2892e+08,\n",
       "                      3.2891e+08, 3.2891e+08, 3.2891e+08, 3.2890e+08, 3.2890e+08, 3.2889e+08,\n",
       "                      3.2889e+08, 3.2888e+08, 3.2888e+08, 3.2887e+08, 3.2887e+08, 3.2886e+08,\n",
       "                      3.2886e+08, 3.2885e+08, 3.2885e+08, 3.2884e+08, 3.2884e+08, 3.2883e+08,\n",
       "                      3.2883e+08, 3.2882e+08, 3.2881e+08, 3.2881e+08, 3.2880e+08, 3.2879e+08,\n",
       "                      3.2879e+08, 3.2878e+08, 3.2877e+08, 3.2876e+08, 3.2876e+08, 3.2875e+08,\n",
       "                      3.2874e+08, 3.2873e+08, 3.2872e+08, 3.2871e+08, 3.2870e+08, 3.2870e+08,\n",
       "                      3.2869e+08, 3.2868e+08, 3.2867e+08, 3.2866e+08, 3.2865e+08, 3.2863e+08,\n",
       "                      3.2862e+08, 3.2861e+08, 3.2860e+08, 3.2859e+08, 3.2858e+08, 3.2856e+08,\n",
       "                      3.2855e+08, 3.2854e+08, 3.2852e+08, 3.2851e+08, 3.2850e+08, 3.2848e+08,\n",
       "                      3.2847e+08, 3.2845e+08, 3.2844e+08, 3.2842e+08, 3.2840e+08, 3.2839e+08,\n",
       "                      3.2837e+08, 3.2835e+08, 3.2833e+08, 3.2832e+08, 3.2830e+08, 3.2828e+08,\n",
       "                      3.2826e+08, 3.2824e+08, 3.2822e+08, 3.2819e+08, 3.2817e+08, 3.2815e+08,\n",
       "                      3.2813e+08, 3.2810e+08, 3.2808e+08, 3.2805e+08, 3.2803e+08, 3.2800e+08,\n",
       "                      3.2797e+08, 3.2795e+08, 3.2792e+08, 3.2789e+08, 3.2786e+08, 3.2783e+08,\n",
       "                      3.2780e+08, 3.2776e+08, 3.2773e+08, 3.2770e+08, 3.2766e+08, 3.2763e+08,\n",
       "                      3.2759e+08, 3.2755e+08, 3.2752e+08, 3.2748e+08, 3.2744e+08, 3.2740e+08,\n",
       "                      3.2735e+08, 3.2731e+08, 3.2727e+08, 3.2722e+08, 3.2717e+08, 3.2713e+08,\n",
       "                      3.2708e+08, 3.2703e+08, 3.2698e+08, 3.2692e+08, 3.2687e+08, 3.2682e+08,\n",
       "                      3.2676e+08, 3.2670e+08, 3.2664e+08, 3.2658e+08, 3.2652e+08, 3.2645e+08,\n",
       "                      3.2639e+08, 3.2632e+08, 3.2625e+08, 3.2618e+08, 3.2611e+08, 3.2603e+08,\n",
       "                      3.2596e+08, 3.2588e+08, 3.2580e+08, 3.2572e+08, 3.2564e+08, 3.2555e+08,\n",
       "                      3.2546e+08, 3.2537e+08, 3.2528e+08, 3.2518e+08, 3.2509e+08, 3.2499e+08,\n",
       "                      3.2489e+08, 3.2478e+08, 3.2467e+08, 3.2457e+08, 3.2445e+08, 3.2434e+08,\n",
       "                      3.2422e+08, 3.2410e+08, 3.2398e+08, 3.2385e+08, 3.2372e+08, 3.2359e+08,\n",
       "                      3.2345e+08, 3.2331e+08, 3.2317e+08, 3.2302e+08, 3.2288e+08, 3.2272e+08,\n",
       "                      3.2257e+08, 3.2240e+08, 3.2224e+08, 3.2207e+08, 3.2190e+08, 3.2172e+08,\n",
       "                      3.2154e+08, 3.2136e+08, 3.2117e+08, 3.2097e+08, 3.2078e+08, 3.2057e+08,\n",
       "                      3.2036e+08, 3.2015e+08, 3.1993e+08, 3.1971e+08, 3.1948e+08, 3.1925e+08,\n",
       "                      3.1901e+08, 3.1876e+08, 3.1851e+08, 3.1826e+08, 3.1800e+08, 3.1773e+08,\n",
       "                      3.1745e+08, 3.1718e+08, 3.1689e+08, 3.1660e+08, 3.1630e+08, 3.1599e+08])),\n",
       "             ('E',\n",
       "              tensor([3.1000e+02, 5.8600e+02, 8.1700e+02, 1.0860e+03, 1.3500e+03, 1.6210e+03,\n",
       "                      1.8590e+03, 2.0480e+03, 2.2250e+03, 2.3900e+03, 2.5730e+03, 2.7540e+03,\n",
       "                      2.9060e+03, 3.0130e+03, 3.1480e+03, 3.2510e+03, 3.3280e+03, 3.4810e+03,\n",
       "                      3.5270e+03, 3.6530e+03, 3.7050e+03, 3.7600e+03, 3.8390e+03, 3.8450e+03,\n",
       "                      3.9210e+03, 4.0130e+03, 4.0980e+03, 4.2380e+03, 4.3140e+03, 4.3700e+03,\n",
       "                      4.5150e+03, 4.6160e+03, 4.6750e+03, 4.8450e+03, 4.9120e+03, 5.0390e+03,\n",
       "                      5.1530e+03, 5.3130e+03, 5.4750e+03, 5.6000e+03, 5.7430e+03, 5.8610e+03,\n",
       "                      6.0360e+03, 6.1370e+03, 6.3430e+03, 6.5110e+03, 6.6010e+03, 6.7280e+03,\n",
       "                      6.9170e+03, 7.1100e+03, 7.2510e+03, 7.4220e+03, 7.6000e+03, 7.8180e+03,\n",
       "                      8.0320e+03, 8.1810e+03, 8.3450e+03, 8.5410e+03, 8.7900e+03, 8.9580e+03,\n",
       "                      9.2680e+03, 9.4840e+03, 9.7490e+03, 9.9790e+03, 1.0200e+04, 1.0505e+04,\n",
       "                      1.0782e+04, 1.1059e+04, 1.1331e+04, 1.1595e+04, 1.1873e+04, 1.2135e+04,\n",
       "                      1.2404e+04, 1.2696e+04, 1.2949e+04, 1.3203e+04, 1.3534e+04, 1.3867e+04,\n",
       "                      1.4151e+04, 1.4465e+04, 1.4816e+04, 1.5160e+04, 1.5592e+04, 1.6008e+04,\n",
       "                      1.6507e+04, 1.6959e+04, 1.7386e+04, 1.7852e+04, 1.8219e+04, 1.8701e+04,\n",
       "                      1.9197e+04, 1.9704e+04, 2.0274e+04, 2.0829e+04, 2.1302e+04, 2.1854e+04,\n",
       "                      2.2386e+04, 2.2932e+04, 2.3564e+04, 2.4230e+04, 2.4880e+04, 2.5419e+04,\n",
       "                      2.6081e+04, 2.6610e+04, 2.7349e+04, 2.8019e+04, 2.8695e+04, 2.9477e+04,\n",
       "                      3.0186e+04, 3.0886e+04, 3.1652e+04, 3.2474e+04, 3.3324e+04, 3.4215e+04,\n",
       "                      3.5022e+04, 3.5984e+04, 3.6965e+04, 3.8124e+04, 3.9126e+04, 4.0081e+04,\n",
       "                      4.1051e+04, 4.2018e+04, 4.3145e+04, 4.4354e+04, 4.5518e+04, 4.6770e+04,\n",
       "                      4.8009e+04, 4.9156e+04, 5.0273e+04, 5.1530e+04, 5.2862e+04, 5.4139e+04,\n",
       "                      5.5489e+04, 5.6795e+04, 5.8185e+04, 5.9670e+04, 6.1339e+04, 6.2916e+04,\n",
       "                      6.4447e+04, 6.5863e+04, 6.7528e+04, 6.9427e+04, 7.1034e+04, 7.2903e+04,\n",
       "                      7.4786e+04, 7.6656e+04, 7.8817e+04, 8.0800e+04, 8.2952e+04, 8.4836e+04,\n",
       "                      8.6819e+04, 8.8865e+04, 9.0864e+04, 9.3090e+04, 9.5711e+04, 9.8102e+04,\n",
       "                      1.0060e+05, 1.0321e+05, 1.0561e+05, 1.0857e+05, 1.1113e+05, 1.1405e+05,\n",
       "                      1.1684e+05, 1.1965e+05, 1.2266e+05, 1.2551e+05, 1.2901e+05, 1.3271e+05,\n",
       "                      1.3595e+05, 1.3935e+05, 1.4280e+05, 1.4643e+05, 1.5004e+05, 1.5361e+05,\n",
       "                      1.5752e+05, 1.6158e+05, 1.6574e+05, 1.7000e+05, 1.7421e+05, 1.7870e+05,\n",
       "                      1.8314e+05, 1.8776e+05, 1.9250e+05, 1.9747e+05, 2.0239e+05, 2.0734e+05,\n",
       "                      2.1218e+05, 2.1740e+05, 2.2288e+05, 2.2872e+05, 2.3482e+05, 2.4048e+05,\n",
       "                      2.4644e+05, 2.5284e+05, 2.5886e+05, 2.6546e+05, 2.7229e+05, 2.7914e+05,\n",
       "                      2.8635e+05, 2.9363e+05, 3.0064e+05, 3.0847e+05, 3.1627e+05, 3.2375e+05,\n",
       "                      3.3181e+05, 3.4012e+05, 3.4888e+05, 3.5829e+05, 3.6741e+05, 3.7625e+05,\n",
       "                      3.8584e+05, 3.9539e+05, 4.0491e+05, 4.1508e+05, 4.2557e+05, 4.3629e+05,\n",
       "                      4.4706e+05, 4.5852e+05, 4.7013e+05, 4.8194e+05, 4.9412e+05, 5.0627e+05,\n",
       "                      5.1873e+05, 5.3177e+05, 5.4486e+05, 5.5853e+05, 5.7210e+05, 5.8649e+05,\n",
       "                      6.0096e+05, 6.1583e+05, 6.3112e+05, 6.4751e+05, 6.6343e+05, 6.7966e+05,\n",
       "                      6.9711e+05, 7.1479e+05, 7.3249e+05, 7.5092e+05, 7.7014e+05, 7.8952e+05,\n",
       "                      8.0911e+05, 8.2954e+05, 8.5040e+05, 8.7062e+05, 8.9272e+05, 9.1474e+05,\n",
       "                      9.3725e+05, 9.6068e+05, 9.8459e+05, 1.0093e+06, 1.0338e+06, 1.0590e+06,\n",
       "                      1.0860e+06, 1.1130e+06, 1.1405e+06, 1.1682e+06, 1.1972e+06, 1.2262e+06,\n",
       "                      1.2570e+06, 1.2872e+06, 1.3182e+06, 1.3510e+06, 1.3839e+06, 1.4178e+06,\n",
       "                      1.4521e+06, 1.4880e+06, 1.5246e+06, 1.5615e+06, 1.5993e+06, 1.6375e+06,\n",
       "                      1.6774e+06, 1.7186e+06, 1.7604e+06, 1.8029e+06, 1.8464e+06, 1.8912e+06,\n",
       "                      1.9374e+06, 1.9849e+06, 2.0323e+06, 2.0794e+06, 2.1288e+06, 2.1796e+06,\n",
       "                      2.2308e+06, 2.2841e+06, 2.3386e+06, 2.3952e+06, 2.4520e+06, 2.5096e+06,\n",
       "                      2.5696e+06, 2.6309e+06, 2.6933e+06, 2.7576e+06, 2.8228e+06, 2.8883e+06,\n",
       "                      2.9567e+06, 3.0253e+06, 3.0967e+06, 3.1680e+06, 3.2408e+06, 3.3150e+06])),\n",
       "             ('E2I',\n",
       "              tensor([0.0000e+00, 2.3000e+01, 4.6000e+01, 6.3000e+01, 7.1000e+01, 9.2000e+01,\n",
       "                      1.1100e+02, 1.4600e+02, 1.4200e+02, 1.6400e+02, 1.7800e+02, 1.7200e+02,\n",
       "                      1.7300e+02, 2.0000e+02, 1.8000e+02, 2.1700e+02, 2.5100e+02, 2.0600e+02,\n",
       "                      2.6800e+02, 2.2700e+02, 2.7300e+02, 2.6600e+02, 2.6300e+02, 3.1700e+02,\n",
       "                      2.8200e+02, 2.7600e+02, 2.9400e+02, 2.6500e+02, 2.9700e+02, 3.2000e+02,\n",
       "                      2.9000e+02, 3.3700e+02, 3.5900e+02, 3.1500e+02, 3.8600e+02, 3.3300e+02,\n",
       "                      3.6300e+02, 3.7000e+02, 3.6000e+02, 3.8600e+02, 4.0000e+02, 4.2900e+02,\n",
       "                      3.8500e+02, 4.4800e+02, 3.8800e+02, 4.2100e+02, 4.8800e+02, 4.9500e+02,\n",
       "                      4.7100e+02, 4.7800e+02, 5.0100e+02, 5.0000e+02, 5.4800e+02, 5.3500e+02,\n",
       "                      5.0900e+02, 5.9000e+02, 5.8700e+02, 5.9800e+02, 6.0500e+02, 6.5200e+02,\n",
       "                      6.0900e+02, 6.8700e+02, 6.5300e+02, 6.9800e+02, 7.2400e+02, 6.9200e+02,\n",
       "                      7.2800e+02, 7.5700e+02, 8.0300e+02, 8.0600e+02, 8.1600e+02, 8.4500e+02,\n",
       "                      9.1100e+02, 9.0600e+02, 9.1600e+02, 9.3100e+02, 9.4300e+02, 9.5500e+02,\n",
       "                      1.0190e+03, 1.0320e+03, 1.0940e+03, 1.0880e+03, 1.0800e+03, 1.1230e+03,\n",
       "                      1.0850e+03, 1.1710e+03, 1.2040e+03, 1.2360e+03, 1.3100e+03, 1.2840e+03,\n",
       "                      1.3290e+03, 1.3940e+03, 1.3880e+03, 1.4220e+03, 1.5000e+03, 1.5210e+03,\n",
       "                      1.6040e+03, 1.6210e+03, 1.6570e+03, 1.6290e+03, 1.6530e+03, 1.7950e+03,\n",
       "                      1.8240e+03, 1.9240e+03, 1.8500e+03, 1.9460e+03, 1.9710e+03, 2.0190e+03,\n",
       "                      2.0990e+03, 2.2300e+03, 2.3020e+03, 2.1860e+03, 2.2740e+03, 2.3920e+03,\n",
       "                      2.4500e+03, 2.5320e+03, 2.5890e+03, 2.6000e+03, 2.6920e+03, 2.8360e+03,\n",
       "                      2.9010e+03, 2.9750e+03, 2.9230e+03, 3.0260e+03, 3.0970e+03, 3.1490e+03,\n",
       "                      3.3610e+03, 3.3530e+03, 3.4770e+03, 3.6110e+03, 3.5510e+03, 3.7710e+03,\n",
       "                      3.9220e+03, 4.0060e+03, 4.1040e+03, 4.2400e+03, 4.2610e+03, 4.2970e+03,\n",
       "                      4.5420e+03, 4.6780e+03, 4.6930e+03, 4.8630e+03, 5.0440e+03, 5.1610e+03,\n",
       "                      5.1880e+03, 5.2340e+03, 5.3410e+03, 5.5300e+03, 5.6350e+03, 5.9070e+03,\n",
       "                      6.1240e+03, 6.2500e+03, 6.4820e+03, 6.4730e+03, 6.4980e+03, 6.9660e+03,\n",
       "                      6.8980e+03, 7.2540e+03, 7.3870e+03, 7.4670e+03, 7.8120e+03, 7.8810e+03,\n",
       "                      8.1090e+03, 8.3040e+03, 8.6090e+03, 8.8800e+03, 8.7720e+03, 8.9980e+03,\n",
       "                      9.5820e+03, 9.8040e+03, 1.0101e+04, 1.0201e+04, 1.0493e+04, 1.0852e+04,\n",
       "                      1.0925e+04, 1.1196e+04, 1.1428e+04, 1.1814e+04, 1.2078e+04, 1.2349e+04,\n",
       "                      1.2799e+04, 1.3269e+04, 1.3397e+04, 1.3791e+04, 1.4153e+04, 1.4591e+04,\n",
       "                      1.4883e+04, 1.5292e+04, 1.5632e+04, 1.5887e+04, 1.6282e+04, 1.6905e+04,\n",
       "                      1.7236e+04, 1.7591e+04, 1.8233e+04, 1.8437e+04, 1.8909e+04, 1.9418e+04,\n",
       "                      1.9800e+04, 2.0623e+04, 2.1091e+04, 2.1362e+04, 2.1885e+04, 2.2888e+04,\n",
       "                      2.3278e+04, 2.3906e+04, 2.4136e+04, 2.4697e+04, 2.5413e+04, 2.6412e+04,\n",
       "                      2.6708e+04, 2.7609e+04, 2.8437e+04, 2.9315e+04, 2.9679e+04, 3.0459e+04,\n",
       "                      3.1235e+04, 3.1934e+04, 3.2602e+04, 3.3696e+04, 3.4374e+04, 3.5168e+04,\n",
       "                      3.6127e+04, 3.7075e+04, 3.8002e+04, 3.8810e+04, 4.0116e+04, 4.0791e+04,\n",
       "                      4.1875e+04, 4.3188e+04, 4.4019e+04, 4.4782e+04, 4.6474e+04, 4.7468e+04,\n",
       "                      4.8404e+04, 4.9856e+04, 5.1110e+04, 5.2398e+04, 5.3469e+04, 5.4749e+04,\n",
       "                      5.6403e+04, 5.7857e+04, 5.8837e+04, 6.1151e+04, 6.1935e+04, 6.3844e+04,\n",
       "                      6.5300e+04, 6.7115e+04, 6.8575e+04, 7.0441e+04, 7.2087e+04, 7.4128e+04,\n",
       "                      7.5085e+04, 7.7299e+04, 7.9304e+04, 8.1592e+04, 8.3379e+04, 8.5356e+04,\n",
       "                      8.7186e+04, 8.9882e+04, 9.1875e+04, 9.4249e+04, 9.6762e+04, 9.8672e+04,\n",
       "                      1.0144e+05, 1.0349e+05, 1.0624e+05, 1.0909e+05, 1.1136e+05, 1.1478e+05,\n",
       "                      1.1710e+05, 1.2034e+05, 1.2284e+05, 1.2580e+05, 1.2891e+05, 1.3115e+05,\n",
       "                      1.3474e+05, 1.3834e+05, 1.4178e+05, 1.4569e+05, 1.4875e+05, 1.5213e+05,\n",
       "                      1.5632e+05, 1.5946e+05, 1.6377e+05, 1.6700e+05, 1.7159e+05, 1.7547e+05,\n",
       "                      1.7923e+05, 1.8378e+05, 1.8766e+05, 1.9172e+05, 1.9675e+05, 2.0187e+05,\n",
       "                      2.0608e+05, 2.1100e+05, 2.1520e+05, 2.2086e+05, 2.2630e+05, 2.3218e+05])),\n",
       "             ('S2E',\n",
       "              tensor([3.1000e+02, 2.9900e+02, 2.7700e+02, 3.3200e+02, 3.3500e+02, 3.6300e+02,\n",
       "                      3.4900e+02, 3.3500e+02, 3.1900e+02, 3.2900e+02, 3.6100e+02, 3.5300e+02,\n",
       "                      3.2500e+02, 3.0700e+02, 3.1500e+02, 3.2000e+02, 3.2800e+02, 3.5900e+02,\n",
       "                      3.1400e+02, 3.5300e+02, 3.2500e+02, 3.2100e+02, 3.4200e+02, 3.2300e+02,\n",
       "                      3.5800e+02, 3.6800e+02, 3.7900e+02, 4.0500e+02, 3.7300e+02, 3.7600e+02,\n",
       "                      4.3500e+02, 4.3800e+02, 4.1800e+02, 4.8500e+02, 4.5300e+02, 4.6000e+02,\n",
       "                      4.7700e+02, 5.3000e+02, 5.2200e+02, 5.1100e+02, 5.4300e+02, 5.4700e+02,\n",
       "                      5.6000e+02, 5.4900e+02, 5.9400e+02, 5.8900e+02, 5.7800e+02, 6.2200e+02,\n",
       "                      6.6000e+02, 6.7100e+02, 6.4200e+02, 6.7100e+02, 7.2600e+02, 7.5300e+02,\n",
       "                      7.2300e+02, 7.3900e+02, 7.5100e+02, 7.9400e+02, 8.5400e+02, 8.2000e+02,\n",
       "                      9.1900e+02, 9.0300e+02, 9.1800e+02, 9.2800e+02, 9.4500e+02, 9.9700e+02,\n",
       "                      1.0050e+03, 1.0340e+03, 1.0750e+03, 1.0700e+03, 1.0940e+03, 1.1070e+03,\n",
       "                      1.1800e+03, 1.1980e+03, 1.1690e+03, 1.1850e+03, 1.2740e+03, 1.2880e+03,\n",
       "                      1.3030e+03, 1.3460e+03, 1.4450e+03, 1.4320e+03, 1.5120e+03, 1.5390e+03,\n",
       "                      1.5840e+03, 1.6230e+03, 1.6310e+03, 1.7020e+03, 1.6770e+03, 1.7660e+03,\n",
       "                      1.8250e+03, 1.9010e+03, 1.9580e+03, 1.9770e+03, 1.9730e+03, 2.0730e+03,\n",
       "                      2.1360e+03, 2.1670e+03, 2.2890e+03, 2.2950e+03, 2.3030e+03, 2.3340e+03,\n",
       "                      2.4860e+03, 2.4530e+03, 2.5890e+03, 2.6160e+03, 2.6470e+03, 2.8010e+03,\n",
       "                      2.8080e+03, 2.9300e+03, 3.0680e+03, 3.0080e+03, 3.1240e+03, 3.2830e+03,\n",
       "                      3.2570e+03, 3.4940e+03, 3.5700e+03, 3.7590e+03, 3.6940e+03, 3.7910e+03,\n",
       "                      3.8710e+03, 3.9420e+03, 4.0500e+03, 4.2350e+03, 4.2610e+03, 4.4010e+03,\n",
       "                      4.6000e+03, 4.5000e+03, 4.5940e+03, 4.8680e+03, 4.8830e+03, 5.0480e+03,\n",
       "                      5.2720e+03, 5.3120e+03, 5.4940e+03, 5.7250e+03, 5.9300e+03, 5.8740e+03,\n",
       "                      6.0730e+03, 6.0940e+03, 6.3580e+03, 6.7620e+03, 6.6510e+03, 7.0300e+03,\n",
       "                      7.0710e+03, 7.1040e+03, 7.5020e+03, 7.5130e+03, 7.7870e+03, 7.7910e+03,\n",
       "                      8.1070e+03, 8.2960e+03, 8.4810e+03, 8.6990e+03, 9.1190e+03, 9.3570e+03,\n",
       "                      9.4000e+03, 9.8620e+03, 9.7890e+03, 1.0426e+04, 1.0370e+04, 1.0804e+04,\n",
       "                      1.0896e+04, 1.1114e+04, 1.1620e+04, 1.1731e+04, 1.2272e+04, 1.2699e+04,\n",
       "                      1.2817e+04, 1.3208e+04, 1.3551e+04, 1.3826e+04, 1.4108e+04, 1.4418e+04,\n",
       "                      1.4834e+04, 1.5263e+04, 1.5582e+04, 1.6071e+04, 1.6295e+04, 1.6839e+04,\n",
       "                      1.7235e+04, 1.7887e+04, 1.8140e+04, 1.8759e+04, 1.9079e+04, 1.9539e+04,\n",
       "                      1.9726e+04, 2.0511e+04, 2.1110e+04, 2.1727e+04, 2.2376e+04, 2.2571e+04,\n",
       "                      2.3189e+04, 2.3991e+04, 2.4259e+04, 2.5040e+04, 2.5735e+04, 2.6273e+04,\n",
       "                      2.7005e+04, 2.7907e+04, 2.8100e+04, 2.9185e+04, 2.9689e+04, 3.0369e+04,\n",
       "                      3.1334e+04, 3.2221e+04, 3.2895e+04, 3.4110e+04, 3.4527e+04, 3.5255e+04,\n",
       "                      3.6292e+04, 3.7165e+04, 3.7957e+04, 3.9484e+04, 4.0166e+04, 4.1184e+04,\n",
       "                      4.2007e+04, 4.3385e+04, 4.4214e+04, 4.5512e+04, 4.6553e+04, 4.7312e+04,\n",
       "                      4.8592e+04, 5.0113e+04, 5.1097e+04, 5.2479e+04, 5.3683e+04, 5.5181e+04,\n",
       "                      5.6341e+04, 5.8059e+04, 5.9317e+04, 6.1166e+04, 6.2393e+04, 6.3704e+04,\n",
       "                      6.5848e+04, 6.7538e+04, 6.8814e+04, 7.0824e+04, 7.2693e+04, 7.4124e+04,\n",
       "                      7.5996e+04, 7.8286e+04, 7.9699e+04, 8.1371e+04, 8.4036e+04, 8.5864e+04,\n",
       "                      8.7802e+04, 9.0547e+04, 9.2488e+04, 9.5105e+04, 9.6615e+04, 9.9374e+04,\n",
       "                      1.0208e+05, 1.0432e+05, 1.0679e+05, 1.0926e+05, 1.1240e+05, 1.1430e+05,\n",
       "                      1.1804e+05, 1.2009e+05, 1.2286e+05, 1.2706e+05, 1.2959e+05, 1.3258e+05,\n",
       "                      1.3582e+05, 1.3937e+05, 1.4278e+05, 1.4607e+05, 1.4910e+05, 1.5305e+05,\n",
       "                      1.5696e+05, 1.6154e+05, 1.6468e+05, 1.6829e+05, 1.7241e+05, 1.7588e+05,\n",
       "                      1.8099e+05, 1.8581e+05, 1.8920e+05, 1.9284e+05, 1.9808e+05, 2.0299e+05,\n",
       "                      2.0750e+05, 2.1274e+05, 2.1825e+05, 2.2359e+05, 2.2842e+05, 2.3311e+05,\n",
       "                      2.3916e+05, 2.4512e+05, 2.5012e+05, 2.5597e+05, 2.6197e+05, 2.6734e+05,\n",
       "                      2.7451e+05, 2.7961e+05, 2.8663e+05, 2.9215e+05, 2.9912e+05, 3.0633e+05])),\n",
       "             ('obs',\n",
       "              tensor([1.1700e+02, 8.9000e+01, 8.2000e+01, 1.1600e+02, 1.2700e+02, 1.3800e+02,\n",
       "                      1.3200e+02, 1.1900e+02, 1.1700e+02, 1.2800e+02, 1.3600e+02, 1.4300e+02,\n",
       "                      1.3500e+02, 1.0200e+02, 1.1800e+02, 1.2000e+02, 1.2600e+02, 1.2300e+02,\n",
       "                      1.1700e+02, 1.2600e+02, 1.2600e+02, 1.3600e+02, 1.2600e+02, 1.3000e+02,\n",
       "                      1.3300e+02, 1.3300e+02, 1.5000e+02, 1.6500e+02, 1.2300e+02, 1.3900e+02,\n",
       "                      1.6200e+02, 1.6300e+02, 1.4400e+02, 1.8300e+02, 1.8800e+02, 1.6500e+02,\n",
       "                      1.7400e+02, 2.0400e+02, 1.9200e+02, 2.0100e+02, 2.0700e+02, 2.2700e+02,\n",
       "                      2.2200e+02, 1.9800e+02, 2.5500e+02, 2.2200e+02, 2.1800e+02, 2.3100e+02,\n",
       "                      2.4500e+02, 2.6700e+02, 2.5600e+02, 2.6500e+02, 2.7900e+02, 3.0500e+02,\n",
       "                      2.7300e+02, 2.6800e+02, 2.7500e+02, 2.7600e+02, 3.2900e+02, 2.9600e+02,\n",
       "                      3.5500e+02, 3.4900e+02, 3.4000e+02, 3.4700e+02, 3.6700e+02, 3.7800e+02,\n",
       "                      3.6500e+02, 3.9200e+02, 4.2300e+02, 3.8200e+02, 4.2500e+02, 4.2600e+02,\n",
       "                      4.5000e+02, 4.5600e+02, 4.2300e+02, 4.6800e+02, 4.7200e+02, 4.6000e+02,\n",
       "                      4.8400e+02, 5.2600e+02, 5.8000e+02, 5.1300e+02, 5.9500e+02, 5.7000e+02,\n",
       "                      6.0200e+02, 6.3100e+02, 5.9700e+02, 6.2900e+02, 6.2200e+02, 7.0500e+02,\n",
       "                      6.9200e+02, 6.8200e+02, 7.7500e+02, 7.3900e+02, 7.3000e+02, 8.1300e+02,\n",
       "                      8.3400e+02, 7.9000e+02, 8.6900e+02, 8.9100e+02, 8.4200e+02, 8.6900e+02,\n",
       "                      9.9700e+02, 8.9800e+02, 9.9800e+02, 9.7400e+02, 1.0150e+03, 1.0520e+03,\n",
       "                      1.0640e+03, 1.0610e+03, 1.1470e+03, 1.1550e+03, 1.1570e+03, 1.2320e+03,\n",
       "                      1.2310e+03, 1.3350e+03, 1.3470e+03, 1.4350e+03, 1.4270e+03, 1.4040e+03,\n",
       "                      1.4770e+03, 1.4940e+03, 1.5000e+03, 1.5360e+03, 1.5780e+03, 1.6510e+03,\n",
       "                      1.6970e+03, 1.6470e+03, 1.7270e+03, 1.8630e+03, 1.8000e+03, 1.8680e+03,\n",
       "                      1.9790e+03, 2.0090e+03, 1.9830e+03, 2.1650e+03, 2.2800e+03, 2.1480e+03,\n",
       "                      2.2850e+03, 2.3340e+03, 2.3490e+03, 2.5220e+03, 2.5120e+03, 2.6280e+03,\n",
       "                      2.5810e+03, 2.7190e+03, 2.8090e+03, 2.7670e+03, 2.9170e+03, 2.9470e+03,\n",
       "                      3.0370e+03, 3.1350e+03, 3.1680e+03, 3.2560e+03, 3.4120e+03, 3.5170e+03,\n",
       "                      3.5210e+03, 3.6780e+03, 3.6640e+03, 3.9380e+03, 3.7920e+03, 4.0650e+03,\n",
       "                      4.1120e+03, 4.2190e+03, 4.2710e+03, 4.4100e+03, 4.6630e+03, 4.7990e+03,\n",
       "                      4.8310e+03, 5.0020e+03, 5.0130e+03, 5.2280e+03, 5.3560e+03, 5.4740e+03,\n",
       "                      5.5810e+03, 5.7250e+03, 5.7650e+03, 6.0240e+03, 6.2200e+03, 6.3110e+03,\n",
       "                      6.4620e+03, 6.8140e+03, 6.7330e+03, 7.0830e+03, 7.2460e+03, 7.3200e+03,\n",
       "                      7.4510e+03, 7.7940e+03, 7.9460e+03, 8.1010e+03, 8.3920e+03, 8.4910e+03,\n",
       "                      8.7450e+03, 9.0570e+03, 9.2270e+03, 9.3920e+03, 9.7570e+03, 1.0019e+04,\n",
       "                      1.0133e+04, 1.0595e+04, 1.0604e+04, 1.0985e+04, 1.1177e+04, 1.1454e+04,\n",
       "                      1.1635e+04, 1.2196e+04, 1.2506e+04, 1.2655e+04, 1.2970e+04, 1.3250e+04,\n",
       "                      1.3580e+04, 1.4001e+04, 1.4283e+04, 1.5138e+04, 1.4995e+04, 1.5550e+04,\n",
       "                      1.5829e+04, 1.6332e+04, 1.6663e+04, 1.7198e+04, 1.7476e+04, 1.7876e+04,\n",
       "                      1.8176e+04, 1.8844e+04, 1.9336e+04, 1.9810e+04, 2.0143e+04, 2.0569e+04,\n",
       "                      2.1065e+04, 2.1917e+04, 2.2464e+04, 2.3140e+04, 2.3462e+04, 2.4255e+04,\n",
       "                      2.4654e+04, 2.5251e+04, 2.5901e+04, 2.6940e+04, 2.7287e+04, 2.7938e+04,\n",
       "                      2.8633e+04, 2.9313e+04, 2.9904e+04, 3.0555e+04, 3.1536e+04, 3.2326e+04,\n",
       "                      3.3232e+04, 3.3788e+04, 3.4819e+04, 3.5937e+04, 3.6190e+04, 3.7329e+04,\n",
       "                      3.8228e+04, 3.9463e+04, 4.0195e+04, 4.1034e+04, 4.2003e+04, 4.3193e+04,\n",
       "                      4.4497e+04, 4.5328e+04, 4.6026e+04, 4.8129e+04, 4.8746e+04, 5.0067e+04,\n",
       "                      5.1404e+04, 5.2214e+04, 5.3298e+04, 5.4753e+04, 5.6265e+04, 5.7734e+04,\n",
       "                      5.9174e+04, 6.0925e+04, 6.2304e+04, 6.3440e+04, 6.4954e+04, 6.5861e+04,\n",
       "                      6.8241e+04, 6.9748e+04, 7.0897e+04, 7.2789e+04, 7.4612e+04, 7.6547e+04,\n",
       "                      7.7665e+04, 8.0200e+04, 8.2161e+04, 8.3891e+04, 8.5875e+04, 8.7935e+04,\n",
       "                      8.9877e+04, 9.2284e+04, 9.4155e+04, 9.6113e+04, 9.8691e+04, 1.0054e+05,\n",
       "                      1.0253e+05, 1.0512e+05, 1.0794e+05, 1.0962e+05, 1.1297e+05, 1.1527e+05]))])"
      ]
     },
     "execution_count": 19,
     "metadata": {},
     "output_type": "execute_result"
    }
   ],
   "source": [
    "synth_data"
   ]
  },
  {
   "cell_type": "code",
   "execution_count": null,
   "metadata": {},
   "outputs": [],
   "source": []
  }
 ],
 "metadata": {
  "kernelspec": {
   "display_name": "pyprobenv",
   "language": "python",
   "name": "pyprobenv"
  },
  "language_info": {
   "codemirror_mode": {
    "name": "ipython",
    "version": 3
   },
   "file_extension": ".py",
   "mimetype": "text/x-python",
   "name": "python",
   "nbconvert_exporter": "python",
   "pygments_lexer": "ipython3",
   "version": "3.6.10"
  }
 },
 "nbformat": 4,
 "nbformat_minor": 4
}
