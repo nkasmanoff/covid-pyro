{
 "cells": [
  {
   "cell_type": "markdown",
   "metadata": {},
   "source": [
    "Lightly edited for clarity as Noah goes through this..."
   ]
  },
  {
   "cell_type": "markdown",
   "metadata": {},
   "source": [
    "# Compartmental Models"
   ]
  },
  {
   "cell_type": "code",
   "execution_count": 2,
   "metadata": {},
   "outputs": [],
   "source": [
    "# Adapted from https://pyro.ai/examples/sir_hmc.html by Swapneel and Noah"
   ]
  },
  {
   "cell_type": "code",
   "execution_count": 11,
   "metadata": {},
   "outputs": [],
   "source": [
    "import argparse\n",
    "import logging\n",
    "import math\n",
    "import re\n",
    "from collections import OrderedDict\n",
    "\n",
    "import torch\n",
    "from torch import distributions as tdist\n",
    "from pyro import distributions as dist\n",
    "\n",
    "from matplotlib import pyplot as plt\n",
    "import seaborn as sns\n",
    "import logging\n",
    "\n",
    "import pyro.distributions as dist\n",
    "import pyro.distributions.hmm\n",
    "import pyro.poutine as poutine\n",
    "from pyro.infer import MCMC, NUTS, config_enumerate, infer_discrete\n",
    "from pyro.infer.autoguide import init_to_value\n",
    "from pyro.ops.special import safe_log\n",
    "from pyro.ops.tensor_utils import convolve\n",
    "from pyro.util import warn_if_nan\n",
    "plt.style.use('dark_background')\n",
    "\n",
    "logging.basicConfig(format='%(message)s', level=logging.INFO)\n"
   ]
  },
  {
   "cell_type": "markdown",
   "metadata": {},
   "source": [
    "# still can't figure out exactly what $\\rho$ represents in the global population parameters for COVID-19\n",
    "# we noisily observe the number of people *newly infected* at each time step, \n",
    "# assuming an unknown false negative rate but NO FALSE POSITIVES (implying the COVID test cares about Type II errors over Type I)!\n",
    " (Pretty easy to argue this is true.)\n",
    "# $\\rho$ is then the mean response rate which is 1 - false negative rate\n",
    "\n",
    "# $\\rho$ is used as a parameter when sampling from the extended binomial such that a person goes from Susceptible \n",
    "# to Infected with a probability \\rho so that means 1 - $\\rho$ is the probability that a Susceptible person is \n",
    "# not actually infected which makes sense as that equals the false negative rate when testing a random sample of the population\n",
    "# at any given time step.\n",
    "# Ok I think I understand rho better now!"
   ]
  },
  {
   "cell_type": "markdown",
   "metadata": {},
   "source": [
    "### 1. The Priors we place on R0 and $\\rho$"
   ]
  },
  {
   "cell_type": "code",
   "execution_count": 12,
   "metadata": {},
   "outputs": [
    {
     "data": {
      "image/png": "[encoded data removed]",
      "text/plain": [
       "<Figure size 1296x432 with 2 Axes>"
      ]
     },
     "metadata": {},
     "output_type": "display_data"
    }
   ],
   "source": [
    "fig, ax = plt.subplots(1, 2, figsize=(18, 6))\n",
    "\n",
    "r0_dist = tdist.LogNormal(0., 1.) # we form a prior distribution on r0 that it's a lognormal dist. \n",
    "r0_samples = r0_dist.sample(torch.Size([10000]))\n",
    "\n",
    "ax[0].hist(r0_samples)\n",
    "#sns.hist(r0_samples, ax=ax[0])\n",
    "ax[0].set_xlabel('R0 (reproduction number)')\n",
    "ax[0].set_title('Prior on R0 (reproduction number)')\n",
    "\n",
    "#sns.hist\n",
    "plt.show()"
   ]
  },
  {
   "cell_type": "code",
   "execution_count": 17,
   "metadata": {},
   "outputs": [],
   "source": [
    "def global_model(population):\n",
    "    \"\"\"\n",
    "    From the population and initial values for recovery time, R0, and rho, convert interpretable values\n",
    "    \n",
    "    (an epidemiologist knows what R0 is but not rate_s), into the parameters needed for the distribution. \n",
    "    \n",
    "    \n",
    "    Returns\n",
    "    -------\n",
    "    \n",
    "    rate_s: rate of infection i \n",
    "    \n",
    "    prob_i: probality of infection? \n",
    "    \n",
    "    rho: not sure yet. \n",
    "    \"\"\"\n",
    "    tau = args.recovery_time  # Assume this can be measured exactly... TODO: Why not make this also a dist? \n",
    "    R0 = pyro.sample(\"R0\", dist.LogNormal(0., 1.))\n",
    "    rho = pyro.sample(\"rho\", dist.Uniform(0, 1))\n",
    "\n",
    "    # Convert interpretable parameters to distribution parameters.\n",
    "    rate_s = -R0 / (tau * population)\n",
    "    prob_i = 1 / (1 + tau)\n",
    "\n",
    "    return rate_s, prob_i, rho\n",
    "\n",
    "\n",
    "def discrete_model(args, data):\n",
    "    \"\"\"\n",
    "    create discrete model \n",
    "    \"\"\"\n",
    "    # Sample global parameters.\n",
    "    rate_s, prob_i, rho = global_model(args.population)\n",
    "\n",
    "    # Sequentially sample time-local variables.\n",
    "    S = torch.tensor(args.population - 1.)\n",
    "    I = torch.tensor(1.)\n",
    "    for t, datum in enumerate(data): # for data point in dataset, use this distribution to  \n",
    "        S2I = pyro.sample(\"S2I_{}\".format(t),\n",
    "                          dist.Binomial(S, -(rate_s * I).expm1()))\n",
    "        I2R = pyro.sample(\"I2R_{}\".format(t),\n",
    "                          dist.Binomial(I, prob_i))\n",
    "        S = pyro.deterministic(\"S_{}\".format(t), S - S2I) \n",
    "        I = pyro.deterministic(\"I_{}\".format(t), I + S2I - I2R) # the diff eqs\n",
    "        pyro.sample(\"obs_{}\".format(t),\n",
    "                    dist.ExtendedBinomial(S2I, rho),\n",
    "                    obs=datum)"
   ]
  },
  {
   "cell_type": "code",
   "execution_count": 18,
   "metadata": {},
   "outputs": [],
   "source": [
    "# We can use this model to simulate data. We'll use poutine.condition to pin\n",
    "# parameter values and poutine.trace to record sample observations.\n",
    "\n",
    "def generate_data(args):\n",
    "    \"\"\"\n",
    "    Simulate data. \n",
    "    \n",
    "    Using args to input initial estimates on R0 and other epidemiology jargon, return a list of the compartment populations\n",
    "    according to these conditions. \n",
    "    \n",
    "    S2I, I2R\n",
    "    \"\"\"\n",
    "    logging.info(\"Generating data...\")\n",
    "    params = {\"R0\": torch.tensor(args.basic_reproduction_number),\n",
    "              \"rho\": torch.tensor(args.response_rate)}\n",
    "    empty_data = [None] * (args.duration + args.forecast)\n",
    "\n",
    "    # We'll retry until we get an actual outbreak.\n",
    "    for attempt in range(100):\n",
    "        with poutine.trace() as tr:\n",
    "            with poutine.condition(data=params):\n",
    "                discrete_model(args, empty_data)\n",
    "\n",
    "        # Concatenate sequential time series into tensors.\n",
    "        obs = torch.stack([site[\"value\"]\n",
    "                           for name, site in tr.trace.nodes.items()\n",
    "                           if re.match(\"obs_[0-9]+\", name)])\n",
    "        S2I = torch.stack([site[\"value\"]\n",
    "                          for name, site in tr.trace.nodes.items()\n",
    "                          if re.match(\"S2I_[0-9]+\", name)])\n",
    "        assert len(obs) == len(empty_data)\n",
    "\n",
    "        obs_sum = int(obs[:args.duration].sum())\n",
    "        S2I_sum = int(S2I[:args.duration].sum())\n",
    "        if obs_sum >= args.min_observations:\n",
    "            logging.info(\"Observed {:d}/{:d} infections:\\n{}\".format(\n",
    "                obs_sum, S2I_sum, \" \".join([str(int(x)) for x in obs[:args.duration]])))\n",
    "            return {\"S2I\": S2I, \"obs\": obs}\n",
    "\n",
    "    raise ValueError(\"Failed to generate {} observations. Try increasing \"\n",
    "                     \"--population or decreasing --min-observations\"\n",
    "                     .format(args.min_observations))\n",
    "\n"
   ]
  },
  {
   "cell_type": "code",
   "execution_count": 41,
   "metadata": {},
   "outputs": [],
   "source": [
    "from argparse import Namespace\n",
    "args = Namespace(population=1000000, \n",
    "                 min_observations=3, \n",
    "                 duration=100, \n",
    "                 forecast=0, \n",
    "                 basic_reproduction_number=1.5, \n",
    "                 recovery_time=7.0, \n",
    "                 response_rate=0.5, \n",
    "                 enum=True, \n",
    "                 sequential=True, \n",
    "                 num_samples=2000, \n",
    "                 warmup_steps=100, \n",
    "                 max_tree_depth=5, \n",
    "                 rng_seed=0, \n",
    "                 double=True, \n",
    "                 jit=True, \n",
    "                 cuda=True, \n",
    "                 verbose=True, \n",
    "                 plot=True)"
   ]
  },
  {
   "cell_type": "code",
   "execution_count": 42,
   "metadata": {},
   "outputs": [
    {
     "name": "stderr",
     "output_type": "stream",
     "text": [
      "Generating data...\n",
      "Observed 23505/46972 infections:\n",
      "0 0 0 0 0 1 1 1 0 0 0 0 2 3 3 0 4 3 1 2 5 4 3 1 6 6 4 6 10 5 6 5 6 9 5 9 8 14 10 13 14 7 18 15 16 14 21 20 30 37 37 25 32 33 40 51 52 43 69 68 72 82 98 84 94 104 122 132 148 179 169 192 189 221 236 258 300 304 378 346 408 406 450 490 572 574 651 689 737 813 897 1027 1093 1160 1286 1271 1457 1559 1714 1745\n"
     ]
    },
    {
     "data": {
      "text/plain": [
       "{'S2I': tensor([0.0000e+00, 0.0000e+00, 0.0000e+00, 0.0000e+00, 1.0000e+00, 1.0000e+00,\n",
       "         1.0000e+00, 3.0000e+00, 0.0000e+00, 1.0000e+00, 1.0000e+00, 0.0000e+00,\n",
       "         5.0000e+00, 3.0000e+00, 4.0000e+00, 1.0000e+00, 4.0000e+00, 4.0000e+00,\n",
       "         1.0000e+00, 2.0000e+00, 7.0000e+00, 8.0000e+00, 7.0000e+00, 9.0000e+00,\n",
       "         1.2000e+01, 9.0000e+00, 9.0000e+00, 1.5000e+01, 1.8000e+01, 1.3000e+01,\n",
       "         1.3000e+01, 8.0000e+00, 1.7000e+01, 1.6000e+01, 1.4000e+01, 2.1000e+01,\n",
       "         1.9000e+01, 2.3000e+01, 2.0000e+01, 2.8000e+01, 2.4000e+01, 2.1000e+01,\n",
       "         3.1000e+01, 2.8000e+01, 4.3000e+01, 3.8000e+01, 3.9000e+01, 4.6000e+01,\n",
       "         4.4000e+01, 6.3000e+01, 6.5000e+01, 6.0000e+01, 7.0000e+01, 7.3000e+01,\n",
       "         8.5000e+01, 9.2000e+01, 1.0900e+02, 1.1200e+02, 1.3100e+02, 1.3800e+02,\n",
       "         1.3900e+02, 1.7100e+02, 1.6200e+02, 1.7500e+02, 1.9200e+02, 2.1700e+02,\n",
       "         2.5300e+02, 2.7000e+02, 2.7400e+02, 3.3500e+02, 3.2900e+02, 3.8800e+02,\n",
       "         3.8400e+02, 4.3200e+02, 4.4800e+02, 4.8100e+02, 5.7000e+02, 6.0500e+02,\n",
       "         7.0800e+02, 7.0600e+02, 7.9700e+02, 8.3100e+02, 9.3600e+02, 1.0170e+03,\n",
       "         1.1140e+03, 1.1890e+03, 1.2570e+03, 1.3890e+03, 1.5210e+03, 1.6930e+03,\n",
       "         1.7940e+03, 2.0290e+03, 2.1660e+03, 2.3020e+03, 2.5130e+03, 2.6080e+03,\n",
       "         2.9160e+03, 3.0920e+03, 3.3830e+03, 3.5560e+03]),\n",
       " 'obs': tensor([0.0000e+00, 0.0000e+00, 0.0000e+00, 0.0000e+00, 0.0000e+00, 1.0000e+00,\n",
       "         1.0000e+00, 1.0000e+00, 0.0000e+00, 0.0000e+00, 0.0000e+00, 0.0000e+00,\n",
       "         2.0000e+00, 3.0000e+00, 3.0000e+00, 0.0000e+00, 4.0000e+00, 3.0000e+00,\n",
       "         1.0000e+00, 2.0000e+00, 5.0000e+00, 4.0000e+00, 3.0000e+00, 1.0000e+00,\n",
       "         6.0000e+00, 6.0000e+00, 4.0000e+00, 6.0000e+00, 1.0000e+01, 5.0000e+00,\n",
       "         6.0000e+00, 5.0000e+00, 6.0000e+00, 9.0000e+00, 5.0000e+00, 9.0000e+00,\n",
       "         8.0000e+00, 1.4000e+01, 1.0000e+01, 1.3000e+01, 1.4000e+01, 7.0000e+00,\n",
       "         1.8000e+01, 1.5000e+01, 1.6000e+01, 1.4000e+01, 2.1000e+01, 2.0000e+01,\n",
       "         3.0000e+01, 3.7000e+01, 3.7000e+01, 2.5000e+01, 3.2000e+01, 3.3000e+01,\n",
       "         4.0000e+01, 5.1000e+01, 5.2000e+01, 4.3000e+01, 6.9000e+01, 6.8000e+01,\n",
       "         7.2000e+01, 8.2000e+01, 9.8000e+01, 8.4000e+01, 9.4000e+01, 1.0400e+02,\n",
       "         1.2200e+02, 1.3200e+02, 1.4800e+02, 1.7900e+02, 1.6900e+02, 1.9200e+02,\n",
       "         1.8900e+02, 2.2100e+02, 2.3600e+02, 2.5800e+02, 3.0000e+02, 3.0400e+02,\n",
       "         3.7800e+02, 3.4600e+02, 4.0800e+02, 4.0600e+02, 4.5000e+02, 4.9000e+02,\n",
       "         5.7200e+02, 5.7400e+02, 6.5100e+02, 6.8900e+02, 7.3700e+02, 8.1300e+02,\n",
       "         8.9700e+02, 1.0270e+03, 1.0930e+03, 1.1600e+03, 1.2860e+03, 1.2710e+03,\n",
       "         1.4570e+03, 1.5590e+03, 1.7140e+03, 1.7450e+03])}"
      ]
     },
     "execution_count": 42,
     "metadata": {},
     "output_type": "execute_result"
    }
   ],
   "source": [
    "x = generate_data(args)\n",
    "x"
   ]
  },
  {
   "cell_type": "code",
   "execution_count": 46,
   "metadata": {},
   "outputs": [
    {
     "data": {
      "text/plain": [
       "<matplotlib.legend.Legend at 0x1a2bd1ec90>"
      ]
     },
     "execution_count": 46,
     "metadata": {},
     "output_type": "execute_result"
    },
    {
     "data": {
      "image/png": "[encoded data removed]",
      "text/plain": [
       "<Figure size 432x288 with 1 Axes>"
      ]
     },
     "metadata": {},
     "output_type": "display_data"
    }
   ],
   "source": [
    "plt.plot(x['S2I'],label='S2I')\n",
    "plt.plot(x['obs'],label='obs')\n",
    "plt.legend()"
   ]
  },
  {
   "cell_type": "code",
   "execution_count": 47,
   "metadata": {},
   "outputs": [],
   "source": [
    "# Inference\n",
    "# =========\n",
    "#\n",
    "# While the above discrete_model is easy to understand, its discrete latent\n",
    "# variables pose a challenge for inference. One of the most popular inference\n",
    "# strategies for such models is Sequential Monte Carlo. However since Pyro and\n",
    "# PyTorch are stronger in gradient based vectorizable inference algorithms, we\n",
    "# will instead pursue inference based on Hamiltonian Monte Carlo (HMC).\n",
    "#\n",
    "# Our general inference strategy will be to:\n",
    "# 1. Introduce auxiliary variables to make the model Markov.\n",
    "# 2. Introduce more auxiliary variables to create a discrete parameterization.\n",
    "# 3. Marginalize out all remaining discrete latent variables.\n",
    "# 4. Vectorize to enable parallel-scan temporal filtering.\n",
    "#\n",
    "# Let's consider reparameterizing in terms of the variables (S, I) rather than\n",
    "# (S2I, I2R). Since these may lead to inconsistent states, we need to replace\n",
    "# the Binomial transition factors (S2I, I2R) with ExtendedBinomial.\n",
    "#\n",
    "# The following model is equivalent to the discrete_model:\n",
    "\n",
    "@config_enumerate\n",
    "def reparameterized_discrete_model(args, data):\n",
    "    # Sample global parameters.\n",
    "    rate_s, prob_i, rho = global_model(args.population)\n",
    "\n",
    "    # Sequentially sample time-local variables.\n",
    "    S_curr = torch.tensor(args.population - 1.)\n",
    "    I_curr = torch.tensor(1.)\n",
    "    for t, datum in enumerate(data):\n",
    "        # Sample reparameterizing variables.\n",
    "        # When reparameterizing to a factor graph, we ignored density via\n",
    "        # .mask(False). Thus distributions are used only for initialization.\n",
    "        S_prev, I_prev = S_curr, I_curr\n",
    "        S_curr = pyro.sample(\"S_{}\".format(t),\n",
    "                             dist.Binomial(args.population, 0.5).mask(False))\n",
    "        I_curr = pyro.sample(\"I_{}\".format(t),\n",
    "                             dist.Binomial(args.population, 0.5).mask(False))\n",
    "\n",
    "        # Now we reverse the computation.\n",
    "        S2I = S_prev - S_curr\n",
    "        I2R = I_prev - I_curr + S2I\n",
    "        pyro.sample(\"S2I_{}\".format(t),\n",
    "                    dist.ExtendedBinomial(S_prev, -(rate_s * I_prev).expm1()),\n",
    "                    obs=S2I)\n",
    "        pyro.sample(\"I2R_{}\".format(t),\n",
    "                    dist.ExtendedBinomial(I_prev, prob_i),\n",
    "                    obs=I2R)\n",
    "        pyro.sample(\"obs_{}\".format(t),\n",
    "                    dist.ExtendedBinomial(S2I, rho),\n",
    "                    obs=datum)\n",
    "\n"
   ]
  },
  {
   "cell_type": "code",
   "execution_count": null,
   "metadata": {},
   "outputs": [],
   "source": []
  }
 ],
 "metadata": {
  "kernelspec": {
   "display_name": "Python 3",
   "language": "python",
   "name": "python3"
  },
  "language_info": {
   "codemirror_mode": {
    "name": "ipython",
    "version": 3
   },
   "file_extension": ".py",
   "mimetype": "text/x-python",
   "name": "python",
   "nbconvert_exporter": "python",
   "pygments_lexer": "ipython3",
   "version": "3.7.4"
  }
 },
 "nbformat": 4,
 "nbformat_minor": 2
}
