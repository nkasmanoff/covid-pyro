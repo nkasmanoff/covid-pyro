{
 "cells": [
  {
   "cell_type": "markdown",
   "metadata": {},
   "source": [
    "Building on the tutorial at https://pyro.ai/examples/sir_hmc.html, the folks at Pyro created an additional interface for SIR modeling that compresses much of the info that that tutorial provided into a concrete interface for compartmental modeling. Below is that work, drawn from http://pyro.ai/examples/epi_intro.html"
   ]
  },
  {
   "cell_type": "markdown",
   "metadata": {},
   "source": [
    "This is my second notebook in this \"series\". Will again use the compartmental model, but this time for SEIR modeling. Due to difficulty in finding this data in the real world (not to mention how hard it was to model in SIR to begin with), I'll stick with synthetic data for now. Using MCMC and SVI methods to estimate epidemic parameters and see if intervention helps, and to what extent. "
   ]
  },
  {
   "cell_type": "code",
   "execution_count": 1,
   "metadata": {},
   "outputs": [],
   "source": [
    "import os\n",
    "import matplotlib.pyplot as plt\n",
    "import seaborn as sns\n",
    "import torch\n",
    "import pyro\n",
    "import pyro.distributions as dist\n",
    "from pyro.contrib.epidemiology import CompartmentalModel, binomial_dist, infection_dist\n",
    "\n",
    "%matplotlib inline\n",
    "#assert pyro.__version__.startswith('1.5.0') # I have 1.5.1, hopefully not a problem to comment this out. \n",
    "torch.set_default_dtype(torch.double)  # Required for MCMC inference.\n",
    "pyro.enable_validation(True)  # Always a good idea.\n",
    "smoke_test = ('CI' in os.environ)"
   ]
  },
  {
   "cell_type": "code",
   "execution_count": 2,
   "metadata": {},
   "outputs": [
    {
     "data": {
      "text/plain": [
       "'1.5.0'"
      ]
     },
     "execution_count": 2,
     "metadata": {},
     "output_type": "execute_result"
    }
   ],
   "source": [
    "pyro.__version__"
   ]
  },
  {
   "cell_type": "code",
   "execution_count": 3,
   "metadata": {},
   "outputs": [
    {
     "ename": "IndentationError",
     "evalue": "unexpected indent (<ipython-input-3-b45bd06ac8f0>, line 141)",
     "output_type": "error",
     "traceback": [
      "\u001b[0;36m  File \u001b[0;32m\"<ipython-input-3-b45bd06ac8f0>\"\u001b[0;36m, line \u001b[0;32m141\u001b[0m\n\u001b[0;31m    e_to_i1 - i1_to_i2 - i1_to_r\u001b[0m\n\u001b[0m    ^\u001b[0m\n\u001b[0;31mIndentationError\u001b[0m\u001b[0;31m:\u001b[0m unexpected indent\n"
     ]
    }
   ],
   "source": [
    "\n",
    "# check https://github.com/SwapneelM/covid/blob/master/SEIR/seir.py for help. \n",
    "class SimpleSEI3RModel(CompartmentalModel):\n",
    "    \"\"\"\n",
    "    Susceptible-Exposed-Infected1-Infected2-Infected3-Recovered-(Dead) model.\n",
    "\n",
    "    This is a stochastic discrete-time discrete-state model with seven\n",
    "    compartments: \"S\" for susceptible, \"E\" for exposed, \"I\" for infected (with 3 degrees of illness), \"D\"\n",
    "    for deceased individuals, and \"R\" for recovered individuals (the recovered\n",
    "    individuals are implicit: ``R = population - S - E - I1 - I2 - I3 - D``) with\n",
    "    transitions ``S -> E -> I1 -> R``,  ``S -> E -> I1 -> I2 -> R``,  ``S -> E -> I1 -> -> I2 -> I3 -> R``\n",
    "    and ``I3 -> D``.\n",
    "\n",
    "    Because the transitions are not simple linear succession, this model\n",
    "    implements a custom :meth:`compute_flows()` method.\n",
    "\n",
    "    :param int population: Total ``population = S + E + I3 + R + D``.\n",
    "    :param float incubation_time: Mean incubation time (duration in state\n",
    "        ``E``). Must be greater than 1.\n",
    "    :param float recovery_time: Mean recovery time (duration in state\n",
    "        ``I``). Must be greater than 1.\n",
    "    :param float mortality_rate: Portion of infections resulting in death.\n",
    "        Must be in the open interval ``(0, 1)``.\n",
    "    :param iterable data: Time series of new observed infections. Each time\n",
    "        step is Binomial distributed between 0 and the number of ``S -> E``\n",
    "        transitions. This allows false negative but no false positives.\n",
    "    \"\"\"\n",
    "\n",
    "    def __init__(self, population, incubation_time, recovery_time,\n",
    "                 mortality_rate, data):\n",
    "        compartments = (\"S\", \"E\", \"I\", \"I2\", \"I3\", \"D\")  # R is implicit.\n",
    "        duration = len(data)\n",
    "        super().__init__(compartments, duration, population)\n",
    "\n",
    "        assert isinstance(incubation_time, float)\n",
    "        assert incubation_time > 1\n",
    "        self.incubation_time = incubation_time\n",
    "\n",
    "        assert isinstance(recovery_time, float)\n",
    "        assert recovery_time > 1\n",
    "        self.recovery_time = recovery_time\n",
    "\n",
    "        assert isinstance(mortality_rate, float)\n",
    "        assert 0 < mortality_rate < 1\n",
    "        self.mortality_rate = mortality_rate\n",
    "\n",
    "        self.data = data\n",
    "\n",
    "    def global_model(self):\n",
    "        tau_e = self.incubation_time\n",
    "        tau_i = self.recovery_time\n",
    "        mu = self.mortality_rate\n",
    "        R0 = pyro.sample(\"R0\", dist.LogNormal(0., 1.))\n",
    "        rho = pyro.sample(\"rho\", dist.Beta(10, 10))\n",
    "        return R0, tau_e, tau_i, mu, rho\n",
    "\n",
    "    def initialize(self, params):\n",
    "        # Start with a single infection ( at stage 1) .\n",
    "        # pretty ambiguous. Check with paper see if they do something different. \n",
    "        return {\"S\": self.population - 1, \"E\": 0, \"I\": 1, \"I2\":0, \"I3\":0, \"D\": 0}\n",
    "\n",
    "    def transition(self, params, state, t):\n",
    "        \"\"\"\n",
    "        How we go from one compartment to another. After definining changes we update compartments. \n",
    "        \n",
    "        \"\"\"\n",
    "        R0, tau_e, tau_i, mu, rho = params # add the other ones from paper\n",
    "        p1 = .5\n",
    "        p2 = .5\n",
    "        gamma1 = .2\n",
    "        gamma2 = .3\n",
    "        gamma3 = .5\n",
    "        kappa = 0.005\n",
    "\n",
    "        # Sample flows between compartments.\n",
    "        S2E = pyro.sample(\"S2E_{}\".format(t),\n",
    "                          infection_dist(individual_rate=R0 / tau_i,\n",
    "                                         num_susceptible=state[\"S\"],\n",
    "                                         num_infectious=state[\"I\"],\n",
    "                                         population=self.population))\n",
    "        \n",
    "        E2I = pyro.sample(\"E2I_{}\".format(t),\n",
    "                          binomial_dist(state[\"E\"], 1 / tau_e))\n",
    "        \n",
    "        I2I2 = pyro.sample(\"I2I2_{}\".format(t),\n",
    "                          binomial_dist(state[\"I\"], p1))\n",
    "        \n",
    "        I2R = pyro.sample(\"I2R_{}\".format(t),\n",
    "                          binomial_dist(state[\"I\"], gamma1))\n",
    "       \n",
    "        I22I3 = pyro.sample(\"I22I3_{}\".format(t),\n",
    "                          binomial_dist(state[\"I2\"], p2))\n",
    "        \n",
    "        I22R = pyro.sample(\"I22R_{}\".format(t),\n",
    "                          binomial_dist(state[\"I2\"], gamma2))\n",
    "        \n",
    "        \n",
    "        I32R = pyro.sample(\"I32R_{}\".format(t),\n",
    "                          binomial_dist(state[\"I3\"], gamma3))\n",
    "        \n",
    "        I32D = pyro.sample(\"I32D_{}\".format(t),\n",
    "                          binomial_dist(state[\"I3\"], kappa))\n",
    "        \n",
    "        \n",
    "        # Of the 1/tau_i expected recoveries-or-deaths, a portion mu die and\n",
    "        # the remaining recover. Alternatively we could model this with a\n",
    "        # Multinomial distribution I2_ and extract the two components I2D and\n",
    "        # I2R, however the Multinomial distribution does not currently\n",
    "        # implement overdispersion or moment matching.\n",
    "        \n",
    "\n",
    "        # update compartments. \n",
    "        state[\"S\"] = state[\"S\"] - S2E\n",
    "        state[\"E\"] = state[\"E\"] + S2E - E2I\n",
    "        state[\"I\"] = state[\"I\"] + E2I - I2R - I2I2\n",
    "        state[\"I2\"] = state[\"I2\"] + I2I2 - I22R - I22I3\n",
    "        state[\"I3\"] = state[\"I3\"] + I22I3 - I32R - I32D\n",
    "        state[\"D\"] = state[\"D\"] + I32D\n",
    "        \n",
    "        \n",
    "        \n",
    "        \n",
    "\n",
    "        # Condition on observations.\n",
    "        t_is_observed = isinstance(t, slice) or t < self.duration\n",
    "        pyro.sample(\"obs_{}\".format(t),\n",
    "                    binomial_dist(S2E, rho),\n",
    "                    obs=self.data[t] if t_is_observed else None)\n",
    "\n",
    "    def compute_flows(self, prev, curr, t):\n",
    "        \"\"\"\n",
    "        Having a tough time making these line up. Need to choose one to define first? \n",
    "        \n",
    "        Should a new variable be implicit? \n",
    "        \"\"\"\n",
    "        \n",
    "        # First part\n",
    "        S2E = prev[\"S\"] - curr[\"S\"]  # S can only go to E.\n",
    "        I32D = curr[\"D\"] - prev[\"D\"]  # D can only have come from I3. \n",
    "        E2I = prev[\"E\"] - curr[\"E\"] + S2E - I2I2 - I2R\n",
    "\n",
    "        I32R = prev[\"I3\"] - curr[\"I3\"] + I22I3 - I32D\n",
    "        \n",
    "        I22I3 = prev[\"I2\"] - curr[\"I2\"] + I2I2 - I22R \n",
    "        \n",
    "        prev[\"I\"] - curr[\"I\"] + E2I - I2D\n",
    "        \n",
    "        \n",
    "        \n",
    "        # Flow for I\n",
    "        I2R =  prev[\"I\"] - curr[\"I\"] + E2I - I2I2\n",
    "        I2I2 = prev[\"I\"] - curr[\"I\"] + E2I - I2R\n",
    "        \n",
    "        # Flow for I2\n",
    "        I22R = prev[\"I2\"] - curr[\"I2\"] + I2I2 - I22I3\n",
    "        I22I3 = prev[\"I2\"] - curr[\"I2\"] + I2I2 - I22R \n",
    "        \n",
    "        \n",
    "        # Flow for I3\n",
    "        I32R = prev[\"I3\"] - curr[\"I3\"] + I22I3 - I32D\n",
    "\n",
    "        \n",
    "        \n",
    "        return {\n",
    "            \"S2E_{}\".format(t): S2E,\n",
    "            \"E2I_{}\".format(t): E2I,\n",
    "            \"I2I2_{}\".format(t): I2I2,\n",
    "            \"I22I3_{}\".format(t): I22I3,\n",
    "\n",
    "            \"I32D_{}\".format(t): I32D,\n",
    "            \"I2R_{}\".format(t): I2R,\n",
    "            \"I22R_{}\".format(t): I22R,\n",
    "            \"I32R_{}\".format(t): I32R,\n",
    "\n",
    "        }\n",
    "\n"
   ]
  },
  {
   "cell_type": "code",
   "execution_count": null,
   "metadata": {},
   "outputs": [],
   "source": [
    "class SimpleSEIRDModel(CompartmentalModel):\n",
    "    \"\"\"\n",
    "    Susceptible-Exposed-Infected-Recovered-Dead model.\n",
    "\n",
    "    To customize this model we recommend forking and editing this class.\n",
    "\n",
    "    This is a stochastic discrete-time discrete-state model with four\n",
    "    compartments: \"S\" for susceptible, \"E\" for exposed, \"I\" for infected, \"D\"\n",
    "    for deceased individuals, and \"R\" for recovered individuals (the recovered\n",
    "    individuals are implicit: ``R = population - S - E - I - D``) with\n",
    "    transitions ``S -> E -> I -> R`` and ``I -> D``.\n",
    "\n",
    "    Because the transitions are not simple linear succession, this model\n",
    "    implements a custom :meth:`compute_flows()` method.\n",
    "\n",
    "    :param int population: Total ``population = S + E + I + R + D``.\n",
    "    :param float incubation_time: Mean incubation time (duration in state\n",
    "        ``E``). Must be greater than 1.\n",
    "    :param float recovery_time: Mean recovery time (duration in state\n",
    "        ``I``). Must be greater than 1.\n",
    "    :param float mortality_rate: Portion of infections resulting in death.\n",
    "        Must be in the open interval ``(0, 1)``.\n",
    "    :param iterable data: Time series of new observed infections. Each time\n",
    "        step is Binomial distributed between 0 and the number of ``S -> E``\n",
    "        transitions. This allows false negative but no false positives.\n",
    "    \"\"\"\n",
    "\n",
    "    def __init__(self, population, incubation_time, recovery_time,\n",
    "                 mortality_rate, data):\n",
    "        compartments = (\"S\", \"E\", \"I\", \"D\")  # R is implicit.\n",
    "        duration = len(data)\n",
    "        super().__init__(compartments, duration, population)\n",
    "\n",
    "        assert isinstance(incubation_time, float)\n",
    "        assert incubation_time > 1\n",
    "        self.incubation_time = incubation_time\n",
    "\n",
    "        assert isinstance(recovery_time, float)\n",
    "        assert recovery_time > 1\n",
    "        self.recovery_time = recovery_time\n",
    "\n",
    "        assert isinstance(mortality_rate, float)\n",
    "        assert 0 < mortality_rate < 1\n",
    "        self.mortality_rate = mortality_rate\n",
    "\n",
    "        self.data = data\n",
    "\n",
    "    def global_model(self):\n",
    "        tau_e = self.incubation_time\n",
    "        tau_i = self.recovery_time\n",
    "        mu = self.mortality_rate\n",
    "        R0 = pyro.sample(\"R0\", dist.LogNormal(0., 1.))\n",
    "        rho = pyro.sample(\"rho\", dist.Beta(10, 10))\n",
    "        return R0, tau_e, tau_i, mu, rho\n",
    "\n",
    "    def initialize(self, params):\n",
    "        # Start with a single infection.\n",
    "        return {\"S\": self.population - 1, \"E\": 0, \"I\": 1, \"D\": 0}\n",
    "\n",
    "    def transition(self, params, state, t):\n",
    "        R0, tau_e, tau_i, mu, rho = params\n",
    "\n",
    "        # Sample flows between compartments.\n",
    "        S2E = pyro.sample(\"S2E_{}\".format(t),\n",
    "                          infection_dist(individual_rate=R0 / tau_i,\n",
    "                                         num_susceptible=state[\"S\"],\n",
    "                                         num_infectious=state[\"I\"],\n",
    "                                         population=self.population))\n",
    "        E2I = pyro.sample(\"E2I_{}\".format(t),\n",
    "                          binomial_dist(state[\"E\"], 1 / tau_e))\n",
    "        # Of the 1/tau_i expected recoveries-or-deaths, a portion mu die and\n",
    "        # the remaining recover. Alternatively we could model this with a\n",
    "        # Multinomial distribution I2_ and extract the two components I2D and\n",
    "        # I2R, however the Multinomial distribution does not currently\n",
    "        # implement overdispersion or moment matching.\n",
    "        \n",
    "        # Implicit part, and split flow. Will get much more complicated here when I include the multiple I values!\n",
    "        \n",
    "        I2D = pyro.sample(\"I2D_{}\".format(t),\n",
    "                          binomial_dist(state[\"I\"], mu / tau_i))\n",
    "        I2R = pyro.sample(\"I2R_{}\".format(t),\n",
    "                          binomial_dist(state[\"I\"] - I2D, 1 / tau_i))\n",
    "\n",
    "        # Update compartments with flows.\n",
    "        state[\"S\"] = state[\"S\"] - S2E\n",
    "        state[\"E\"] = state[\"E\"] + S2E - E2I\n",
    "        state[\"I\"] = state[\"I\"] + E2I - I2R - I2D\n",
    "        state[\"D\"] = state[\"D\"] + I2D\n",
    "\n",
    "        # Condition on observations.\n",
    "        t_is_observed = isinstance(t, slice) or t < self.duration\n",
    "        pyro.sample(\"obs_{}\".format(t),\n",
    "                    binomial_dist(S2E, rho),\n",
    "                    obs=self.data[t] if t_is_observed else None)\n",
    "\n",
    "    def compute_flows(self, prev, curr, t):\n",
    "        S2E = prev[\"S\"] - curr[\"S\"]  # S can only go to E.\n",
    "        I2D = curr[\"D\"] - prev[\"D\"]  # D can only have come from I.\n",
    "        # We deduce the remaining flows by conservation of mass:\n",
    "        #   curr - prev = inflows - outflows\n",
    "        E2I = prev[\"E\"] - curr[\"E\"] + S2E\n",
    "        I2R = prev[\"I\"] - curr[\"I\"] + E2I - I2D #implicit since there is no \"R\" compartment\n",
    "        return {\n",
    "            \"S2E_{}\".format(t): S2E,\n",
    "            \"E2I_{}\".format(t): E2I,\n",
    "            \"I2D_{}\".format(t): I2D,\n",
    "            \"I2R_{}\".format(t): I2R,\n",
    "        }"
   ]
  },
  {
   "cell_type": "markdown",
   "metadata": {},
   "source": [
    "## Generating Data\n",
    "\n",
    "What if I don't want to do this? "
   ]
  },
  {
   "cell_type": "code",
   "execution_count": null,
   "metadata": {
    "scrolled": false
   },
   "outputs": [],
   "source": [
    "population = 10000\n",
    "recovery_time = 10.\n",
    "incubation_time = 3.\n",
    "empty_data = [None] * 150\n",
    "mortality_rate = .004 \n",
    "model = SimpleSEIRDModel(population, incubation_time, recovery_time, mortality_rate, empty_data)\n",
    "\n",
    "# We'll repeatedly generate data until a desired number of infections is found.\n",
    "pyro.set_rng_seed(20200709)\n",
    "for attempt in range(100):\n",
    "    synth_data = model.generate({\"R0\": 1.5})\n",
    "    total_infections = synth_data[\"S2E\"].sum().item()\n",
    "    print(\"total exposed:\", total_infections)\n",
    "    if 400 <= total_infections <= 6000:\n",
    "        break\n",
    "print(\"Simulated {} infections after {} attempts\".format(total_infections, 1 + attempt))\n"
   ]
  },
  {
   "cell_type": "code",
   "execution_count": null,
   "metadata": {},
   "outputs": [],
   "source": []
  },
  {
   "cell_type": "markdown",
   "metadata": {},
   "source": [
    "For the model to work, it requires S, S2I, I, I2R, obs (noisy S2I), R0, and rho. \n",
    "\n",
    "\n",
    "At the moment, all of these things are synthetically generated, after we first specify R0, rho and population. \n",
    "\n",
    "For real world, I'll try this now, but we set:\n",
    "\n",
    "S2I = obs, and use reported values for the others. In essence we no longer use the noisy observations and assume whatever is reported is right? \n",
    "\n",
    "I'm not sure if the model will work if we do not specify R0 or rho, so will have to try this and find out. "
   ]
  },
  {
   "cell_type": "code",
   "execution_count": null,
   "metadata": {},
   "outputs": [],
   "source": [
    "for key, value in sorted(synth_data.items()):\n",
    "    print(\"{}.shape = {}\".format(key, tuple(value.shape)))\n",
    "    "
   ]
  },
  {
   "cell_type": "code",
   "execution_count": null,
   "metadata": {},
   "outputs": [],
   "source": []
  },
  {
   "cell_type": "code",
   "execution_count": null,
   "metadata": {},
   "outputs": [],
   "source": [
    "plt.figure(figsize=(8,4))\n",
    "for name, value in sorted(synth_data.items()):\n",
    "    if value.dim():\n",
    "        plt.plot(value, label=name)\n",
    "plt.xlim(0, len(empty_data) - 1)\n",
    "plt.ylim(0.8, None)\n",
    "plt.xlabel(\"time step\")\n",
    "plt.ylabel(\"individuals\")\n",
    "plt.yscale(\"log\")\n",
    "plt.legend(loc=\"best\")\n",
    "plt.title(\"Synthetic time series\")\n",
    "plt.tight_layout()"
   ]
  },
  {
   "cell_type": "markdown",
   "metadata": {},
   "source": [
    "## Inference"
   ]
  },
  {
   "cell_type": "code",
   "execution_count": null,
   "metadata": {},
   "outputs": [],
   "source": [
    "# what if we only have obs? can we estimate using just that? \n",
    "obs = synth_data[\"obs\"]\n",
    "model = SimpleSEI3RModel(population, incubation_time, recovery_time, mortality_rate, obs) \n"
   ]
  },
  {
   "cell_type": "code",
   "execution_count": null,
   "metadata": {},
   "outputs": [],
   "source": [
    "obs.shape"
   ]
  },
  {
   "cell_type": "code",
   "execution_count": null,
   "metadata": {},
   "outputs": [],
   "source": [
    "%%time\n",
    "losses = model.fit_svi(num_steps=101 if smoke_test else 2001,\n",
    "                       jit=True)"
   ]
  },
  {
   "cell_type": "code",
   "execution_count": null,
   "metadata": {},
   "outputs": [],
   "source": [
    "plt.figure(figsize=(8, 3))\n",
    "plt.plot(losses)\n",
    "plt.xlabel(\"SVI step\")\n",
    "plt.ylabel(\"loss\")\n",
    "plt.ylim(min(losses), max(losses[50:]));"
   ]
  },
  {
   "cell_type": "code",
   "execution_count": null,
   "metadata": {},
   "outputs": [],
   "source": [
    "for key, value in sorted(model.samples.items()):\n",
    "    print(\"{}.shape = {}\".format(key, tuple(value.shape)))"
   ]
  },
  {
   "cell_type": "code",
   "execution_count": null,
   "metadata": {},
   "outputs": [],
   "source": [
    "%%time\n",
    "samples = model.predict()"
   ]
  },
  {
   "cell_type": "code",
   "execution_count": null,
   "metadata": {},
   "outputs": [],
   "source": [
    "names = [\"R0\", \"rho\"]\n",
    "fig, axes = plt.subplots(2, 1, figsize=(5, 5))\n",
    "axes[0].set_title(\"Posterior estimates of global parameters\")\n",
    "for ax, name in zip(axes, names):\n",
    "    truth = synth_data[name]\n",
    "    sns.distplot(samples[name], ax=ax, label=\"posterior\")\n",
    "    ax.axvline(truth, color=\"k\", label=\"truth\")\n",
    "    ax.set_xlabel(name)\n",
    "    ax.set_yticks(())\n",
    "    ax.legend(loc=\"best\")\n",
    "plt.tight_layout()\n"
   ]
  },
  {
   "cell_type": "markdown",
   "metadata": {},
   "source": [
    "## MCMC"
   ]
  },
  {
   "cell_type": "code",
   "execution_count": null,
   "metadata": {},
   "outputs": [],
   "source": [
    "mcmc = model.fit_mcmc(num_samples=4 if smoke_test else 200,\n",
    "                      jit_compile=True,)"
   ]
  },
  {
   "cell_type": "markdown",
   "metadata": {},
   "source": [
    "## Prediction"
   ]
  },
  {
   "cell_type": "code",
   "execution_count": null,
   "metadata": {},
   "outputs": [],
   "source": [
    "%%time\n",
    "samples = model.predict()"
   ]
  },
  {
   "cell_type": "code",
   "execution_count": null,
   "metadata": {},
   "outputs": [],
   "source": [
    "for key, value in sorted(samples.items()):\n",
    "    print(\"{}.shape = {}\".format(key, tuple(value.shape)))"
   ]
  },
  {
   "cell_type": "code",
   "execution_count": null,
   "metadata": {},
   "outputs": [],
   "source": [
    "names = [\"R0\", \"rho\"]\n",
    "fig, axes = plt.subplots(2, 1, figsize=(5, 5))\n",
    "axes[0].set_title(\"Posterior estimates of global parameters\")\n",
    "for ax, name in zip(axes, names):\n",
    "    truth = synth_data[name]\n",
    "    sns.distplot(samples[name], ax=ax, label=\"posterior\")\n",
    "    ax.axvline(truth, color=\"k\", label=\"truth\")\n",
    "    ax.set_xlabel(name)\n",
    "    ax.set_yticks(())\n",
    "    ax.legend(loc=\"best\")\n",
    "plt.tight_layout()\n"
   ]
  },
  {
   "cell_type": "markdown",
   "metadata": {},
   "source": [
    "## Forecasting"
   ]
  },
  {
   "cell_type": "code",
   "execution_count": null,
   "metadata": {},
   "outputs": [],
   "source": [
    "%time\n",
    "samples = model.predict(forecast=30)"
   ]
  },
  {
   "cell_type": "code",
   "execution_count": null,
   "metadata": {},
   "outputs": [],
   "source": [
    "\n",
    "def plot_forecast(samples):\n",
    "    duration = len(empty_data)\n",
    "    forecast = samples[\"S\"].size(-1) - duration\n",
    "    num_samples = len(samples[\"R0\"])\n",
    "\n",
    "    time = torch.arange(duration + forecast)\n",
    "    S2E = samples[\"S2E\"]\n",
    "    median = S2E.median(dim=0).values\n",
    "    p05 = S2E.kthvalue(int(round(0.5 + 0.05 * num_samples)), dim=0).values\n",
    "    p95 = S2E.kthvalue(int(round(0.5 + 0.95 * num_samples)), dim=0).values\n",
    "\n",
    "    plt.figure(figsize=(8, 4))\n",
    "    plt.fill_between(time, p05, p95, color=\"red\", alpha=0.3, label=\"90% CI\")\n",
    "    plt.plot(time, median, \"r-\", label=\"median\")\n",
    "    plt.plot(time[:duration], obs, \"k.\", label=\"observed\")\n",
    "    plt.plot(time[:duration], synth_data[\"S2E\"], \"k--\", label=\"truth\")\n",
    "    plt.axvline(duration - 0.5, color=\"gray\", lw=1)\n",
    "    plt.xlim(0, len(time) - 1)\n",
    "    plt.ylim(0, None)\n",
    "    plt.xlabel(\"day after first infection\")\n",
    "    plt.ylabel(\"new infections per day\")\n",
    "    plt.title(\"New infections in population of {}\".format(population))\n",
    "    plt.legend(loc=\"upper left\")\n",
    "    plt.tight_layout()\n",
    "\n",
    "plot_forecast(samples)"
   ]
  },
  {
   "cell_type": "markdown",
   "metadata": {},
   "source": [
    "A suggestion of the authors is to use MCMC rather than SVI to estimate, and this will produce better results with only a little longer compute time. I will avoid doing that for the moment, because I would consider it a higher priority to figure out how to run this model with actual data, rather than manufactured. "
   ]
  },
  {
   "cell_type": "code",
   "execution_count": null,
   "metadata": {},
   "outputs": [],
   "source": [
    "synth_data"
   ]
  },
  {
   "cell_type": "code",
   "execution_count": null,
   "metadata": {},
   "outputs": [],
   "source": [
    "samples['R0'].mean()"
   ]
  },
  {
   "cell_type": "code",
   "execution_count": null,
   "metadata": {},
   "outputs": [],
   "source": []
  }
 ],
 "metadata": {
  "kernelspec": {
   "display_name": "Python 3",
   "language": "python",
   "name": "python3"
  }
 },
 "nbformat": 4,
 "nbformat_minor": 4
}
