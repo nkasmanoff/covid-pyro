{
 "cells": [
  {
   "cell_type": "markdown",
   "metadata": {},
   "source": [
    "Building on the tutorial at https://pyro.ai/examples/sir_hmc.html, the folks at Pyro created an additional interface for SIR modeling that compresses much of the info that that tutorial provided into a concrete interface for compartmental modeling. Below is that work, drawn from http://pyro.ai/examples/epi_intro.html"
   ]
  },
  {
   "cell_type": "markdown",
   "metadata": {},
   "source": [
    "This is my second notebook in this \"series\". Will again use the compartmental model, but this time for SEIR modeling. Due to difficulty in finding this data in the real world (not to mention how hard it was to model in SIR to begin with), I'll stick with synthetic data for now. Using MCMC and SVI methods to estimate epidemic parameters and see if intervention helps, and to what extent. "
   ]
  },
  {
   "cell_type": "code",
   "execution_count": 1,
   "metadata": {},
   "outputs": [],
   "source": [
    "import os\n",
    "import matplotlib.pyplot as plt\n",
    "import seaborn as sns\n",
    "import torch\n",
    "import pyro\n",
    "import pyro.distributions as dist\n",
    "from pyro.contrib.epidemiology import CompartmentalModel, binomial_dist, infection_dist\n",
    "\n",
    "%matplotlib inline\n",
    "#assert pyro.__version__.startswith('1.5.0') # I have 1.5.1, hopefully not a problem to comment this out. \n",
    "torch.set_default_dtype(torch.double)  # Required for MCMC inference.\n",
    "pyro.enable_validation(True)  # Always a good idea.\n",
    "smoke_test = ('CI' in os.environ)"
   ]
  },
  {
   "cell_type": "code",
   "execution_count": 2,
   "metadata": {},
   "outputs": [
    {
     "data": {
      "text/plain": [
       "'1.5.1'"
      ]
     },
     "execution_count": 2,
     "metadata": {},
     "output_type": "execute_result"
    }
   ],
   "source": [
    "pyro.__version__"
   ]
  },
  {
   "cell_type": "code",
   "execution_count": null,
   "metadata": {},
   "outputs": [],
   "source": [
    "# class SimpleSEI3RDModel(CompartmentalModel):\n",
    "    \"\"\"\n",
    "    Susceptible-Exposed-Infected-Recovered-Dead model.\n",
    "\n",
    "    To customize this model we recommend forking and editing this class.\n",
    "\n",
    "    This is a stochastic discrete-time discrete-state model with four\n",
    "    compartments: \"S\" for susceptible, \"E\" for exposed, \"I\" for infected, \"D\"\n",
    "    for deceased individuals, and \"R\" for recovered individuals (the recovered\n",
    "    individuals are implicit: ``R = population - S - E - I - D``) with\n",
    "    transitions ``S -> E -> I -> R`` and ``I -> D``.\n",
    "\n",
    "    Because the transitions are not simple linear succession, this model\n",
    "    implements a custom :meth:`compute_flows()` method.\n",
    "\n",
    "    :param int population: Total ``population = S + E + I + R + D``.\n",
    "    :param float incubation_time: Mean incubation time (duration in state\n",
    "        ``E``). Must be greater than 1.\n",
    "    :param float recovery_time: Mean recovery time (duration in state\n",
    "        ``I``). Must be greater than 1.\n",
    "    :param float mortality_rate: Portion of infections resulting in death.\n",
    "        Must be in the open interval ``(0, 1)``.\n",
    "    :param iterable data: Time series of new observed infections. Each time\n",
    "        step is Binomial distributed between 0 and the number of ``S -> E``\n",
    "        transitions. This allows false negative but no false positives.\n",
    "    \"\"\"\n",
    "\n",
    "    def __init__(self, population, incubation_time, recovery_time,\n",
    "                 mortality_rate, data):\n",
    "        compartments = (\"S\", \"E\", \"I1\", \"I2\", \"I3\", \"D\")  # R is implicit.\n",
    "        duration = len(data)\n",
    "        super().__init__(compartments, duration, population)\n",
    "\n",
    "        assert isinstance(incubation_time, float)\n",
    "        assert incubation_time > 1\n",
    "        self.incubation_time = incubation_time\n",
    "\n",
    "        assert isinstance(recovery_time, float)\n",
    "        assert recovery_time > 1\n",
    "        self.recovery_time = recovery_time\n",
    "\n",
    "        assert isinstance(mortality_rate, float)\n",
    "        assert 0 < mortality_rate < 1\n",
    "        self.mortality_rate = mortality_rate\n",
    "\n",
    "        self.data = data\n",
    "\n",
    "    def global_model(self):\n",
    "        tau_e = self.incubation_time\n",
    "        tau_i = self.recovery_time\n",
    "        mu = self.mortality_rate\n",
    "        R0 = pyro.sample(\"R0\", dist.LogNormal(0., 1.))\n",
    "        rho = pyro.sample(\"rho\", dist.Beta(10, 10))\n",
    "        return R0, tau_e, tau_i, mu, rho\n",
    "\n",
    "    def initialize(self, params):\n",
    "        # Start with a single infection ( at stage 1) .\n",
    "        return {\"S\": self.population - 1, \"E\": 0, \"I1\": 1, \"I2\":0, \"I3\":0, \"D\": 0}\n",
    "\n",
    "    def transition(self, params, state, t):\n",
    "        R0, tau_e, tau_i, mu, rho = params # add the other ones from paper\n",
    "\n",
    "        # Sample flows between compartments.\n",
    "        S2E = pyro.sample(\"S2E_{}\".format(t),\n",
    "                          infection_dist(individual_rate=R0 / tau_i,\n",
    "                                         num_susceptible=state[\"S\"],\n",
    "                                         num_infectious=state[\"I\"],\n",
    "                                         population=self.population))\n",
    "        \n",
    "        E2I1 = pyro.sample(\"E2I1_{}\".format(t),\n",
    "                          binomial_dist(state[\"E\"], 1 / tau_e))\n",
    "        \n",
    "        I12I2 = pyro.sample(\"I12I2_{}\".format(t),\n",
    "                          binomial_dist(state[\"I1\"], p1))\n",
    "        \n",
    "        I12R = pyro.sample(\"I12R_{}\".format(t),\n",
    "                          binomial_dist(state[\"I1\"], gamma1))\n",
    "       \n",
    "        I22I3 = pyro.sample(\"I22I3_{}\".format(t),\n",
    "                          binomial_dist(state[\"I2\"], p2))\n",
    "        \n",
    "        I22R = pyro.sample(\"I22R_{}\".format(t),\n",
    "                          binomial_dist(state[\"I2\"], gamma2))\n",
    "        \n",
    "        \n",
    "        I32R = pyro.sample(\"I22R_{}\".format(t),\n",
    "                          binomial_dist(state[\"I3\"], gamma3))\n",
    "        \n",
    "        I32D = pyro.sample(\"I32D_{}\".format(t),\n",
    "                          binomial_dist(state[\"I3\"], kappa))\n",
    "        \n",
    "        \n",
    "        # Of the 1/tau_i expected recoveries-or-deaths, a portion mu die and\n",
    "        # the remaining recover. Alternatively we could model this with a\n",
    "        # Multinomial distribution I2_ and extract the two components I2D and\n",
    "        # I2R, however the Multinomial distribution does not currently\n",
    "        # implement overdispersion or moment matching.\n",
    "        \n",
    "\n",
    "        \n",
    "        state[\"S\"] = state[\"S\"] - S2E\n",
    "        state[\"E\"] = state[\"E\"] + S2E - E2I1\n",
    "        state[\"I1\"] = state[\"I1\"] + E2I1 - I12R - I2I2\n",
    "        state[\"I2\"] = state[\"I2\"] + I12I2 - I22R - I22I3\n",
    "        state[\"I3\"] = state[\"I3\"] + I22I3 - I32R - I32D\n",
    "\n",
    "        state[\"D\"] = state[\"D\"] + I32D\n",
    "        \n",
    "        \n",
    "        \n",
    "        \n",
    "\n",
    "        # Condition on observations.\n",
    "        t_is_observed = isinstance(t, slice) or t < self.duration\n",
    "        pyro.sample(\"obs_{}\".format(t),\n",
    "                    binomial_dist(S2E, rho),\n",
    "                    obs=self.data[t] if t_is_observed else None)\n",
    "\n",
    "    def compute_flows(self, prev, curr, t):\n",
    "        S2E = prev[\"S\"] - curr[\"S\"]  # S can only go to E.\n",
    "        I32D = curr[\"D\"] - prev[\"D\"]  # D can only have come from I3. \n",
    "        \n",
    "        \n",
    "        # We deduce the remaining flows by conservation of mass:\n",
    "        #   curr - prev = inflows - outflows\n",
    "        E2I1 = prev[\"E\"] - curr[\"E\"] + S2E\n",
    "        I12R = prev[\"I1\"] - curr[\"I1\"] + E2I1 - I12D\n",
    "        \n",
    "\n",
    "        \n",
    "        \n",
    "        \n",
    "        return {\n",
    "            \"S2E_{}\".format(t): S2E,\n",
    "            \"E2I_{}\".format(t): E2I,\n",
    "            \"I2D_{}\".format(t): I2D,\n",
    "            \"I2R_{}\".format(t): I2R,\n",
    "        }\n",
    "\n"
   ]
  },
  {
   "cell_type": "code",
   "execution_count": 3,
   "metadata": {},
   "outputs": [],
   "source": [
    "class SimpleSEIRDModel(CompartmentalModel):\n",
    "    \"\"\"\n",
    "    Susceptible-Exposed-Infected-Recovered-Dead model.\n",
    "\n",
    "    To customize this model we recommend forking and editing this class.\n",
    "\n",
    "    This is a stochastic discrete-time discrete-state model with four\n",
    "    compartments: \"S\" for susceptible, \"E\" for exposed, \"I\" for infected, \"D\"\n",
    "    for deceased individuals, and \"R\" for recovered individuals (the recovered\n",
    "    individuals are implicit: ``R = population - S - E - I - D``) with\n",
    "    transitions ``S -> E -> I -> R`` and ``I -> D``.\n",
    "\n",
    "    Because the transitions are not simple linear succession, this model\n",
    "    implements a custom :meth:`compute_flows()` method.\n",
    "\n",
    "    :param int population: Total ``population = S + E + I + R + D``.\n",
    "    :param float incubation_time: Mean incubation time (duration in state\n",
    "        ``E``). Must be greater than 1.\n",
    "    :param float recovery_time: Mean recovery time (duration in state\n",
    "        ``I``). Must be greater than 1.\n",
    "    :param float mortality_rate: Portion of infections resulting in death.\n",
    "        Must be in the open interval ``(0, 1)``.\n",
    "    :param iterable data: Time series of new observed infections. Each time\n",
    "        step is Binomial distributed between 0 and the number of ``S -> E``\n",
    "        transitions. This allows false negative but no false positives.\n",
    "    \"\"\"\n",
    "\n",
    "    def __init__(self, population, incubation_time, recovery_time,\n",
    "                 mortality_rate, data):\n",
    "        compartments = (\"S\", \"E\", \"I\", \"D\")  # R is implicit.\n",
    "        duration = len(data)\n",
    "        super().__init__(compartments, duration, population)\n",
    "\n",
    "        assert isinstance(incubation_time, float)\n",
    "        assert incubation_time > 1\n",
    "        self.incubation_time = incubation_time\n",
    "\n",
    "        assert isinstance(recovery_time, float)\n",
    "        assert recovery_time > 1\n",
    "        self.recovery_time = recovery_time\n",
    "\n",
    "        assert isinstance(mortality_rate, float)\n",
    "        assert 0 < mortality_rate < 1\n",
    "        self.mortality_rate = mortality_rate\n",
    "\n",
    "        self.data = data\n",
    "\n",
    "    def global_model(self):\n",
    "        tau_e = self.incubation_time\n",
    "        tau_i = self.recovery_time\n",
    "        mu = self.mortality_rate\n",
    "        R0 = pyro.sample(\"R0\", dist.LogNormal(0., 1.))\n",
    "        rho = pyro.sample(\"rho\", dist.Beta(10, 10))\n",
    "        return R0, tau_e, tau_i, mu, rho\n",
    "\n",
    "    def initialize(self, params):\n",
    "        # Start with a single infection.\n",
    "        return {\"S\": self.population - 1, \"E\": 0, \"I\": 1, \"D\": 0}\n",
    "\n",
    "    def transition(self, params, state, t):\n",
    "        R0, tau_e, tau_i, mu, rho = params\n",
    "\n",
    "        # Sample flows between compartments.\n",
    "        S2E = pyro.sample(\"S2E_{}\".format(t),\n",
    "                          infection_dist(individual_rate=R0 / tau_i,\n",
    "                                         num_susceptible=state[\"S\"],\n",
    "                                         num_infectious=state[\"I\"],\n",
    "                                         population=self.population))\n",
    "        E2I = pyro.sample(\"E2I_{}\".format(t),\n",
    "                          binomial_dist(state[\"E\"], 1 / tau_e))\n",
    "        # Of the 1/tau_i expected recoveries-or-deaths, a portion mu die and\n",
    "        # the remaining recover. Alternatively we could model this with a\n",
    "        # Multinomial distribution I2_ and extract the two components I2D and\n",
    "        # I2R, however the Multinomial distribution does not currently\n",
    "        # implement overdispersion or moment matching.\n",
    "        \n",
    "        # Implicit part, and split flow. Will get much more complicated here when I include the multiple I values!\n",
    "        \n",
    "        I2D = pyro.sample(\"I2D_{}\".format(t),\n",
    "                          binomial_dist(state[\"I\"], mu / tau_i))\n",
    "        I2R = pyro.sample(\"I2R_{}\".format(t),\n",
    "                          binomial_dist(state[\"I\"] - I2D, 1 / tau_i))\n",
    "\n",
    "        # Update compartments with flows.\n",
    "        state[\"S\"] = state[\"S\"] - S2E\n",
    "        state[\"E\"] = state[\"E\"] + S2E - E2I\n",
    "        state[\"I\"] = state[\"I\"] + E2I - I2R - I2D\n",
    "        state[\"D\"] = state[\"D\"] + I2D\n",
    "\n",
    "        # Condition on observations.\n",
    "        t_is_observed = isinstance(t, slice) or t < self.duration\n",
    "        pyro.sample(\"obs_{}\".format(t),\n",
    "                    binomial_dist(S2E, rho),\n",
    "                    obs=self.data[t] if t_is_observed else None)\n",
    "\n",
    "    def compute_flows(self, prev, curr, t):\n",
    "        S2E = prev[\"S\"] - curr[\"S\"]  # S can only go to E.\n",
    "        I2D = curr[\"D\"] - prev[\"D\"]  # D can only have come from I.\n",
    "        # We deduce the remaining flows by conservation of mass:\n",
    "        #   curr - prev = inflows - outflows\n",
    "        E2I = prev[\"E\"] - curr[\"E\"] + S2E\n",
    "        I2R = prev[\"I\"] - curr[\"I\"] + E2I - I2D\n",
    "        return {\n",
    "            \"S2E_{}\".format(t): S2E,\n",
    "            \"E2I_{}\".format(t): E2I,\n",
    "            \"I2D_{}\".format(t): I2D,\n",
    "            \"I2R_{}\".format(t): I2R,\n",
    "        }"
   ]
  },
  {
   "cell_type": "markdown",
   "metadata": {},
   "source": [
    "## Generating Data\n",
    "\n",
    "What if I don't want to do this? "
   ]
  },
  {
   "cell_type": "code",
   "execution_count": 4,
   "metadata": {},
   "outputs": [
    {
     "name": "stdout",
     "output_type": "stream",
     "text": [
      "Simulated 50.0 infections after 100 attempts\n"
     ]
    }
   ],
   "source": [
    "population = 10000\n",
    "recovery_time = 10.\n",
    "incubation_time = 14.\n",
    "empty_data = [None] * 150\n",
    "mortality_rate = .004 \n",
    "model = SimpleSEIRDModel(population, incubation_time, recovery_time, mortality_rate, empty_data)\n",
    "\n",
    "# We'll repeatedly generate data until a desired number of infections is found.\n",
    "pyro.set_rng_seed(20200709)\n",
    "for attempt in range(100):\n",
    "    synth_data = model.generate({\"R0\": 1.2})\n",
    "    total_infections = synth_data[\"S2E\"].sum().item()\n",
    "    if 400 <= total_infections <= 6000:\n",
    "        break\n",
    "print(\"Simulated {} infections after {} attempts\".format(total_infections, 1 + attempt))\n"
   ]
  },
  {
   "cell_type": "code",
   "execution_count": null,
   "metadata": {},
   "outputs": [],
   "source": []
  },
  {
   "cell_type": "markdown",
   "metadata": {},
   "source": [
    "For the model to work, it requires S, S2I, I, I2R, obs (noisy S2I), R0, and rho. \n",
    "\n",
    "\n",
    "At the moment, all of these things are synthetically generated, after we first specify R0, rho and population. \n",
    "\n",
    "For real world, I'll try this now, but we set:\n",
    "\n",
    "S2I = obs, and use reported values for the others. In essence we no longer use the noisy observations and assume whatever is reported is right? \n",
    "\n",
    "I'm not sure if the model will work if we do not specify R0 or rho, so will have to try this and find out. "
   ]
  },
  {
   "cell_type": "code",
   "execution_count": 5,
   "metadata": {},
   "outputs": [
    {
     "name": "stdout",
     "output_type": "stream",
     "text": [
      "D.shape = (150,)\n",
      "E.shape = (150,)\n",
      "E2I.shape = (150,)\n",
      "I.shape = (150,)\n",
      "I2D.shape = (150,)\n",
      "I2R.shape = (150,)\n",
      "R0.shape = ()\n",
      "S.shape = (150,)\n",
      "S2E.shape = (150,)\n",
      "obs.shape = (150,)\n",
      "rho.shape = ()\n"
     ]
    }
   ],
   "source": [
    "for key, value in sorted(synth_data.items()):\n",
    "    print(\"{}.shape = {}\".format(key, tuple(value.shape)))\n",
    "    "
   ]
  },
  {
   "cell_type": "code",
   "execution_count": null,
   "metadata": {},
   "outputs": [],
   "source": []
  },
  {
   "cell_type": "code",
   "execution_count": 6,
   "metadata": {},
   "outputs": [
    {
     "data": {
      "image/png": "[encoded data removed]",
      "text/plain": [
       "<Figure size 576x288 with 1 Axes>"
      ]
     },
     "metadata": {
      "needs_background": "light"
     },
     "output_type": "display_data"
    }
   ],
   "source": [
    "plt.figure(figsize=(8,4))\n",
    "for name, value in sorted(synth_data.items()):\n",
    "    if value.dim():\n",
    "        plt.plot(value, label=name)\n",
    "plt.xlim(0, len(empty_data) - 1)\n",
    "plt.ylim(0.8, None)\n",
    "plt.xlabel(\"time step\")\n",
    "plt.ylabel(\"individuals\")\n",
    "plt.yscale(\"log\")\n",
    "plt.legend(loc=\"best\")\n",
    "plt.title(\"Synthetic time series\")\n",
    "plt.tight_layout()"
   ]
  },
  {
   "cell_type": "markdown",
   "metadata": {},
   "source": [
    "## Inference"
   ]
  },
  {
   "cell_type": "code",
   "execution_count": 7,
   "metadata": {},
   "outputs": [],
   "source": [
    "# what if we only have obs? can we estimate using just that? \n",
    "obs = synth_data[\"obs\"]\n",
    "model = SimpleSEIRDModel(population, incubation_time, recovery_time, mortality_rate, obs) \n"
   ]
  },
  {
   "cell_type": "code",
   "execution_count": 8,
   "metadata": {},
   "outputs": [
    {
     "data": {
      "text/plain": [
       "torch.Size([150])"
      ]
     },
     "execution_count": 8,
     "metadata": {},
     "output_type": "execute_result"
    }
   ],
   "source": [
    "obs.shape"
   ]
  },
  {
   "cell_type": "code",
   "execution_count": 9,
   "metadata": {},
   "outputs": [
    {
     "name": "stderr",
     "output_type": "stream",
     "text": [
      "INFO \t Heuristic init: R0=1.41, rho=0.503\n",
      "INFO \t Running inference...\n",
      "/home/nsk367/anaconda3/envs/pyro/lib/python3.8/site-packages/torch/autograd/__init__.py:130: UserWarning: CUDA initialization: Found no NVIDIA driver on your system. Please check that you have an NVIDIA GPU and installed a driver from http://www.nvidia.com/Download/index.aspx (Triggered internally at  /pytorch/c10/cuda/CUDAFunctions.cpp:100.)\n",
      "  Variable._execution_engine.run_backward(\n",
      "INFO \t step 0 loss = 10.32\n",
      "INFO \t step 200 loss = 2.877\n",
      "INFO \t step 400 loss = 2.567\n",
      "INFO \t step 600 loss = 2.464\n",
      "INFO \t step 800 loss = 2.363\n",
      "INFO \t step 1000 loss = 2.316\n",
      "INFO \t step 1200 loss = 2.269\n",
      "INFO \t step 1400 loss = 2.238\n",
      "INFO \t step 1600 loss = 2.241\n",
      "INFO \t step 1800 loss = 2.17\n",
      "INFO \t step 2000 loss = 2.145\n",
      "INFO \t SVI took 29.9 seconds, 66.9 step/sec\n"
     ]
    },
    {
     "name": "stdout",
     "output_type": "stream",
     "text": [
      "CPU times: user 32.1 s, sys: 47.1 ms, total: 32.1 s\n",
      "Wall time: 32.2 s\n"
     ]
    }
   ],
   "source": [
    "%%time\n",
    "losses = model.fit_svi(num_steps=101 if smoke_test else 2001,\n",
    "                       jit=True)"
   ]
  },
  {
   "cell_type": "code",
   "execution_count": 10,
   "metadata": {},
   "outputs": [
    {
     "data": {
      "image/png": "[encoded data removed]",
      "text/plain": [
       "<Figure size 576x216 with 1 Axes>"
      ]
     },
     "metadata": {
      "needs_background": "light"
     },
     "output_type": "display_data"
    }
   ],
   "source": [
    "plt.figure(figsize=(8, 3))\n",
    "plt.plot(losses)\n",
    "plt.xlabel(\"SVI step\")\n",
    "plt.ylabel(\"loss\")\n",
    "plt.ylim(min(losses), max(losses[50:]));"
   ]
  },
  {
   "cell_type": "code",
   "execution_count": 11,
   "metadata": {},
   "outputs": [
    {
     "name": "stdout",
     "output_type": "stream",
     "text": [
      "R0.shape = (100, 1)\n",
      "auxiliary.shape = (100, 1, 4, 150)\n",
      "rho.shape = (100, 1)\n"
     ]
    }
   ],
   "source": [
    "for key, value in sorted(model.samples.items()):\n",
    "    print(\"{}.shape = {}\".format(key, tuple(value.shape)))"
   ]
  },
  {
   "cell_type": "code",
   "execution_count": 12,
   "metadata": {},
   "outputs": [
    {
     "name": "stderr",
     "output_type": "stream",
     "text": [
      "INFO \t Predicting latent variables for 150 time steps...\n"
     ]
    },
    {
     "name": "stdout",
     "output_type": "stream",
     "text": [
      "CPU times: user 464 ms, sys: 6 ms, total: 470 ms\n",
      "Wall time: 472 ms\n"
     ]
    }
   ],
   "source": [
    "%%time\n",
    "samples = model.predict()"
   ]
  },
  {
   "cell_type": "code",
   "execution_count": 13,
   "metadata": {},
   "outputs": [
    {
     "name": "stderr",
     "output_type": "stream",
     "text": [
      "/home/nsk367/anaconda3/envs/pyro/lib/python3.8/site-packages/seaborn/distributions.py:2551: FutureWarning: `distplot` is a deprecated function and will be removed in a future version. Please adapt your code to use either `displot` (a figure-level function with similar flexibility) or `histplot` (an axes-level function for histograms).\n",
      "  warnings.warn(msg, FutureWarning)\n",
      "/home/nsk367/anaconda3/envs/pyro/lib/python3.8/site-packages/seaborn/distributions.py:2551: FutureWarning: `distplot` is a deprecated function and will be removed in a future version. Please adapt your code to use either `displot` (a figure-level function with similar flexibility) or `histplot` (an axes-level function for histograms).\n",
      "  warnings.warn(msg, FutureWarning)\n"
     ]
    },
    {
     "data": {
      "image/png": "[encoded data removed]",
      "text/plain": [
       "<Figure size 360x360 with 2 Axes>"
      ]
     },
     "metadata": {
      "needs_background": "light"
     },
     "output_type": "display_data"
    }
   ],
   "source": [
    "names = [\"R0\", \"rho\"]\n",
    "fig, axes = plt.subplots(2, 1, figsize=(5, 5))\n",
    "axes[0].set_title(\"Posterior estimates of global parameters\")\n",
    "for ax, name in zip(axes, names):\n",
    "    truth = synth_data[name]\n",
    "    sns.distplot(samples[name], ax=ax, label=\"posterior\")\n",
    "    ax.axvline(truth, color=\"k\", label=\"truth\")\n",
    "    ax.set_xlabel(name)\n",
    "    ax.set_yticks(())\n",
    "    ax.legend(loc=\"best\")\n",
    "plt.tight_layout()\n"
   ]
  },
  {
   "cell_type": "markdown",
   "metadata": {},
   "source": [
    "## MCMC"
   ]
  },
  {
   "cell_type": "code",
   "execution_count": 14,
   "metadata": {},
   "outputs": [
    {
     "name": "stderr",
     "output_type": "stream",
     "text": [
      "INFO \t Running inference...\n",
      "Warmup:   0%|          | 0/400 [00:00, ?it/s]INFO \t Heuristic init: R0=2.51, rho=0.575\n",
      "Sample: 100%|██████████| 400/400 [00:52,  7.61it/s, step size=2.13e-02, acc. prob=0.844]\n"
     ]
    }
   ],
   "source": [
    "mcmc = model.fit_mcmc(num_samples=4 if smoke_test else 200,\n",
    "                      jit_compile=True,)"
   ]
  },
  {
   "cell_type": "markdown",
   "metadata": {},
   "source": [
    "## Prediction"
   ]
  },
  {
   "cell_type": "code",
   "execution_count": 15,
   "metadata": {},
   "outputs": [
    {
     "name": "stderr",
     "output_type": "stream",
     "text": [
      "INFO \t Predicting latent variables for 150 time steps...\n"
     ]
    },
    {
     "name": "stdout",
     "output_type": "stream",
     "text": [
      "CPU times: user 473 ms, sys: 7.99 ms, total: 481 ms\n",
      "Wall time: 485 ms\n"
     ]
    }
   ],
   "source": [
    "%%time\n",
    "samples = model.predict()"
   ]
  },
  {
   "cell_type": "code",
   "execution_count": 16,
   "metadata": {},
   "outputs": [
    {
     "name": "stdout",
     "output_type": "stream",
     "text": [
      "D.shape = (200, 150)\n",
      "E.shape = (200, 150)\n",
      "E2I.shape = (200, 150)\n",
      "I.shape = (200, 150)\n",
      "I2D.shape = (200, 150)\n",
      "I2R.shape = (200, 150)\n",
      "R0.shape = (200, 1)\n",
      "S.shape = (200, 150)\n",
      "S2E.shape = (200, 150)\n",
      "auxiliary.shape = (200, 1, 4, 150)\n",
      "obs.shape = (200, 150)\n",
      "rho.shape = (200, 1)\n"
     ]
    }
   ],
   "source": [
    "for key, value in sorted(samples.items()):\n",
    "    print(\"{}.shape = {}\".format(key, tuple(value.shape)))"
   ]
  },
  {
   "cell_type": "code",
   "execution_count": 17,
   "metadata": {},
   "outputs": [
    {
     "name": "stderr",
     "output_type": "stream",
     "text": [
      "/home/nsk367/anaconda3/envs/pyro/lib/python3.8/site-packages/seaborn/distributions.py:2551: FutureWarning: `distplot` is a deprecated function and will be removed in a future version. Please adapt your code to use either `displot` (a figure-level function with similar flexibility) or `histplot` (an axes-level function for histograms).\n",
      "  warnings.warn(msg, FutureWarning)\n",
      "/home/nsk367/anaconda3/envs/pyro/lib/python3.8/site-packages/seaborn/distributions.py:2551: FutureWarning: `distplot` is a deprecated function and will be removed in a future version. Please adapt your code to use either `displot` (a figure-level function with similar flexibility) or `histplot` (an axes-level function for histograms).\n",
      "  warnings.warn(msg, FutureWarning)\n"
     ]
    },
    {
     "data": {
      "image/png": "[encoded data removed]",
      "text/plain": [
       "<Figure size 360x360 with 2 Axes>"
      ]
     },
     "metadata": {
      "needs_background": "light"
     },
     "output_type": "display_data"
    }
   ],
   "source": [
    "names = [\"R0\", \"rho\"]\n",
    "fig, axes = plt.subplots(2, 1, figsize=(5, 5))\n",
    "axes[0].set_title(\"Posterior estimates of global parameters\")\n",
    "for ax, name in zip(axes, names):\n",
    "    truth = synth_data[name]\n",
    "    sns.distplot(samples[name], ax=ax, label=\"posterior\")\n",
    "    ax.axvline(truth, color=\"k\", label=\"truth\")\n",
    "    ax.set_xlabel(name)\n",
    "    ax.set_yticks(())\n",
    "    ax.legend(loc=\"best\")\n",
    "plt.tight_layout()\n"
   ]
  },
  {
   "cell_type": "markdown",
   "metadata": {},
   "source": [
    "## Forecasting"
   ]
  },
  {
   "cell_type": "code",
   "execution_count": 18,
   "metadata": {},
   "outputs": [
    {
     "name": "stderr",
     "output_type": "stream",
     "text": [
      "INFO \t Predicting latent variables for 150 time steps...\n"
     ]
    },
    {
     "name": "stdout",
     "output_type": "stream",
     "text": [
      "CPU times: user 2 µs, sys: 0 ns, total: 2 µs\n",
      "Wall time: 4.77 µs\n"
     ]
    },
    {
     "name": "stderr",
     "output_type": "stream",
     "text": [
      "INFO \t Forecasting 30 steps ahead...\n"
     ]
    }
   ],
   "source": [
    "%time\n",
    "samples = model.predict(forecast=30)"
   ]
  },
  {
   "cell_type": "code",
   "execution_count": 19,
   "metadata": {},
   "outputs": [
    {
     "data": {
      "image/png": "[encoded data removed]",
      "text/plain": [
       "<Figure size 576x288 with 1 Axes>"
      ]
     },
     "metadata": {
      "needs_background": "light"
     },
     "output_type": "display_data"
    }
   ],
   "source": [
    "\n",
    "def plot_forecast(samples):\n",
    "    duration = len(empty_data)\n",
    "    forecast = samples[\"S\"].size(-1) - duration\n",
    "    num_samples = len(samples[\"R0\"])\n",
    "\n",
    "    time = torch.arange(duration + forecast)\n",
    "    S2E = samples[\"S2E\"]\n",
    "    median = S2E.median(dim=0).values\n",
    "    p05 = S2E.kthvalue(int(round(0.5 + 0.05 * num_samples)), dim=0).values\n",
    "    p95 = S2E.kthvalue(int(round(0.5 + 0.95 * num_samples)), dim=0).values\n",
    "\n",
    "    plt.figure(figsize=(8, 4))\n",
    "    plt.fill_between(time, p05, p95, color=\"red\", alpha=0.3, label=\"90% CI\")\n",
    "    plt.plot(time, median, \"r-\", label=\"median\")\n",
    "    plt.plot(time[:duration], obs, \"k.\", label=\"observed\")\n",
    "    plt.plot(time[:duration], synth_data[\"S2E\"], \"k--\", label=\"truth\")\n",
    "    plt.axvline(duration - 0.5, color=\"gray\", lw=1)\n",
    "    plt.xlim(0, len(time) - 1)\n",
    "    plt.ylim(0, None)\n",
    "    plt.xlabel(\"day after first infection\")\n",
    "    plt.ylabel(\"new infections per day\")\n",
    "    plt.title(\"New infections in population of {}\".format(population))\n",
    "    plt.legend(loc=\"upper left\")\n",
    "    plt.tight_layout()\n",
    "\n",
    "plot_forecast(samples)"
   ]
  },
  {
   "cell_type": "markdown",
   "metadata": {},
   "source": [
    "A suggestion of the authors is to use MCMC rather than SVI to estimate, and this will produce better results with only a little longer compute time. I will avoid doing that for the moment, because I would consider it a higher priority to figure out how to run this model with actual data, rather than manufactured. "
   ]
  },
  {
   "cell_type": "code",
   "execution_count": null,
   "metadata": {},
   "outputs": [],
   "source": [
    "synth_data"
   ]
  },
  {
   "cell_type": "code",
   "execution_count": null,
   "metadata": {},
   "outputs": [],
   "source": [
    "samples['R0'].mean()"
   ]
  },
  {
   "cell_type": "code",
   "execution_count": null,
   "metadata": {},
   "outputs": [],
   "source": []
  }
 ],
 "metadata": {
  "kernelspec": {
   "display_name": "Python 3",
   "language": "python",
   "name": "python3"
  },
  "language_info": {
   "codemirror_mode": {
    "name": "ipython",
    "version": 3
   },
   "file_extension": ".py",
   "mimetype": "text/x-python",
   "name": "python",
   "nbconvert_exporter": "python",
   "pygments_lexer": "ipython3",
   "version": "3.8.5"
  }
 },
 "nbformat": 4,
 "nbformat_minor": 4
}
