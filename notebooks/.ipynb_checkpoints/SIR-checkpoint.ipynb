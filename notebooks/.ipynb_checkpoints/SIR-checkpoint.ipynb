{
 "cells": [
  {
   "cell_type": "markdown",
   "metadata": {},
   "source": [
    "# Compartmental Models"
   ]
  },
  {
   "cell_type": "code",
   "execution_count": 3,
   "metadata": {},
   "outputs": [],
   "source": [
    "# Adapted from https://pyro.ai/examples/sir_hmc.html by Swapneel and Noah"
   ]
  },
  {
   "cell_type": "code",
   "execution_count": 4,
   "metadata": {},
   "outputs": [],
   "source": [
    "import argparse\n",
    "import logging\n",
    "import math\n",
    "import re\n",
    "from collections import OrderedDict\n",
    "\n",
    "import torch\n",
    "from torch import distributions as tdist\n",
    "from pyro import distributions as dist\n",
    "\n",
    "from matplotlib import pyplot as plt\n",
    "import seaborn as sns\n",
    "import logging\n",
    "\n",
    "import pyro.distributions as dist\n",
    "import pyro.distributions.hmm\n",
    "import pyro.poutine as poutine\n",
    "from pyro.infer import MCMC, NUTS, config_enumerate, infer_discrete\n",
    "from pyro.infer.autoguide import init_to_value\n",
    "from pyro.ops.special import safe_log\n",
    "from pyro.ops.tensor_utils import convolve\n",
    "from pyro.util import warn_if_nan\n",
    "\n",
    "logging.basicConfig(format='%(message)s', level=logging.INFO)\n"
   ]
  },
  {
   "cell_type": "markdown",
   "metadata": {},
   "source": [
    "# still can't figure out exactly what $\\rho$ represents in the global population parameters for COVID-19\n",
    "# we noisily observe the number of people *newly infected* at each time step, \n",
    "# assuming an unknown false negative rate but NO FALSE POSITIVES (implying the COVID test cares about Type II errors over Type I)!\n",
    "# $\\rho$ is then the mean response rate which is 1 - false negative rate\n",
    "\n",
    "# $\\rho$ is used as a parameter when sampling from the extended binomial such that a person goes from Susceptible \n",
    "# to Infected with a probability \\rho so that means 1 - $\\rho$ is the probability that a Susceptible person is \n",
    "# not actually infected which makes sense as that equals the false negative rate when testing a random sample of the population\n",
    "# at any given time step.\n",
    "# Ok I think I understand rho better now!"
   ]
  },
  {
   "cell_type": "markdown",
   "metadata": {},
   "source": [
    "### 1. The Priors we place on R0 and $\\rho$"
   ]
  },
  {
   "cell_type": "code",
   "execution_count": 32,
   "metadata": {},
   "outputs": [
    {
     "data": {
      "image/png": "[encoded data removed]",
      "text/plain": [
       "<Figure size 1296x432 with 2 Axes>"
      ]
     },
     "metadata": {
      "needs_background": "light"
     },
     "output_type": "display_data"
    }
   ],
   "source": [
    "fig, ax = plt.subplots(1, 2, figsize=(18, 6))\n",
    "\n",
    "r0_dist = tdist.LogNormal(0., 1.)\n",
    "r0_samples = r0_dist.sample(torch.Size([10000]))\n",
    "sns.histplot(r0_samples, ax=ax[0])\n",
    "ax[0].set_xlabel('R0 (reproduction number)')\n",
    "ax[0].set_title('Prior on R0 (reproduction number)')\n",
    "\n",
    "\n",
    "plt.show()"
   ]
  },
  {
   "cell_type": "code",
   "execution_count": 8,
   "metadata": {},
   "outputs": [],
   "source": [
    "def global_model(population):\n",
    "    tau = args.recovery_time  # Assume this can be measured exactly.\n",
    "    R0 = pyro.sample(\"R0\", dist.LogNormal(0., 1.))\n",
    "    rho = pyro.sample(\"rho\", dist.Uniform(0, 1))\n",
    "\n",
    "    # Convert interpretable parameters to distribution parameters.\n",
    "    rate_s = -R0 / (tau * population)\n",
    "    prob_i = 1 / (1 + tau)\n",
    "\n",
    "    return rate_s, prob_i, rho\n",
    "\n",
    "\n",
    "def discrete_model(args, data):\n",
    "    # Sample global parameters.\n",
    "    rate_s, prob_i, rho = global_model(args.population)\n",
    "\n",
    "    # Sequentially sample time-local variables.\n",
    "    S = torch.tensor(args.population - 1.)\n",
    "    I = torch.tensor(1.)\n",
    "    for t, datum in enumerate(data):\n",
    "        S2I = pyro.sample(\"S2I_{}\".format(t),\n",
    "                          dist.Binomial(S, -(rate_s * I).expm1()))\n",
    "        I2R = pyro.sample(\"I2R_{}\".format(t),\n",
    "                          dist.Binomial(I, prob_i))\n",
    "        S = pyro.deterministic(\"S_{}\".format(t), S - S2I)\n",
    "        I = pyro.deterministic(\"I_{}\".format(t), I + S2I - I2R)\n",
    "        pyro.sample(\"obs_{}\".format(t),\n",
    "                    dist.ExtendedBinomial(S2I, rho),\n",
    "                    obs=datum)"
   ]
  },
  {
   "cell_type": "code",
   "execution_count": 11,
   "metadata": {},
   "outputs": [],
   "source": [
    "# We can use this model to simulate data. We'll use poutine.condition to pin\n",
    "# parameter values and poutine.trace to record sample observations.\n",
    "\n",
    "def generate_data(args):\n",
    "    logging.info(\"Generating data...\")\n",
    "    params = {\"R0\": torch.tensor(args.basic_reproduction_number),\n",
    "              \"rho\": torch.tensor(args.response_rate)}\n",
    "    empty_data = [None] * (args.duration + args.forecast)\n",
    "\n",
    "    # We'll retry until we get an actual outbreak.\n",
    "    for attempt in range(100):\n",
    "        with poutine.trace() as tr:\n",
    "            with poutine.condition(data=params):\n",
    "                discrete_model(args, empty_data)\n",
    "\n",
    "        # Concatenate sequential time series into tensors.\n",
    "        obs = torch.stack([site[\"value\"]\n",
    "                           for name, site in tr.trace.nodes.items()\n",
    "                           if re.match(\"obs_[0-9]+\", name)])\n",
    "        S2I = torch.stack([site[\"value\"]\n",
    "                          for name, site in tr.trace.nodes.items()\n",
    "                          if re.match(\"S2I_[0-9]+\", name)])\n",
    "        assert len(obs) == len(empty_data)\n",
    "\n",
    "        obs_sum = int(obs[:args.duration].sum())\n",
    "        S2I_sum = int(S2I[:args.duration].sum())\n",
    "        if obs_sum >= args.min_observations:\n",
    "            logging.info(\"Observed {:d}/{:d} infections:\\n{}\".format(\n",
    "                obs_sum, S2I_sum, \" \".join([str(int(x)) for x in obs[:args.duration]])))\n",
    "            return {\"S2I\": S2I, \"obs\": obs}\n",
    "\n",
    "    raise ValueError(\"Failed to generate {} observations. Try increasing \"\n",
    "                     \"--population or decreasing --min-observations\"\n",
    "                     .format(args.min_observations))\n",
    "\n"
   ]
  },
  {
   "cell_type": "code",
   "execution_count": 18,
   "metadata": {},
   "outputs": [],
   "source": [
    "from argparse import Namespace\n",
    "args = Namespace(population=100, \n",
    "                 min_observations=3, \n",
    "                 duration=10, \n",
    "                 forecast=0, \n",
    "                 basic_reproduction_number=1.5, \n",
    "                 recovery_time=7.0, \n",
    "                 response_rate=0.5, \n",
    "                 enum=True, \n",
    "                 sequential=True, \n",
    "                 num_samples=200, \n",
    "                 warmup_steps=100, \n",
    "                 max_tree_depth=5, \n",
    "                 rng_seed=0, \n",
    "                 double=True, \n",
    "                 jit=True, \n",
    "                 cuda=True, \n",
    "                 verbose=True, \n",
    "                 plot=True)"
   ]
  },
  {
   "cell_type": "code",
   "execution_count": 34,
   "metadata": {},
   "outputs": [
    {
     "data": {
      "text/plain": [
       "{'S2I': tensor([0., 0., 0., 1., 1., 0., 0., 1., 2., 2.]),\n",
       " 'obs': tensor([0., 0., 0., 1., 1., 0., 0., 1., 0., 2.])}"
      ]
     },
     "execution_count": 34,
     "metadata": {},
     "output_type": "execute_result"
    }
   ],
   "source": [
    "x = generate_data(args)\n",
    "x"
   ]
  },
  {
   "cell_type": "code",
   "execution_count": null,
   "metadata": {},
   "outputs": [],
   "source": [
    "# Inference\n",
    "# =========\n",
    "#\n",
    "# While the above discrete_model is easy to understand, its discrete latent\n",
    "# variables pose a challenge for inference. One of the most popular inference\n",
    "# strategies for such models is Sequential Monte Carlo. However since Pyro and\n",
    "# PyTorch are stronger in gradient based vectorizable inference algorithms, we\n",
    "# will instead pursue inference based on Hamiltonian Monte Carlo (HMC).\n",
    "#\n",
    "# Our general inference strategy will be to:\n",
    "# 1. Introduce auxiliary variables to make the model Markov.\n",
    "# 2. Introduce more auxiliary variables to create a discrete parameterization.\n",
    "# 3. Marginalize out all remaining discrete latent variables.\n",
    "# 4. Vectorize to enable parallel-scan temporal filtering.\n",
    "#\n",
    "# Let's consider reparameterizing in terms of the variables (S, I) rather than\n",
    "# (S2I, I2R). Since these may lead to inconsistent states, we need to replace\n",
    "# the Binomial transition factors (S2I, I2R) with ExtendedBinomial.\n",
    "#\n",
    "# The following model is equivalent to the discrete_model:\n",
    "\n",
    "@config_enumerate\n",
    "def reparameterized_discrete_model(args, data):\n",
    "    # Sample global parameters.\n",
    "    rate_s, prob_i, rho = global_model(args.population)\n",
    "\n",
    "    # Sequentially sample time-local variables.\n",
    "    S_curr = torch.tensor(args.population - 1.)\n",
    "    I_curr = torch.tensor(1.)\n",
    "    for t, datum in enumerate(data):\n",
    "        # Sample reparameterizing variables.\n",
    "        # When reparameterizing to a factor graph, we ignored density via\n",
    "        # .mask(False). Thus distributions are used only for initialization.\n",
    "        S_prev, I_prev = S_curr, I_curr\n",
    "        S_curr = pyro.sample(\"S_{}\".format(t),\n",
    "                             dist.Binomial(args.population, 0.5).mask(False))\n",
    "        I_curr = pyro.sample(\"I_{}\".format(t),\n",
    "                             dist.Binomial(args.population, 0.5).mask(False))\n",
    "\n",
    "        # Now we reverse the computation.\n",
    "        S2I = S_prev - S_curr\n",
    "        I2R = I_prev - I_curr + S2I\n",
    "        pyro.sample(\"S2I_{}\".format(t),\n",
    "                    dist.ExtendedBinomial(S_prev, -(rate_s * I_prev).expm1()),\n",
    "                    obs=S2I)\n",
    "        pyro.sample(\"I2R_{}\".format(t),\n",
    "                    dist.ExtendedBinomial(I_prev, prob_i),\n",
    "                    obs=I2R)\n",
    "        pyro.sample(\"obs_{}\".format(t),\n",
    "                    dist.ExtendedBinomial(S2I, rho),\n",
    "                    obs=datum)\n",
    "\n"
   ]
  }
 ],
 "metadata": {
  "kernelspec": {
   "display_name": "Python 3",
   "language": "python",
   "name": "python3"
  },
  "language_info": {
   "codemirror_mode": {
    "name": "ipython",
    "version": 3
   },
   "file_extension": ".py",
   "mimetype": "text/x-python",
   "name": "python",
   "nbconvert_exporter": "python",
   "pygments_lexer": "ipython3",
   "version": "3.7.4"
  }
 },
 "nbformat": 4,
 "nbformat_minor": 2
}
